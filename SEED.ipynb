{
  "nbformat": 4,
  "nbformat_minor": 0,
  "metadata": {
    "colab": {
      "provenance": [],
      "gpuType": "T4",
      "mount_file_id": "1sODlP3Y9CIYShztpGO3Aq2OEyBp8ahhz",
      "authorship_tag": "ABX9TyPu7nmL8zGvRaDoo7uUgbeF",
      "include_colab_link": true
    },
    "kernelspec": {
      "name": "python3",
      "display_name": "Python 3"
    },
    "language_info": {
      "name": "python"
    },
    "accelerator": "GPU"
  },
  "cells": [
    {
      "cell_type": "markdown",
      "metadata": {
        "id": "view-in-github",
        "colab_type": "text"
      },
      "source": [
        "<a href=\"https://colab.research.google.com/github/Guo-Weiqiang/Master-Project/blob/main/SEED.ipynb\" target=\"_parent\"><img src=\"https://colab.research.google.com/assets/colab-badge.svg\" alt=\"Open In Colab\"/></a>"
      ]
    },
    {
      "cell_type": "code",
      "execution_count": 1,
      "metadata": {
        "id": "3azf08Yr0mhU"
      },
      "outputs": [],
      "source": [
        "import os\n",
        "from tqdm import tqdm\n",
        "import pandas as pd\n",
        "import numpy as np\n",
        "import torch\n",
        "import torch.nn as nn\n",
        "import torch.optim as optim\n",
        "from torch.utils.data import Dataset, TensorDataset, DataLoader\n",
        "from torchsummary import summary\n",
        "\n",
        "import matplotlib.pyplot as plt\n",
        "\n",
        "DEVICE = torch.device('cuda' if torch.cuda.is_available() else 'cpu')"
      ]
    },
    {
      "cell_type": "code",
      "source": [
        "\n",
        "class EEGNet_ReLU(torch.nn.Module):\n",
        "    def __init__(self, n_output):\n",
        "        super(EEGNet_ReLU, self).__init__()\n",
        "        # Adjusted kernel sizes and added more pooling\n",
        "        self.firstConv = nn.Sequential(\n",
        "            nn.Conv2d(1, 16, kernel_size=(1, 51), stride=(1, 1), padding=(0, 25), bias=False),\n",
        "            nn.BatchNorm2d(16),\n",
        "            nn.ReLU(),\n",
        "            nn.AvgPool2d(kernel_size=(1, 4))\n",
        "        )\n",
        "        # Since we have only one channel, the depthwise convolution is just a regular convolution here\n",
        "        # Adjust the number of output channels if necessary\n",
        "        self.depthwiseConv = nn.Sequential(\n",
        "            nn.Conv2d(16, 32, kernel_size=(62, 1), padding=0, bias=False),\n",
        "            nn.BatchNorm2d(32),\n",
        "            nn.ReLU(),\n",
        "            nn.AvgPool2d(kernel_size=(1, 8)),\n",
        "            nn.Flatten()\n",
        "        )\n",
        "        # The separable convolution may not be needed, depending on the dimensionality after depthwiseConv\n",
        "        self.classify = nn.Sequential(\n",
        "            # The input features to the classifier need to be calculated based on the previous layer's output\n",
        "            # nn.Linear(36992, 256, bias=True),\n",
        "            # nn.ReLU(),\n",
        "            nn.Linear(36992, n_output, bias=True)\n",
        "        )\n",
        "\n",
        "    def forward(self, x):\n",
        "        out = self.firstConv(x)\n",
        "        features = self.depthwiseConv(out)\n",
        "        # print(features.shape)\n",
        "        # out will have reduced dimensionality, you need to calculate 'in_features' based on this.\n",
        "        out = self.classify(features)\n",
        "        return out, features\n"
      ],
      "metadata": {
        "id": "D9ZAVyjVLdQt"
      },
      "execution_count": 12,
      "outputs": []
    },
    {
      "cell_type": "code",
      "source": [
        "def read_data():\n",
        "    \"\"\"\n",
        "    two subjects: S4b, X11b\n",
        "    The experiment consists of 3 sessions for each subject. Each session consists of 4 to 9 runs\n",
        "    \"\"\"\n",
        "    train_data = np.load('drive/MyDrive/EEGNet/processed_seed_dataset/subject1.npy')\n",
        "    test_data = np.load('drive/MyDrive/EEGNet/processed_seed_dataset/subject2.npy')\n",
        "\n",
        "    train_label = [2, 1, 0, 0, 1, 2, 0, 1, 2, 2, 1, 0, 1, 2, 0] * 3\n",
        "    test_label = [2, 1, 0, 0, 1, 2, 0, 1, 2, 2, 1, 0, 1, 2, 0] * 3\n",
        "\n",
        "\n",
        "    mask = np.where(np.isnan(train_data))\n",
        "    train_data[mask] = np.nanmean(train_data)\n",
        "\n",
        "    mask = np.where(np.isnan(test_data))\n",
        "    test_data[mask] = np.nanmean(test_data)\n",
        "\n",
        "    train_data = torch.from_numpy(train_data).float()\n",
        "    test_data = torch.from_numpy(test_data).float()\n",
        "    train_label = torch.tensor(train_label, dtype=torch.long)\n",
        "    test_label = torch.tensor(test_label, dtype=torch.long)\n",
        "    val_data = test_data\n",
        "    val_label = test_label\n",
        "\n",
        "    print(train_data.shape, train_label.shape, val_data.shape, val_label.shape, test_data.shape, test_label.shape)\n",
        "\n",
        "    return train_data, train_label, val_data, val_label, test_data, test_label"
      ],
      "metadata": {
        "id": "AHVqnjXwPxg9"
      },
      "execution_count": 13,
      "outputs": []
    },
    {
      "cell_type": "code",
      "source": [
        "source_data, source_label, val_data, val_label, target_data, target_label = read_data()"
      ],
      "metadata": {
        "id": "XTa5IB9jxPpy"
      },
      "execution_count": null,
      "outputs": []
    },
    {
      "cell_type": "code",
      "source": [
        "def test(dataloader, model):\n",
        "    model.eval()\n",
        "    size = len(dataloader.dataset)\n",
        "    correct = 0\n",
        "\n",
        "    with torch.no_grad():\n",
        "\n",
        "        for x, y in dataloader:\n",
        "            x, y = x.to(DEVICE), y.to(DEVICE)\n",
        "            y_pred, features = model(x)\n",
        "            correct += (torch.max(y_pred, 1)[1] == y).sum().item()\n",
        "\n",
        "    test_accuracy = correct / size\n",
        "    return test_accuracy, features\n",
        "\n",
        "\n",
        "def train(train_data, train_label, val_data, val_label, test_data, test_label, batch_size=15, epochs=500, lr=1e-3):\n",
        "    train_dataset = TensorDataset(train_data, train_label)\n",
        "    val_dataset = TensorDataset(val_data, val_label)\n",
        "    # test_dataset = TensorDataset(test_data, test_label)\n",
        "\n",
        "    train_loader = DataLoader(dataset=train_dataset, batch_size=batch_size, shuffle=True)\n",
        "    val_loader = DataLoader(dataset=val_dataset, batch_size=batch_size, shuffle=True)\n",
        "    # target_loader = DataLoader(dataset=target_dataset, batch_size=batch_size, shuffle=False)\n",
        "\n",
        "    model = EEGNet_ReLU(n_output=3).to(DEVICE)\n",
        "    # print(model)\n",
        "    loss_fn = nn.CrossEntropyLoss()\n",
        "\n",
        "    optimizer = optim.Adam(model.parameters(), lr=lr)\n",
        "    # optimizer = optim.RMSprop(model.parameters(),lr = lr, momentum = 0.2)\n",
        "    # optimizer = optim.SGD(model.parameters(), lr=lr, momentum=0.5, weight_decay=5e-4)\n",
        "\n",
        "    # model.cuda(0)\n",
        "    # summary(model.cuda(),(1, 62, 37001))\n",
        "\n",
        "    loss_history = []\n",
        "    train_accuracy_history = []\n",
        "    val_accuracy_history = []\n",
        "    test_accuracy_history = []\n",
        "\n",
        "    for epoch in tqdm(range(1, epochs + 1)):\n",
        "        model.train()\n",
        "\n",
        "        running_loss = 0.0\n",
        "        correct = 0\n",
        "        total = 0\n",
        "\n",
        "        for batch, (x, y) in enumerate(train_loader):\n",
        "            optimizer.zero_grad()\n",
        "\n",
        "            x, y = x.to(DEVICE), y.to(DEVICE)\n",
        "            y_pred, source_features = model(x)\n",
        "\n",
        "            loss = loss_fn(y_pred, y)\n",
        "            # loss_history.append(loss.item())\n",
        "\n",
        "            loss.backward()\n",
        "            optimizer.step()\n",
        "\n",
        "            running_loss += loss.item()\n",
        "            correct += (torch.max(y_pred,1)[1] == y).sum().item()\n",
        "            total += y.size(0)\n",
        "\n",
        "        train_accuracy = correct / total\n",
        "        train_accuracy_history.append(train_accuracy)\n",
        "        val_accuracy, _ = test(val_loader, model)\n",
        "        # test_accuracy, target_features = test(target_data, target_label, model, device)\n",
        "        val_accuracy_history.append(val_accuracy)\n",
        "\n",
        "        # print(\"epochs:\",epoch,\"loss:\",running_loss,\"D_s Accuracy:\",train_accuracy, \"D_t accuracy\", val_accuracy)\n",
        "\n",
        "\n",
        "    plt.figure(figsize=(8, 4))\n",
        "    # plt.plot(loss_history, label=\"Loss\")\n",
        "    plt.plot(train_accuracy_history, label='Train Accuracy')\n",
        "    plt.plot(val_accuracy_history, label='Validation Accuracy')\n",
        "    # plt.plot(test_accuracy_history, label='Test Accuracy')\n",
        "    plt.xlabel('Epochs')\n",
        "    plt.ylabel('Accuracy')\n",
        "    plt.legend()\n",
        "    plt.title('Accuracy Curve')\n",
        "    plt.grid(True)\n",
        "    plt.show()\n",
        "\n",
        "\n",
        "\n",
        "# source_data, source_label, val_data, val_label, target_data, target_label = read_data()\n",
        "train(source_data, source_label, val_data, val_label, target_data, target_label, batch_size=15, epochs=20, lr=1e-2)"
      ],
      "metadata": {
        "colab": {
          "base_uri": "https://localhost:8080/",
          "height": 427
        },
        "id": "4ZPSlPomPyUn",
        "outputId": "9d3271d3-0a4f-46ec-ee90-3db5ee042402"
      },
      "execution_count": 18,
      "outputs": [
        {
          "output_type": "stream",
          "name": "stderr",
          "text": [
            "100%|██████████| 20/20 [00:52<00:00,  2.60s/it]\n"
          ]
        },
        {
          "output_type": "display_data",
          "data": {
            "text/plain": [
              "<Figure size 800x400 with 1 Axes>"
            ],
            "image/png": "[encoded data removed]"
          },
          "metadata": {}
        }
      ]
    },
    {
      "cell_type": "code",
      "source": [],
      "metadata": {
        "id": "iUSj4w8LNUBp"
      },
      "execution_count": null,
      "outputs": []
    }
  ]
}