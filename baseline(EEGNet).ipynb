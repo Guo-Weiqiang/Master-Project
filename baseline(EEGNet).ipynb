{
  "cells": [
    {
      "cell_type": "markdown",
      "metadata": {
        "id": "view-in-github",
        "colab_type": "text"
      },
      "source": [
        "<a href=\"https://colab.research.google.com/github/Guo-Weiqiang/Master-Project/blob/main/baseline(EEGNet).ipynb\" target=\"_parent\"><img src=\"https://colab.research.google.com/assets/colab-badge.svg\" alt=\"Open In Colab\"/></a>"
      ]
    },
    {
      "cell_type": "code",
      "execution_count": 1,
      "metadata": {
        "id": "F5wbMP__ttuo"
      },
      "outputs": [],
      "source": [
        "import torch\n",
        "from torch.autograd import Variable\n",
        "import torchvision.models as models\n",
        "import torch.nn as nn\n",
        "import matplotlib.pyplot as plt\n",
        "from torch.utils.data import TensorDataset, DataLoader\n",
        "import numpy as np\n",
        "import torch.optim as optim\n",
        "import pandas as pd\n",
        "from torchsummary import summary\n",
        "import os\n",
        "import matplotlib.pyplot as plt\n",
        "from sklearn.manifold import TSNE\n",
        "import random\n",
        "from tqdm import tqdm\n",
        "from torch.optim.lr_scheduler import LambdaLR\n",
        "from torch.nn import init\n",
        "import torch.nn.functional as F\n",
        "\n",
        "\n",
        "# reproducible\n",
        "seed = 42\n",
        "torch.manual_seed(seed)\n",
        "torch.cuda.manual_seed(seed)\n",
        "torch.cuda.manual_seed_all(seed)\n",
        "np.random.seed(seed)\n",
        "random.seed(seed)\n",
        "torch.backends.cudnn.deterministic = True\n",
        "torch.backends.cudnn.benchmark = False\n",
        "\n",
        "DEVICE = torch.device(\"cuda\" if torch.cuda.is_available() else \"cpu\")\n",
        "SIGMA = 1\n",
        "\n",
        "# def init_weights(m):\n",
        "#     if type(m) == torch.nn.Linear or type(m) == torch.nn.Conv2d:\n",
        "#         init.xavier_uniform_(m.weight)\n",
        "#         if m.bias is not None:\n",
        "#             init.zeros_(m.bias)"
      ]
    },
    {
      "cell_type": "markdown",
      "metadata": {
        "id": "091UWFweuKdZ"
      },
      "source": [
        "TODO\n",
        "- literature study, online?\n",
        "- template, num of pages\n",
        "- train, val(s+t), test, MK-MMD\n",
        "- experiments (TCA, DANN, Ours)\n",
        "- Datasets acquisition\n",
        "- t-sne\n",
        "- multi-source\n",
        "- task transfer"
      ]
    },
    {
      "cell_type": "markdown",
      "metadata": {
        "id": "dutb1liBtTQm"
      },
      "source": [
        "- t sne plot(s/t domain, 不同的类不同颜色的点)\n",
        "- DaNN\n",
        "- Dataset(SEED)\n",
        "- multi-source\n",
        "- task transfer\n",
        "\n",
        "```\n",
        "# This is formatted as code\n",
        "```\n",
        "\n"
      ]
    },
    {
      "cell_type": "markdown",
      "metadata": {
        "id": "NkUQC7Xn9DAU"
      },
      "source": [
        "\n",
        "# Loss Part\n",
        "\n",
        "\n"
      ]
    },
    {
      "cell_type": "code",
      "execution_count": 2,
      "metadata": {
        "id": "pEkD60Yf9BzV"
      },
      "outputs": [],
      "source": [
        "# 1. 成熟的数据集上，与主流的结果比（调整一下架构）\n",
        "# 2. EEGNet 回归问题\n",
        "# 3. 联合分布\n",
        "\n",
        "# *. 可视化 t-sne 看看adapt之后的数据分布\n",
        "\n",
        "\n",
        "# def MMD(source, target):\n",
        "# \t\"\"\"\n",
        "# \tmmd loss(linear)\n",
        "# \t:param source: torch tensor: source data (Ds) with dimensions DxNs\n",
        "# \t:param target: torch tensor: target data (Dt) with dimensons DxNt\n",
        "# \t\"\"\"\n",
        "# \tdelta = source - target\n",
        "# \tloss = torch.mean(torch.mm(delta, torch.transpose(delta, 0, 1)))\n",
        "\n",
        "# \treturn loss\n",
        "\n",
        "\n",
        "# ref.\n",
        "# 1. https://github.com/thuml/Xlearn/blob/master/pytorch/src/loss.py\n",
        "# 2. https://github.com/MaterialsInformaticsDemo/DAN/blob/main/code/MK_MMD.py\n",
        "# 3. https://github.com/thuml/Transfer-Learning-Library/blob/master/tllib/alignment/dan.py\n",
        "def gaussian_kernel(source, target, kernel_mul=2.0, kernel_num=5, fix_sigma=None):\n",
        "    # The simplest version: K = \\beta * k where \\beta=1\n",
        "    n_samples_source = source.size(0)\n",
        "    n_samples_target = target.size(0)\n",
        "    total = torch.cat([source, target], dim=0)\n",
        "\n",
        "    # Calculate the L2 distance matrix efficiently using matrix operations.\n",
        "    total_xx = torch.sum(total * total, dim=1, keepdim=True)\n",
        "    L2_distance = total_xx - 2.0 * torch.matmul(total, total.t()) + total_xx.t()\n",
        "    if fix_sigma:\n",
        "        bandwidth = fix_sigma\n",
        "    else:\n",
        "        # Set the average value of distance matrix as the bandwidth\n",
        "        bandwidth = torch.sum(L2_distance.data) / (n_samples_source * n_samples_target - n_samples_source)\n",
        "\n",
        "    bandwidth /= kernel_mul ** (kernel_num // 2) #\n",
        "    # bandwidth range [2^{-4}*sigma, 2^4*sigma]\n",
        "    bandwidth_list = [bandwidth * (kernel_mul ** (1 * i)) for i in range(kernel_num)]\n",
        "    kernel_val = [torch.exp(-L2_distance / bandwidth_temp) for bandwidth_temp in bandwidth_list]\n",
        "\n",
        "    return sum(kernel_val) # final gaussian kernel matrix\n",
        "\n",
        "\n",
        "\n",
        "def MK_MMD(source, target, kernel_mul=2.0, kernel_num=5, fix_sigma=1.68): # fix_sigma from None to 1.68\n",
        "    n_s, n_t = source.size(0), target.size(0)\n",
        "\n",
        "    kernels = gaussian_kernel(source, target,\n",
        "        kernel_mul=kernel_mul, kernel_num=kernel_num, fix_sigma=fix_sigma)\n",
        "\n",
        "    # Efficiently calculate loss components using vectorized operations.\n",
        "    SS = torch.triu(kernels[:n_s, :n_s], diagonal=1).sum() / float(n_s * n_s)\n",
        "    TT = torch.triu(kernels[-n_t:, -n_t:], diagonal=1).sum() / float(n_t * n_t)\n",
        "    ST = -kernels[:n_s, -n_t:].sum() / float(n_s * n_t)\n",
        "    TS = -kernels[-n_t:, :n_s].sum() / float(n_s * n_t)\n",
        "\n",
        "    loss = torch.abs(SS + TT - ST - TS)\n",
        "\n",
        "    # return loss\n",
        "    # loss1 = torch.triu(kernels[:batch_size, :batch_size], diagonal=1).sum() + torch.triu(kernels[batch_size:, batch_size:], diagonal=1).sum()\n",
        "    # loss1 = loss1 / float(batch_size * batch_size / 2)\n",
        "\n",
        "    # loss2 = -kernels[:batch_size, batch_size:].sum() - kernels[batch_size:, :batch_size].sum()\n",
        "    # loss2 = loss2 / float(batch_size * batch_size)\n",
        "\n",
        "    return loss\n",
        "\n",
        "def MMD(Xs, Xt):\n",
        "    ns, nt = Xs.size(0), Xt.size(0)\n",
        "\n",
        "    # linear kernel version\n",
        "    mmd_s = (Xs @ Xs.t()).sum() / (ns * ns)\n",
        "    mmd_t = (Xt @ Xt.t()).sum() / (nt * nt)\n",
        "    mmd_st = (Xs @ Xt.t()).sum() * 2.0 / (ns * nt)\n",
        "    loss = mmd_s - mmd_st + mmd_t\n",
        "\n",
        "    return torch.abs(loss)\n",
        "\n",
        "\n",
        "def JMMD_Linear(source_list, target_list, kernel_muls=[2.0, 2.0, 2.0], kernel_nums=[5, 5, 1], fix_sigma_list=[None, None, 1.68]):\n",
        "    batch_size = int(source_list[0].size()[0])\n",
        "    layer_num = len(source_list)\n",
        "    joint_kernels = None\n",
        "    for i in range(layer_num):\n",
        "        source = source_list[i]\n",
        "        target = target_list[i]\n",
        "        kernel_mul = kernel_muls[i]\n",
        "        kernel_num = kernel_nums[i]\n",
        "        fix_sigma = fix_sigma_list[i]\n",
        "        kernels = gaussian_kernel(source, target,\n",
        "            kernel_mul=kernel_mul, kernel_num=kernel_num, fix_sigma=fix_sigma)\n",
        "        if joint_kernels is not None:\n",
        "            joint_kernels = joint_kernels * kernels\n",
        "        else:\n",
        "            joint_kernels = kernels\n",
        "\n",
        "    # Linear version\n",
        "    # loss = 0\n",
        "    # for i in range(batch_size):\n",
        "    #     s1, s2 = i, (i+1) % batch_size\n",
        "    #     t1, t2 = s1 + batch_size, s2 + batch_size\n",
        "    #     loss += joint_kernels[s1, s2] + joint_kernels[t1, t2]\n",
        "    #     loss -= joint_kernels[s1, t2] + joint_kernels[s2, t1]\n",
        "\n",
        "    s1 = torch.arange(batch_size)\n",
        "    s2 = (s1 + 1) % batch_size\n",
        "    t1 = s1 + batch_size\n",
        "    t2 = s2 + batch_size\n",
        "\n",
        "    # Compute the loss in a vectorized way\n",
        "    loss = torch.sum(joint_kernels[s1, s2] + joint_kernels[t1, t2] - joint_kernels[s1, t2] - joint_kernels[s2, t1])\n",
        "    return torch.abs(loss) / float(batch_size) # loss might be negative\n",
        "\n",
        "\n",
        "\n",
        "def _primal_kernel(Xs, Xt):\n",
        "    Z = torch.cat((Xs.T, Xt.T), 1)  # Xs / Xt: batch_size * k\n",
        "    return Z\n",
        "\n",
        "\n",
        "def _linear_kernel(Xs, Xt):\n",
        "    Z = torch.cat((Xs, Xt), 0)  # Xs / Xt: batch_size * k\n",
        "    K = torch.mm(Z, Z.T)\n",
        "    return K\n",
        "\n",
        "\n",
        "def _rbf_kernel(Xs, Xt, sigma):\n",
        "    if Xs.ndim == 1:\n",
        "        Xs = Xs.unsqueeze(1)\n",
        "    if Xt.ndim == 1:\n",
        "        Xt = Xt.unsqueeze(1)\n",
        "    Z = torch.cat((Xs, Xt), 0)\n",
        "    ZZT = torch.mm(Z, Z.T)\n",
        "    diag_ZZT = torch.diag(ZZT).unsqueeze(1)\n",
        "    Z_norm_sqr = diag_ZZT.expand_as(ZZT)\n",
        "    exponent = Z_norm_sqr - 2 * ZZT + Z_norm_sqr.T\n",
        "    K = torch.exp(-exponent / (2 * sigma ** 2))\n",
        "    return K\n",
        "\n",
        "# functions to compute the marginal MMD with rbf kernel\n",
        "def rbf_mmd(Xs, Xt, sigma):\n",
        "    device = Xs.device\n",
        "\n",
        "    K = _rbf_kernel(Xs, Xt, sigma)\n",
        "    m = Xs.size(0)  # assume Xs, Xt are same shape\n",
        "    e = torch.cat((1 / m * torch.ones(m, 1), -1 / m * torch.ones(m, 1)), 0).to(device)\n",
        "    M = e * e.T\n",
        "    tmp = torch.mm(torch.mm(K, M), K.T)\n",
        "    loss = torch.trace(tmp).to(device)\n",
        "    return loss\n",
        "\n",
        "# functions to compute rbf kernel JMMD\n",
        "def rbf_jmmd(Xs, Ys, Xt, Yt0, sigma):\n",
        "    device = Xs.device\n",
        "\n",
        "    K = _rbf_kernel(Xs, Xt, sigma)\n",
        "    n = K.size(0)\n",
        "    m = Xs.size(0)  # assume Xs, Xt are same shape\n",
        "    e = torch.cat((1 / m * torch.ones(m, 1), -1 / m * torch.ones(m, 1)), 0).to(device)\n",
        "    C = len(torch.unique(Ys))\n",
        "    M = e * e.T * C\n",
        "    for c in torch.unique(Ys):\n",
        "        e = torch.zeros(n, 1, device=device)\n",
        "        e[:m][Ys == c] = 1 / len(Ys[Ys == c])\n",
        "        if len(Yt0[Yt0 == c]) == 0:\n",
        "            e[m:][Yt0 == c] = 0\n",
        "        else:\n",
        "            e[m:][Yt0 == c] = -1 / len(Yt0[Yt0 == c])\n",
        "        M = M + e * e.T\n",
        "    M = M / torch.norm(M, p='fro')  # can reduce the training loss only for jmmd\n",
        "    tmp = torch.mm(torch.mm(K, M), K.T)\n",
        "    loss = torch.trace(tmp).to(device)\n",
        "    return loss\n",
        "\n",
        "\n",
        "def rbf_jpmmd(Xs, Ys, Xt, Yt0, sigma):\n",
        "    device = Xs.device\n",
        "\n",
        "    K = _rbf_kernel(Xs, Xt, sigma)\n",
        "    n = K.size(0)\n",
        "    m = Xs.size(0)  # assume Xs, Xt are same shape\n",
        "    M = 0\n",
        "    for c in torch.unique(Ys):\n",
        "        e = torch.zeros(n, 1, device=device)\n",
        "        e[:m] = 1 / len(Ys)\n",
        "        if len(Yt0[Yt0 == c]) == 0:\n",
        "            e[m:] = 0\n",
        "        else:\n",
        "            e[m:] = -1 / len(Yt0)\n",
        "        M = M + e * e.T\n",
        "    tmp = torch.mm(torch.mm(K, M), K.T)\n",
        "    loss = torch.trace(tmp).to(device)\n",
        "    return loss\n",
        "\n",
        "\n",
        "# functions to compute rbf kernel DJP-MMD\n",
        "def rbf_djpmmd(Xs, Ys, Xt, Yt0, sigma):\n",
        "    # Assuming _rbf_kernel is already optimized and running on the correct device\n",
        "    K = _rbf_kernel(Xs, Xt, sigma)\n",
        "    m, C = Xs.size(0), 2  # Assuming number of classes C is fixed at 2\n",
        "\n",
        "    # Ensure all tensors start on the same device, ideally on the GPU if available\n",
        "    device = Xs.device\n",
        "    Ns = torch.zeros(m, C, device=device).scatter_(1, Ys.unsqueeze(1), 1) / m\n",
        "    Nt = torch.zeros(m, C, device=device)\n",
        "    if len(torch.unique(Yt0)) == 1:\n",
        "        Nt = torch.zeros(m, C, device=device).scatter_(1, Yt0.unsqueeze(1), 1) / m\n",
        "\n",
        "    Rmin_1 = torch.cat((torch.mm(Ns, Ns.T), torch.mm(-Ns, Nt.T)), 0)\n",
        "    Rmin_2 = torch.cat((torch.mm(-Nt, Ns.T), torch.mm(Nt, Nt.T)), 0)\n",
        "    Rmin = torch.cat((Rmin_1, Rmin_2), 1)\n",
        "\n",
        "    # For discriminability\n",
        "    Ms = torch.empty(m, (C - 1) * C).to(device)\n",
        "    Mt = torch.empty(m, (C - 1) * C).to(device)\n",
        "    for i in range(0, C):\n",
        "        idx = torch.arange((C - 1) * i, (C - 1) * (i + 1))\n",
        "        Ms[:, idx] = Ns[:, i].repeat(C - 1, 1).T\n",
        "        tmp = torch.arange(0, C)\n",
        "        Mt[:, idx] = Nt[:, tmp[tmp != i]]\n",
        "    Rmax_1 = torch.cat((torch.mm(Ms, Ms.T), torch.mm(-Ms, Mt.T)), 0)\n",
        "    Rmax_2 = torch.cat((torch.mm(-Mt, Ms.T), torch.mm(Mt, Mt.T)), 0)\n",
        "    Rmax = torch.cat((Rmax_1, Rmax_2), 1)\n",
        "\n",
        "    M = Rmin - 0.1 * Rmax\n",
        "    # M = Rmin + Rmax\n",
        "    # Operate in the same device as K and M to avoid device transfers\n",
        "    tmp = torch.mm(torch.mm(K, M), K.T).to(device)\n",
        "    loss = torch.trace(tmp)\n",
        "\n",
        "    return loss\n",
        "\n",
        "\n",
        "def compute_sigma(H):\n",
        "    dists = torch.pdist(H)\n",
        "    sigma = dists.median() / 2\n",
        "\n",
        "    return sigma.detach()\n",
        "\n",
        "def GaussianMatrix(X, Y, sigma, if_use_cdist=False, median_sigma = False):\n",
        "    if not if_use_cdist:\n",
        "        size1 = X.size()\n",
        "        size2 = Y.size()\n",
        "        G = (X*X).sum(-1)\n",
        "        H = (Y*Y).sum(-1)\n",
        "        Q = G.unsqueeze(-1).repeat(1,size2[0])\n",
        "        R = H.unsqueeze(-1).T.repeat(size1[0],1)\n",
        "        # print(G.shape, R.shape, X.shape, Y.shape, Q.shape, R.shape)\n",
        "        H = Q + R - 2 * X @ (Y.T)\n",
        "    else:\n",
        "        H = torch.cdist(X, Y, p=2) ** 2\n",
        "\n",
        "    if sigma > 0:\n",
        "        H = torch.exp(-H / 2 / sigma ** 2)\n",
        "    else:\n",
        "        if median_sigma:\n",
        "            sigma = compute_sigma(H)\n",
        "            H = torch.exp(-H / 2 / sigma / 2)\n",
        "        else:\n",
        "            sigma = H.mean().detach()\n",
        "            H = torch.exp(-H / sigma)\n",
        "\n",
        "    return H\n",
        "\n",
        "\n",
        "\n",
        "# CKB loss\n",
        "def CCS(x1, x2, y1, y2, sigma=1, if_use_cdist=False, median_sigma=False):\n",
        "    # Input: N x d\n",
        "\n",
        "    # K1 = GaussianMatrix(x1, x1, sigma, if_use_cdist, median_sigma) # a lot of 0 (1560)\n",
        "    K1 = _rbf_kernel(x1, x1, sigma)\n",
        "    # print('K1', K1)\n",
        "\n",
        "    # K2 = GaussianMatrix(x2, x2, sigma, if_use_cdist, median_sigma) # 1560 0\n",
        "    K2 = _rbf_kernel(x2, x2, sigma)\n",
        "    # print('K2', K2)\n",
        "    # L1 = GaussianMatrix(y1, y1, sigma, if_use_cdist, median_sigma)\n",
        "    L1 = _rbf_kernel(y1, y1, sigma)\n",
        "    # print('L1', L1)\n",
        "    # L2 = GaussianMatrix(y2, y2, sigma, if_use_cdist, median_sigma)\n",
        "    L2 = _rbf_kernel(y2, y2, sigma)\n",
        "    # print('L2', L2)\n",
        "\n",
        "    #print(x1.shape, x2.shape, y1.shape, y2.shape, K1.shape, K2.shape, L1.shape, L2.shape)\n",
        "\n",
        "    # K12 = GaussianMatrix(x1, x2, sigma, if_use_cdist, median_sigma) # nan happens  1600 0 ---> all zeros --> makes the later part nan\n",
        "    # L12 = GaussianMatrix(y1, y2, sigma, if_use_cdist, median_sigma) #\n",
        "    K12 = _rbf_kernel(x1, x2, sigma)\n",
        "    L12 = _rbf_kernel(y1, y2, sigma)\n",
        "    # print('K12', K12)\n",
        "    # print('L12', L12)\n",
        "    # print('K12*L12', K12 * L12)\n",
        "\n",
        "    # K21 = GaussianMatrix(x2, x1, sigma, if_use_cdist, median_sigma) # nan happens  1600 0\n",
        "    # L21 = GaussianMatrix(y2, y1, sigma, if_use_cdist, median_sigma)\n",
        "    K21 = _rbf_kernel(x2, x1, sigma)\n",
        "    L21 = _rbf_kernel(y2, y1, sigma)\n",
        "    # print('K21', K21)\n",
        "    # print('L21', L21)\n",
        "    # print('K21*L21', K21 * L21)\n",
        "\n",
        "    H1 = K1 * L1 # 1560 0\n",
        "    self_term1 = (H1.sum(-1) / ((K1.sum(-1)) ** 2)).sum(0) #\n",
        "    assert not torch.isnan(self_term1).any(), \"self_term1 contains NaN\"\n",
        "\n",
        "    H2 = K2 * L2\n",
        "    self_term2 = (H2.sum(-1) / ((K2.sum(-1)) ** 2)).sum(0)\n",
        "    assert not torch.isnan(self_term2).any(), 'self_term2 contains NaN'\n",
        "\n",
        "    ##################################DEBUG#################################################\n",
        "    H3 = K12 * L12\n",
        "    cross_term1 = (H3.sum(-1) / ((K1.sum(-1)) * (K12.sum(-1)))).sum(0)# # nan first happens\n",
        "    # print('1', H3.sum(-1))\n",
        "    # print('2', ((K1.sum(-1)) * (K12.sum(-1))))\n",
        "    # print('3', (H3.sum(-1) / ((K1.sum(-1)) * (K12.sum(-1)))))\n",
        "    # print(cross_term1)\n",
        "    assert not torch.isnan(cross_term1).any(), 'cross_term1 contains NaN'\n",
        "    ##################################DEBUG################################################\n",
        "    H4 = K21 * L21\n",
        "    cross_term2 = (H4.sum(-1) / ((K2.sum(-1))*(K21.sum(-1)))).sum(0)\n",
        "    assert not torch.isnan(cross_term1).any(), 'cross_term2 contains NaN'\n",
        "    # print(cross_term1.item(), cross_term2.item(), self_term1.item(), self_term2.item())\n",
        "\n",
        "    # cs1 = -2*torch.log(cross_term1) + torch.log(self_term1) + torch.log(self_term2)\n",
        "    # cs2 = -2*torch.log(cross_term2) + torch.log(self_term1) + torch.log(self_term2)\n",
        "    ccs = -torch.log(cross_term1 + 1e-10) - torch.log(cross_term2 + 1e-10) + torch.log(self_term1 + 1e-10) + torch.log(self_term2 + 1e-10)\n",
        "\n",
        "\n",
        "    return ccs\n",
        "\n",
        "def CS(x1, x2, sigma = 10, if_use_cdist=False, median_sigma=False):\n",
        "    K1 = GaussianMatrix(x1, x1, sigma, if_use_cdist, median_sigma)\n",
        "    K2 = GaussianMatrix(x2, x2, sigma, if_use_cdist, median_sigma)\n",
        "\n",
        "    K12 = GaussianMatrix(x1, x2, sigma, if_use_cdist, median_sigma)\n",
        "\n",
        "    # K1 = _rbf_kernel(x1, x1, sigma)\n",
        "    # K2 = _rbf_kernel(x2, x2, sigma)\n",
        "    # K12 = _rbf_kernel(x1, x2, sigma)\n",
        "\n",
        "    dim1 = K1.shape[0]\n",
        "    self_term1 = K1.sum() / (dim1**2)\n",
        "\n",
        "    dim2 = K2.shape[0]\n",
        "    self_term2 = K2.sum() / (dim2**2)\n",
        "\n",
        "    cross_term = K12.sum() / (dim1*dim2)\n",
        "\n",
        "    cs =  -2 * torch.log(cross_term + 1e-10) + torch.log(self_term1 + 1e-10) + torch.log(self_term2 + 1e-10)\n",
        "\n",
        "    return cs"
      ]
    },
    {
      "cell_type": "markdown",
      "metadata": {
        "id": "tBgg7YUufrAA"
      },
      "source": []
    },
    {
      "cell_type": "markdown",
      "metadata": {
        "id": "tz0TyhOYIJy4"
      },
      "source": [
        "# 1. Model Part"
      ]
    },
    {
      "cell_type": "code",
      "execution_count": 3,
      "metadata": {
        "id": "tL8zvoF135Ef"
      },
      "outputs": [],
      "source": [
        "\n",
        "\n",
        "# ref.\n",
        "# 1. https://github.com/agrija9/Deep-Unsupervised-Domain-Adaptation/blob/master/DDC/model.py\n",
        "class EEGNet_ReLU(torch.nn.Module):\n",
        "    def __init__(self, n_output):\n",
        "        super(EEGNet_ReLU, self).__init__()\n",
        "        self.firstConv = nn.Sequential(\n",
        "            nn.Conv2d(1, 16, kernel_size=(1,51), stride=(1,1), padding=(0,25),bias=False),\n",
        "            nn.BatchNorm2d(16, eps=1e-05, momentum=0.1, affine=True, track_running_stats=True)\n",
        "        )\n",
        "        self.depthwiseConv = nn.Sequential(\n",
        "            nn.Conv2d(16, 32, kernel_size=(2,1), stride=(1,1), groups=8,bias=False),\n",
        "            nn.BatchNorm2d(32, eps=1e-05, momentum=0.1, affine=True, track_running_stats=True),\n",
        "            nn.ReLU(),\n",
        "            nn.AvgPool2d(kernel_size=(1,4), stride=(1,4),padding=0),\n",
        "            nn.Dropout(p=0.35)\n",
        "        )\n",
        "        self.separableConv = nn.Sequential(\n",
        "            nn.Conv2d(32, 32, kernel_size=(1,15), stride=(1,1), padding=(0,7),bias=False),\n",
        "            nn.BatchNorm2d(32, eps=1e-05, momentum=0.1, affine=True, track_running_stats=True),\n",
        "            nn.ReLU(),\n",
        "            nn.AvgPool2d(kernel_size=(1,8), stride=(1,8),padding=0),\n",
        "            nn.Dropout(p=0.35),\n",
        "            nn.Flatten()\n",
        "        )\n",
        "        self.classify = nn.Sequential(\n",
        "            # nn.Linear(736, 256),\n",
        "            # nn.ReLU(inplace=True),\n",
        "            # nn.Linear(256, 256),\n",
        "            # nn.ReLU(inplace=True),\n",
        "            # nn.Linear(256, n_output, bias=True)\n",
        "\n",
        "            # original classifier\n",
        "            nn.Linear(736, n_output, bias=True)\n",
        "        )\n",
        "\n",
        "    def forward(self, x):\n",
        "        out = self.firstConv(x)\n",
        "        out = self.depthwiseConv(out)\n",
        "        features = self.separableConv(out)\n",
        "        out = self.classify(features)\n",
        "        return out, features\n",
        "\n",
        "\n",
        "\n",
        "\n",
        "class EEGNet_DDC(nn.Module):\n",
        "    \"\"\"\n",
        "    Deep domain confusion network as defined in the paper:\n",
        "    https://arxiv.org/abs/1412.3474\n",
        "        :param num_classes: int\n",
        "    \"\"\"\n",
        "    def __init__(self, num_classes):\n",
        "        super(EEGNet_DDC, self).__init__()\n",
        "        self.firstConv = nn.Sequential(\n",
        "            nn.Conv2d(1, 16, kernel_size=(1,51), stride=(1,1), padding=(0,25),bias=False),\n",
        "            nn.BatchNorm2d(16, eps=1e-05, momentum=0.1, affine=True, track_running_stats=True)\n",
        "        )\n",
        "        self.depthwiseConv = nn.Sequential(\n",
        "            nn.Conv2d(16, 32, kernel_size=(2,1), stride=(1,1), groups=8,bias=False),\n",
        "            nn.BatchNorm2d(32, eps=1e-05, momentum=0.1, affine=True, track_running_stats=True),\n",
        "            nn.ReLU(),\n",
        "            nn.AvgPool2d(kernel_size=(1,4), stride=(1,4),padding=0),\n",
        "            nn.Dropout(p=0.35)\n",
        "        )\n",
        "        self.separableConv = nn.Sequential(\n",
        "            nn.Conv2d(32, 32, kernel_size=(1,15), stride=(1,1), padding=(0,7),bias=False),\n",
        "            nn.BatchNorm2d(32, eps=1e-05, momentum=0.1, affine=True, track_running_stats=True),\n",
        "            nn.ReLU(),\n",
        "            nn.AvgPool2d(kernel_size=(1,8), stride=(1,8),padding=0),\n",
        "            nn.Dropout(p=0.35),\n",
        "            nn.Flatten(),\n",
        "        )\n",
        "\n",
        "        # Ref. bottleneck in the paper\n",
        "        # Our intuition is that a lower dimensional layer can be used to regularize the training of the source classiﬁer and prevent overﬁtting to the particular nuances of the source distribution\n",
        "        self.bottleneck = nn.Sequential(\n",
        "            nn.Linear(736, 256),\n",
        "            nn.ReLU(inplace=True)\n",
        "            # nn.Linear(256, 256),\n",
        "            # nn.ReLU(inplace=True),\n",
        "        )\n",
        "\n",
        "        self.classifier = nn.Sequential(\n",
        "            # nn.Flatten(),\n",
        "            nn.Linear(256, num_classes, bias=True)\n",
        "        )\n",
        "\n",
        "        # # fc8 activation (final_classifier)\n",
        "        # # self.fc8 = nn.Linear(736, num_classes)\n",
        "        # self.classifier = nn.Sequential(\n",
        "        #     nn.Linear(256, num_classes, bias=True)\n",
        "        # )\n",
        "\n",
        "    def forward(self, source, target):\n",
        "        source = self.firstConv(source)\n",
        "        source = self.depthwiseConv(source)\n",
        "        features_src = self.separableConv(source)\n",
        "        source = self.bottleneck(features_src)\n",
        "        # print(source.shape)\n",
        "\n",
        "        mmd_loss = 0\n",
        "        target = self.firstConv(target)\n",
        "        target = self.depthwiseConv(target)\n",
        "        features_tar = self.separableConv(target)\n",
        "        target = self.bottleneck(features_tar)\n",
        "        # print(target.shape)\n",
        "        mmd_loss += MMD(source, target)\n",
        "\n",
        "        result = self.classifier(source)\n",
        "\n",
        "        return result, mmd_loss, source, target\n",
        "\n",
        "\n",
        "class EEGNet_DAN(nn.Module):\n",
        "    \"\"\"\n",
        "    Deep domain confusion network as defined in the paper:\n",
        "    https://arxiv.org/abs/1412.3474\n",
        "        :param num_classes: int\n",
        "    \"\"\"\n",
        "    def __init__(self, num_classes):\n",
        "        super(EEGNet_DAN, self).__init__()\n",
        "        self.firstConv = nn.Sequential(\n",
        "            nn.Conv2d(1, 16, kernel_size=(1,51), stride=(1,1), padding=(0,25),bias=False),\n",
        "            nn.BatchNorm2d(16, eps=1e-05, momentum=0.1, affine=True, track_running_stats=True)\n",
        "        )\n",
        "        self.depthwiseConv = nn.Sequential(\n",
        "            nn.Conv2d(16, 32, kernel_size=(2,1), stride=(1,1), groups=8,bias=False),\n",
        "            nn.BatchNorm2d(32, eps=1e-05, momentum=0.1, affine=True, track_running_stats=True),\n",
        "            nn.ReLU(),\n",
        "            nn.AvgPool2d(kernel_size=(1,4), stride=(1,4),padding=0),\n",
        "            nn.Dropout(p=0.35)\n",
        "        )\n",
        "        self.separableConv = nn.Sequential(\n",
        "            nn.Conv2d(32, 32, kernel_size=(1,15), stride=(1,1), padding=(0,7),bias=False),\n",
        "            nn.BatchNorm2d(32, eps=1e-05, momentum=0.1, affine=True, track_running_stats=True),\n",
        "            nn.ReLU(),\n",
        "            nn.AvgPool2d(kernel_size=(1,8), stride=(1,8),padding=0),\n",
        "            nn.Dropout(p=0.35),\n",
        "            nn.Flatten()\n",
        "        )\n",
        "\n",
        "        # Ref. bottleneck in the paper\n",
        "        # Our intuition is that a lower dimensional layer can be used to regularize the training of the source classiﬁer and prevent overﬁtting to the particular nuances of the source distribution\n",
        "        self.bottleneck1 = nn.Sequential(\n",
        "            nn.Linear(736, 256),\n",
        "            nn.ReLU(inplace=True)\n",
        "\n",
        "            # nn.Linear(256, 256),\n",
        "            # nn.ReLU(inplace=True)\n",
        "        )\n",
        "        self.bottleneck2 = nn.Sequential(\n",
        "            nn.Linear(256, 256),\n",
        "            nn.ReLU(inplace=True)\n",
        "        )\n",
        "\n",
        "        self.classifier = nn.Sequential(\n",
        "            # nn.Flatten(),\n",
        "            nn.Linear(256, num_classes, bias=True)\n",
        "        )\n",
        "\n",
        "        # # fc8 activation (final_classifier)\n",
        "        # # self.fc8 = nn.Linear(736, num_classes)\n",
        "        # self.classifier = nn.Sequential(\n",
        "        #     nn.Linear(256, num_classes, bias=True)\n",
        "        # )\n",
        "\n",
        "    def forward(self, source, target):\n",
        "        source = self.firstConv(source)\n",
        "        source = self.depthwiseConv(source)\n",
        "        source = self.separableConv(source)\n",
        "        f1_s = self.bottleneck1(source)\n",
        "        f2_s = self.bottleneck2(f1_s)\n",
        "        # print(source.shape)\n",
        "\n",
        "        # if self.training:\n",
        "        target = self.firstConv(target)\n",
        "        target = self.depthwiseConv(target)\n",
        "        target = self.separableConv(target)\n",
        "        f1_t = self.bottleneck1(target)\n",
        "        f2_t = self.bottleneck2(f1_t)\n",
        "        mmd_loss1 = MK_MMD(f1_s, f1_t)\n",
        "        mmd_loss2 = MK_MMD(f2_s, f2_t)\n",
        "\n",
        "        result_s = self.classifier(f2_s)\n",
        "        result_t = self.classifier(f2_t)\n",
        "        mmd_loss3 = MK_MMD(result_s, result_t) # P(Y)\n",
        "        mmd_loss = 1 * mmd_loss1 + 1 * mmd_loss2 + 1 * mmd_loss3\n",
        "\n",
        "        return result_s, mmd_loss, f2_s, f2_t\n",
        "\n",
        "\n",
        "\n",
        "class EEGNet_JAN(nn.Module):\n",
        "    \"\"\"\n",
        "    Deep domain confusion network as defined in the paper:\n",
        "    https://arxiv.org/abs/1412.3474\n",
        "        :param num_classes: int\n",
        "    \"\"\"\n",
        "    def __init__(self, num_classes):\n",
        "        super(EEGNet_JAN, self).__init__()\n",
        "        self.firstConv = nn.Sequential(\n",
        "            nn.Conv2d(1, 16, kernel_size=(1,51), stride=(1,1), padding=(0,25),bias=False),\n",
        "            nn.BatchNorm2d(16, eps=1e-05, momentum=0.1, affine=True, track_running_stats=True)\n",
        "        )\n",
        "        self.depthwiseConv = nn.Sequential(\n",
        "            nn.Conv2d(16, 32, kernel_size=(2,1), stride=(1,1), groups=8,bias=False),\n",
        "            nn.BatchNorm2d(32, eps=1e-05, momentum=0.1, affine=True, track_running_stats=True),\n",
        "            nn.ReLU(),\n",
        "            nn.AvgPool2d(kernel_size=(1,4), stride=(1,4),padding=0),\n",
        "            nn.Dropout(p=0.35)\n",
        "        )\n",
        "        self.separableConv = nn.Sequential(\n",
        "            nn.Conv2d(32, 32, kernel_size=(1,15), stride=(1,1), padding=(0,7),bias=False),\n",
        "            nn.BatchNorm2d(32, eps=1e-05, momentum=0.1, affine=True, track_running_stats=True),\n",
        "            nn.ReLU(),\n",
        "            nn.AvgPool2d(kernel_size=(1,8), stride=(1,8),padding=0),\n",
        "            nn.Dropout(p=0.35),\n",
        "            nn.Flatten()\n",
        "        )\n",
        "\n",
        "        # Ref. bottleneck in the paper\n",
        "        # Our intuition is that a lower dimensional layer can be used to regularize the training of the source classiﬁer and prevent overﬁtting to the particular nuances of the source distribution\n",
        "        self.bottleneck1 = nn.Sequential(\n",
        "            nn.Linear(736, 256),\n",
        "            nn.ReLU(inplace=True)\n",
        "\n",
        "            # nn.Linear(256, 256),\n",
        "            # nn.ReLU(inplace=True)\n",
        "        )\n",
        "        self.bottleneck2 = nn.Sequential(\n",
        "            nn.Linear(256, 256),\n",
        "            nn.ReLU(inplace=True)\n",
        "        )\n",
        "\n",
        "        self.classifier = nn.Sequential(\n",
        "            nn.Linear(256, num_classes, bias=True)\n",
        "        )\n",
        "\n",
        "        # # fc8 activation (final_classifier)\n",
        "        # # self.fc8 = nn.Linear(736, num_classes)\n",
        "        # self.classifier = nn.Sequential(\n",
        "        #     nn.Linear(256, num_classes, bias=True)\n",
        "        # )\n",
        "\n",
        "    def forward(self, source, target):\n",
        "        source = self.firstConv(source)\n",
        "        source = self.depthwiseConv(source)\n",
        "        source = self.separableConv(source)\n",
        "        f1_s = self.bottleneck1(source)\n",
        "        f2_s = self.bottleneck2(f1_s)\n",
        "        # print(source.shape)\n",
        "\n",
        "        # if self.training:\n",
        "        target = self.firstConv(target)\n",
        "        target = self.depthwiseConv(target)\n",
        "        target = self.separableConv(target)\n",
        "        f1_t = self.bottleneck1(target)\n",
        "        f2_t = self.bottleneck2(f1_t)\n",
        "        result_s = self.classifier(f2_s)\n",
        "        result_t = self.classifier(f2_t)\n",
        "\n",
        "        source_list = [f1_s, f2_s, result_s]\n",
        "        target_list = [f1_t, f2_t, result_t]\n",
        "        mmd_loss = JMMD_Linear(source_list, target_list) # P(Y)\n",
        "\n",
        "        return result_s, mmd_loss, f2_s, f2_t\n",
        "\n",
        "\n",
        "class EEGNet_DA1(torch.nn.Module):\n",
        "    def __init__(self, n_output):\n",
        "        super(EEGNet_DA1, self).__init__()\n",
        "        self.firstConv = nn.Sequential(\n",
        "            nn.Conv2d(1, 16, kernel_size=(1,51), stride=(1,1), padding=(0,25),bias=False),\n",
        "            nn.BatchNorm2d(16, eps=1e-05, momentum=0.1, affine=True, track_running_stats=True)\n",
        "        )\n",
        "        self.depthwiseConv = nn.Sequential(\n",
        "            nn.Conv2d(16, 32, kernel_size=(2,1), stride=(1,1), groups=8,bias=False),\n",
        "            nn.BatchNorm2d(32, eps=1e-05, momentum=0.1, affine=True, track_running_stats=True),\n",
        "            nn.ReLU(),\n",
        "            nn.AvgPool2d(kernel_size=(1,4), stride=(1,4),padding=0),\n",
        "            nn.Dropout(p=0.35)\n",
        "        )\n",
        "        self.separableConv = nn.Sequential(\n",
        "            nn.Conv2d(32, 32, kernel_size=(1,15), stride=(1,1), padding=(0,7),bias=False),\n",
        "            nn.BatchNorm2d(32, eps=1e-05, momentum=0.1, affine=True, track_running_stats=True),\n",
        "            nn.ReLU(),\n",
        "            nn.AvgPool2d(kernel_size=(1,8), stride=(1,8),padding=0),\n",
        "            nn.Dropout(p=0.35),\n",
        "            nn.Flatten()\n",
        "        )\n",
        "        self.bottleneck = nn.Sequential(\n",
        "            nn.Linear(736, 256),\n",
        "            nn.ReLU(inplace=True)\n",
        "        )\n",
        "        self.classify = nn.Sequential(\n",
        "            # original classifier\n",
        "            nn.Linear(256, n_output, bias=True)\n",
        "        )\n",
        "\n",
        "    def forward(self, source, target):\n",
        "        out = self.firstConv(source)\n",
        "        out = self.depthwiseConv(out)\n",
        "        out = self.separableConv(out)\n",
        "        features_src = self.bottleneck(out)\n",
        "        out = self.classify(features_src)\n",
        "\n",
        "        target = self.firstConv(target)\n",
        "        target = self.depthwiseConv(target)\n",
        "        target = self.separableConv(target)\n",
        "        features_tar = self.bottleneck(target)\n",
        "\n",
        "        return out, features_src, features_tar"
      ]
    },
    {
      "cell_type": "markdown",
      "metadata": {
        "id": "paEVHNhM2W8F"
      },
      "source": [
        "# 2. Loss Part"
      ]
    },
    {
      "cell_type": "code",
      "execution_count": 3,
      "metadata": {
        "id": "zFMPwSNIKMSO"
      },
      "outputs": [],
      "source": []
    },
    {
      "cell_type": "markdown",
      "metadata": {
        "id": "ilD_bmMl2ZG4"
      },
      "source": [
        "# 3. Evaluation Part"
      ]
    },
    {
      "cell_type": "markdown",
      "metadata": {
        "id": "SebBenbu5iHP"
      },
      "source": [
        "## 3.1 Data Import"
      ]
    },
    {
      "cell_type": "code",
      "execution_count": 4,
      "metadata": {
        "colab": {
          "base_uri": "https://localhost:8080/"
        },
        "id": "H3i_nuKSG9Nf",
        "outputId": "33eb8199-a5dd-47be-8f8e-528f6dc3c63e"
      },
      "outputs": [
        {
          "output_type": "stream",
          "name": "stdout",
          "text": [
            "torch.Size([1080, 1, 2, 750]) torch.Size([1080]) torch.Size([1080, 1, 2, 750]) torch.Size([1080]) torch.Size([1080, 1, 2, 750]) torch.Size([1080])\n"
          ]
        }
      ],
      "source": [
        "import numpy as np\n",
        "\n",
        "\n",
        "def read_bci_data():\n",
        "    \"\"\"\n",
        "    two subjects: S4b, X11b\n",
        "    The experiment consists of 3 sessions for each subject. Each session consists of 4 to 9 runs\n",
        "    \"\"\"\n",
        "    S4b_train = np.load('drive/MyDrive/EEGNet/S4b_train.npz')\n",
        "    X11b_train = np.load('drive/MyDrive/EEGNet/X11b_train.npz')\n",
        "    S4b_test = np.load('drive/MyDrive/EEGNet/S4b_test.npz')\n",
        "    X11b_test = np.load('drive/MyDrive/EEGNet/X11b_test.npz')\n",
        "\n",
        "    source_data = np.concatenate((S4b_train['signal'], S4b_test['signal']), axis=0)\n",
        "    source_label = np.concatenate((S4b_train['label'], S4b_test['label']), axis=0)\n",
        "    target_data = np.concatenate((X11b_train['signal'], X11b_test['signal']), axis=0)\n",
        "    target_label = np.concatenate((X11b_train['label'], X11b_test['label']), axis=0)\n",
        "\n",
        "    source_label = source_label - 1\n",
        "    target_label = target_label - 1\n",
        "    source_data = np.transpose(np.expand_dims(source_data, axis=1), (0, 1, 3, 2))\n",
        "    target_data = np.transpose(np.expand_dims(target_data, axis=1), (0, 1, 3, 2))\n",
        "\n",
        "    mask = np.where(np.isnan(source_data))\n",
        "    source_data[mask] = np.nanmean(source_data)\n",
        "\n",
        "\n",
        "    mask = np.where(np.isnan(target_data))\n",
        "    target_data[mask] = np.nanmean(target_data)\n",
        "\n",
        "\n",
        "    source_data = torch.from_numpy(source_data).float()\n",
        "    target_data = torch.from_numpy(target_data).float()\n",
        "    source_label = torch.tensor(source_label, dtype=torch.long)\n",
        "    target_label = torch.tensor(target_label, dtype=torch.long)\n",
        "    val_data = target_data\n",
        "    val_label = target_label\n",
        "\n",
        "    print(source_data.shape, source_label.shape, val_data.shape, val_label.shape, target_data.shape, target_label.shape)\n",
        "\n",
        "    return source_data, source_label, val_data, val_label, target_data, target_label\n",
        "\n",
        "\n",
        "source_data, source_label, val_data, val_label, target_data, target_label = read_bci_data()\n"
      ]
    },
    {
      "cell_type": "markdown",
      "metadata": {
        "id": "T8OSFRJe-Uom"
      },
      "source": [
        "### T-SNE Visualization"
      ]
    },
    {
      "cell_type": "code",
      "execution_count": 5,
      "metadata": {
        "colab": {
          "base_uri": "https://localhost:8080/"
        },
        "id": "MbFSknOH2L1N",
        "outputId": "4e19b519-54b6-4e30-e383-20fc0c2ac08b"
      },
      "outputs": [
        {
          "output_type": "stream",
          "name": "stdout",
          "text": [
            "(1080,) (1080,)\n",
            "Value: 0, Count: 540\n",
            "Value: 1, Count: 540\n",
            "Value: 0, Count: 540\n",
            "Value: 1, Count: 540\n",
            "540 540 540 540\n"
          ]
        }
      ],
      "source": [
        "s = source_label.numpy()\n",
        "t = val_label.numpy()\n",
        "print(s.shape, t.shape)\n",
        "\n",
        "unique_values, counts = np.unique(s, return_counts=True)\n",
        "\n",
        "for value, count in zip(unique_values, counts):\n",
        "    print(f\"Value: {value}, Count: {count}\")\n",
        "\n",
        "unique_values, counts = np.unique(t, return_counts=True)\n",
        "\n",
        "for value, count in zip(unique_values, counts):\n",
        "    print(f\"Value: {value}, Count: {count}\")\n",
        "\n",
        "source_class0_index = np.where(s == 0.0)\n",
        "source_class1_index = np.where(s == 1.0)\n",
        "target_class0_index = np.where(t == 0.0)\n",
        "target_class1_index = np.where(t == 1.0)\n",
        "\n",
        "print(len(source_class0_index[0]), len(source_class1_index[0]), len(target_class0_index[0]), len(target_class1_index[0]))"
      ]
    },
    {
      "cell_type": "code",
      "execution_count": 6,
      "metadata": {
        "colab": {
          "base_uri": "https://localhost:8080/"
        },
        "id": "sZxOEo125UVk",
        "outputId": "43547a74-db24-4bfd-cd8a-7e9c1c8f9e70"
      },
      "outputs": [
        {
          "output_type": "stream",
          "name": "stdout",
          "text": [
            "(array([   2,    6,    8,   10,   12,   13,   14,   15,   17,   18,   21,\n",
            "         23,   24,   27,   30,   33,   35,   38,   39,   42,   44,   45,\n",
            "         46,   47,   49,   51,   54,   55,   56,   57,   60,   62,   64,\n",
            "         69,   72,   73,   75,   77,   78,   79,   81,   84,   85,   87,\n",
            "         91,   95,   97,   98,   99,  100,  102,  104,  107,  110,  111,\n",
            "        113,  114,  116,  125,  128,  129,  131,  133,  134,  136,  137,\n",
            "        138,  139,  140,  141,  146,  150,  152,  155,  156,  157,  160,\n",
            "        163,  164,  165,  166,  167,  169,  171,  176,  179,  181,  184,\n",
            "        185,  186,  187,  188,  189,  190,  192,  194,  195,  196,  199,\n",
            "        203,  204,  206,  207,  208,  215,  217,  218,  219,  226,  227,\n",
            "        228,  229,  231,  232,  234,  236,  241,  245,  246,  247,  250,\n",
            "        254,  255,  260,  261,  263,  264,  266,  267,  270,  274,  277,\n",
            "        280,  282,  283,  285,  286,  287,  291,  292,  294,  295,  296,\n",
            "        297,  300,  302,  304,  306,  307,  314,  315,  319,  320,  323,\n",
            "        324,  325,  329,  330,  331,  333,  337,  338,  340,  343,  344,\n",
            "        346,  347,  348,  349,  351,  352,  357,  358,  360,  362,  363,\n",
            "        365,  366,  367,  368,  369,  371,  372,  373,  374,  376,  380,\n",
            "        381,  384,  385,  386,  389,  390,  395,  397,  399,  400,  401,\n",
            "        404,  405,  407,  408,  409,  410,  412,  414,  415,  416,  418,\n",
            "        422,  423,  424,  425,  426,  427,  429,  430,  431,  432,  437,\n",
            "        438,  440,  441,  444,  445,  447,  449,  450,  453,  454,  456,\n",
            "        457,  463,  464,  466,  470,  472,  476,  477,  481,  483,  487,\n",
            "        490,  491,  492,  493,  494,  496,  497,  498,  500,  501,  502,\n",
            "        506,  507,  510,  511,  512,  514,  515,  522,  523,  525,  526,\n",
            "        530,  531,  532,  534,  535,  539,  541,  545,  546,  550,  552,\n",
            "        554,  556,  557,  558,  559,  562,  565,  566,  567,  569,  572,\n",
            "        573,  574,  575,  576,  579,  580,  583,  584,  585,  586,  588,\n",
            "        591,  593,  594,  596,  598,  604,  605,  608,  611,  612,  613,\n",
            "        614,  616,  617,  621,  622,  623,  625,  628,  630,  631,  634,\n",
            "        635,  637,  639,  640,  642,  643,  646,  647,  648,  651,  653,\n",
            "        657,  658,  659,  660,  661,  663,  668,  669,  673,  675,  676,\n",
            "        677,  679,  681,  682,  683,  684,  686,  687,  688,  690,  691,\n",
            "        696,  698,  701,  702,  704,  707,  709,  711,  712,  714,  716,\n",
            "        717,  721,  722,  728,  729,  731,  733,  735,  736,  739,  744,\n",
            "        745,  748,  749,  750,  752,  753,  756,  757,  761,  762,  765,\n",
            "        766,  768,  771,  773,  775,  780,  782,  784,  785,  787,  788,\n",
            "        789,  791,  794,  795,  796,  797,  798,  799,  800,  801,  804,\n",
            "        806,  807,  808,  811,  812,  816,  818,  819,  820,  821,  824,\n",
            "        826,  827,  828,  830,  833,  834,  837,  838,  839,  840,  841,\n",
            "        842,  843,  845,  851,  855,  858,  860,  862,  863,  864,  865,\n",
            "        869,  871,  872,  874,  875,  878,  879,  880,  881,  882,  883,\n",
            "        884,  888,  892,  895,  898,  899,  903,  905,  906,  908,  914,\n",
            "        916,  920,  922,  925,  926,  927,  928,  931,  932,  936,  937,\n",
            "        938,  941,  943,  944,  948,  950,  952,  953,  954,  955,  963,\n",
            "        966,  967,  968,  971,  975,  976,  982,  988,  990,  993,  995,\n",
            "        996,  997,  998, 1000, 1002, 1005, 1006, 1009, 1010, 1012, 1013,\n",
            "       1015, 1018, 1019, 1020, 1021, 1022, 1023, 1026, 1027, 1028, 1031,\n",
            "       1037, 1038, 1039, 1040, 1041, 1045, 1046, 1047, 1049, 1052, 1054,\n",
            "       1055, 1060, 1061, 1063, 1064, 1065, 1067, 1068, 1069, 1072, 1077,\n",
            "       1078]),)\n"
          ]
        }
      ],
      "source": [
        "print(source_class0_index)"
      ]
    },
    {
      "cell_type": "code",
      "execution_count": 7,
      "metadata": {
        "colab": {
          "base_uri": "https://localhost:8080/",
          "height": 434
        },
        "id": "w-1iSSx2vw1R",
        "outputId": "f836d0bd-306e-494f-b5e8-d834c6f5c175"
      },
      "outputs": [
        {
          "output_type": "stream",
          "name": "stdout",
          "text": [
            "(1080, 1500) (1080, 1500)\n",
            "(2160, 1500)\n",
            "(1080, 2) (1080, 2)\n",
            "(540, 2) (540, 2) (540, 2) (540, 2)\n"
          ]
        },
        {
          "output_type": "display_data",
          "data": {
            "text/plain": [
              "<Figure size 1000x400 with 2 Axes>"
            ],
            "image/png": "[encoded data removed]"
          },
          "metadata": {}
        }
      ],
      "source": [
        "def tsne_visulization(source_data: np.ndarray, target_data: np.ndarray, path: str, format: str = 'jpg'):\n",
        "    s = source_data.copy()\n",
        "    t = target_data.copy()\n",
        "    s = s.reshape(source_data.shape[0], -1)\n",
        "    t = t.reshape(target_data.shape[0], -1)\n",
        "    print(s.shape, t.shape)\n",
        "    combined_dataset = np.vstack((s, t))\n",
        "    print(combined_dataset.shape)\n",
        "\n",
        "    perplexity = 30\n",
        "    n_dimensions = 2\n",
        "\n",
        "    tsne = TSNE(n_components=n_dimensions, perplexity=perplexity, random_state=42)\n",
        "    tsne_result = tsne.fit_transform(combined_dataset)\n",
        "    tsne_source_data = tsne_result[:s.shape[0]]\n",
        "    tsne_target_data = tsne_result[s.shape[0]:]\n",
        "    print(tsne_source_data.shape, tsne_target_data.shape)\n",
        "\n",
        "    source_data_class0 = tsne_source_data[source_class0_index]\n",
        "    source_data_class1 = tsne_source_data[source_class1_index]\n",
        "    target_data_class0 = tsne_target_data[target_class0_index]\n",
        "    target_data_class1 = tsne_target_data[target_class1_index]\n",
        "    print(source_data_class0.shape, source_data_class1.shape, target_data_class0.shape, target_data_class1.shape)\n",
        "\n",
        "\n",
        "    plt.figure(figsize=(10, 4))\n",
        "    plt.subplot(121)\n",
        "    plt.scatter(source_data_class0[:, 0], source_data_class0[:, 1], c='r', marker='o', label='source domain class 0')\n",
        "    plt.scatter(source_data_class1[:, 0], source_data_class1[:, 1], c='b', marker='o', label='source domain class 1')\n",
        "    plt.title('t-SNE Visualization of Source Domain')\n",
        "    # plt.xlabel('t-SNE Dimension 1')\n",
        "    # plt.ylabel('t-SNE Dimension 2')\n",
        "    plt.xticks([])\n",
        "    plt.yticks([])\n",
        "    # plt.legend()\n",
        "\n",
        "    plt.subplot(122)\n",
        "    plt.scatter(target_data_class0[:, 0], target_data_class0[:, 1], c='r', marker='x', label='target domain class 0')\n",
        "    plt.scatter(target_data_class1[:, 0], target_data_class1[:, 1], c='b', marker='x', label='target domain class 1')\n",
        "    plt.title('t-SNE Visualization of Target Domain')\n",
        "    # plt.xlabel('t-SNE Dimension 1')\n",
        "    # plt.ylabel('t-SNE Dimension 2')\n",
        "    plt.xticks([])\n",
        "    plt.yticks([])\n",
        "    # plt.legend()\n",
        "\n",
        "    path = path + '.' + format\n",
        "    plt.savefig(path, format=format)\n",
        "    plt.show()\n",
        "\n",
        "tsne_visulization(source_data.numpy(), val_data.numpy(), path='test.eps')"
      ]
    },
    {
      "cell_type": "code",
      "execution_count": 7,
      "metadata": {
        "id": "lsehlUmO1lvJ"
      },
      "outputs": [],
      "source": []
    },
    {
      "cell_type": "markdown",
      "metadata": {
        "id": "mrBACvHE5l-X"
      },
      "source": [
        "## 3.2 without DA"
      ]
    },
    {
      "cell_type": "code",
      "execution_count": 14,
      "metadata": {
        "colab": {
          "base_uri": "https://localhost:8080/",
          "height": 659
        },
        "id": "w3ONjEyCHD1E",
        "outputId": "d61a5594-8c70-410b-bb44-7d49cfec7bbe"
      },
      "outputs": [
        {
          "output_type": "stream",
          "name": "stdout",
          "text": [
            "torch.Size([1080, 1, 2, 750]) torch.Size([1080]) torch.Size([1080, 1, 2, 750]) torch.Size([1080]) torch.Size([1080, 1, 2, 750]) torch.Size([1080])\n"
          ]
        },
        {
          "output_type": "stream",
          "name": "stderr",
          "text": [
            "  0%|          | 1/500 [00:00<01:34,  5.29it/s]"
          ]
        },
        {
          "output_type": "stream",
          "name": "stdout",
          "text": [
            "Model saved at epoch 1 with validation accuracy: 0.5093\n"
          ]
        },
        {
          "output_type": "stream",
          "name": "stderr",
          "text": [
            "\r  0%|          | 2/500 [00:00<01:15,  6.61it/s]"
          ]
        },
        {
          "output_type": "stream",
          "name": "stdout",
          "text": [
            "Model saved at epoch 2 with validation accuracy: 0.5241\n"
          ]
        },
        {
          "output_type": "stream",
          "name": "stderr",
          "text": [
            "  1%|          | 4/500 [00:00<01:19,  6.21it/s]"
          ]
        },
        {
          "output_type": "stream",
          "name": "stdout",
          "text": [
            "Model saved at epoch 3 with validation accuracy: 0.5500\n",
            "Model saved at epoch 4 with validation accuracy: 0.5824\n"
          ]
        },
        {
          "output_type": "stream",
          "name": "stderr",
          "text": [
            "  5%|▌         | 25/500 [00:02<00:47, 10.10it/s]"
          ]
        },
        {
          "output_type": "stream",
          "name": "stdout",
          "text": [
            "Model saved at epoch 24 with validation accuracy: 0.5852\n",
            "Model saved at epoch 25 with validation accuracy: 0.5870\n"
          ]
        },
        {
          "output_type": "stream",
          "name": "stderr",
          "text": [
            " 18%|█▊        | 91/500 [00:09<00:40, 10.05it/s]"
          ]
        },
        {
          "output_type": "stream",
          "name": "stdout",
          "text": [
            "Model saved at epoch 90 with validation accuracy: 0.5907\n",
            "Model saved at epoch 91 with validation accuracy: 0.5981\n"
          ]
        },
        {
          "output_type": "stream",
          "name": "stderr",
          "text": [
            "\r 19%|█▊        | 93/500 [00:09<00:40,  9.95it/s]"
          ]
        },
        {
          "output_type": "stream",
          "name": "stdout",
          "text": [
            "Model saved at epoch 92 with validation accuracy: 0.6056\n",
            "Model saved at epoch 93 with validation accuracy: 0.6176\n"
          ]
        },
        {
          "output_type": "stream",
          "name": "stderr",
          "text": [
            " 20%|█▉        | 98/500 [00:10<00:40,  9.95it/s]"
          ]
        },
        {
          "output_type": "stream",
          "name": "stdout",
          "text": [
            "Model saved at epoch 97 with validation accuracy: 0.6250\n",
            "Model saved at epoch 98 with validation accuracy: 0.6306\n"
          ]
        },
        {
          "output_type": "stream",
          "name": "stderr",
          "text": [
            "100%|██████████| 500/500 [00:51<00:00,  9.68it/s]\n"
          ]
        },
        {
          "output_type": "stream",
          "name": "stdout",
          "text": [
            "the best accuracy is:  0.6305555555555555\n"
          ]
        },
        {
          "output_type": "display_data",
          "data": {
            "text/plain": [
              "<Figure size 800x400 with 1 Axes>"
            ],
            "image/png": "[encoded data removed]"
          },
          "metadata": {}
        }
      ],
      "source": [
        "def test(dataloader, model):\n",
        "    model.eval()\n",
        "    size = len(dataloader.dataset)\n",
        "    correct = 0\n",
        "\n",
        "    with torch.no_grad():\n",
        "        for x, y in dataloader:\n",
        "            x, y = x.to(DEVICE), y.to(DEVICE)\n",
        "            y_pred, features = model(x)\n",
        "            correct += (torch.max(y_pred, 1)[1] == y).sum().item()\n",
        "\n",
        "    accuracy = correct / size\n",
        "\n",
        "    return accuracy, features\n",
        "\n",
        "\n",
        "\n",
        "def train(source_data, source_label, val_data, val_label, target_data, target_label, batch_size=1080, epochs=500, lr=1e-3):\n",
        "    train_dataset = TensorDataset(source_data, source_label)\n",
        "    val_dataset = TensorDataset(val_data, val_label)\n",
        "    test_dataset = TensorDataset(target_data, target_label)\n",
        "\n",
        "    train_loader = DataLoader(dataset=train_dataset, batch_size=1080, shuffle=True)\n",
        "    val_loader = DataLoader(dataset=val_dataset, batch_size=1080, shuffle=True)\n",
        "    # test_loader = DataLoader(dataset=test_dataset, batch_size=1080, shuffle=True)\n",
        "\n",
        "    model = EEGNet_ReLU(n_output=2)\n",
        "    loss_fn = nn.CrossEntropyLoss()\n",
        "\n",
        "    optimizer = optim.Adam(model.parameters(),lr = lr, weight_decay=0.001)\n",
        "    # optimizer = optim.SGD(model.parameters(), lr=lr, momentum=0.5, weight_decay=5e-4)\n",
        "\n",
        "    model.to(DEVICE)\n",
        "    # summary(model.cuda(),(1,2,750))\n",
        "\n",
        "    loss_history = []\n",
        "    train_accuracy_history = []\n",
        "    val_accuracy_history = []\n",
        "    test_accuracy_history = []\n",
        "\n",
        "    best_acc = 0\n",
        "\n",
        "    for epoch in tqdm(range(epochs)):\n",
        "        model.train()\n",
        "\n",
        "        running_loss = 0.0\n",
        "        correct = 0\n",
        "        total = 0\n",
        "\n",
        "        for batch, (x, y) in enumerate(train_loader):\n",
        "            optimizer.zero_grad()\n",
        "\n",
        "            x, y = x.to(DEVICE), y.to(DEVICE)\n",
        "            y_pred, source_features = model(x)\n",
        "\n",
        "            loss = loss_fn(y_pred, y)\n",
        "\n",
        "            loss.backward()\n",
        "            optimizer.step()\n",
        "\n",
        "            running_loss += loss.item()\n",
        "            correct += (torch.max(y_pred,1)[1] == y).sum().item()\n",
        "            total += y.size(0)\n",
        "\n",
        "\n",
        "        train_accuracy = correct / total\n",
        "        train_accuracy_history.append(train_accuracy)\n",
        "\n",
        "        val_accuracy, val_features = test(val_loader, model)\n",
        "        if val_accuracy > best_acc:\n",
        "            best_acc = val_accuracy\n",
        "            torch.save(model.state_dict(), 'EEGNet_best_model.pth')\n",
        "            print(f'Model saved at epoch {epoch+1} with validation accuracy: {val_accuracy:.4f}')\n",
        "            # test_acc, _ = test(test_loader, model)\n",
        "            # print(f'test accuracy is {test_acc}')\n",
        "\n",
        "        val_accuracy_history.append(val_accuracy)\n",
        "\n",
        "        # print(\"epochs:\",epoch,\"loss:\",loss.item(),\"D_s Accuracy:\",train_accuracy,\"validation accuracy: \", val_accuracy, \"D_t Accuracy:\",test_accuracy)\n",
        "\n",
        "    print(\"the best accuracy is: \", best_acc)\n",
        "    model.load_state_dict(torch.load(\"EEGNet_best_model.pth\"))\n",
        "    _, source_features = model(source_data.to(DEVICE))\n",
        "    _, val_features = model(val_data.to(DEVICE))\n",
        "    # tsne_visulization(source_features.cpu().detach().numpy(), val_features.cpu().detach().numpy(), path='original.jpg')\n",
        "\n",
        "\n",
        "    plt.figure(figsize=(8, 4))\n",
        "    # plt.plot(loss_history, label=\"Loss\")\n",
        "    plt.plot(train_accuracy_history, label='Train Accuracy')\n",
        "    plt.plot(val_accuracy_history, label='Validation Accuracy')\n",
        "    # plt.plot(test_accuracy_history, label='Test Accuracy')\n",
        "    plt.xlabel('Epochs')\n",
        "    plt.ylabel('Accuracy')\n",
        "    plt.legend()\n",
        "    plt.title('Accuracy Curve')\n",
        "    plt.grid(True)\n",
        "    plt.show()\n",
        "\n",
        "\n",
        "\n",
        "source_data, source_label, val_data, val_label, target_data, target_label = read_bci_data()\n",
        "# val_data, val_label = source_data[-360:], source_label[-360:]\n",
        "# source_data, source_label = source_data[:720], source_label[:720]\n",
        "# print(source_data.shape, source_label.shape)\n",
        "train(source_data, source_label, val_data, val_label, target_data, target_label, batch_size=1080, epochs=500, lr=1e-1)"
      ]
    },
    {
      "cell_type": "markdown",
      "metadata": {
        "id": "91LtgiQd5tkM"
      },
      "source": [
        "## 3.3 With DA"
      ]
    },
    {
      "cell_type": "code",
      "execution_count": 135,
      "metadata": {
        "id": "vNkLlpFTHwEq"
      },
      "outputs": [],
      "source": [
        "def lr_lambda(epoch):\n",
        "    if epoch < 100:\n",
        "        return 0.1\n",
        "    else:\n",
        "        lr = 0.1 ** ((epoch // 100) + 1)\n",
        "        return 1e-4 if lr < 1e-4 else lr\n",
        "\n",
        "\n",
        "def test(data, label, model):\n",
        "    model.eval()\n",
        "    with torch.no_grad():\n",
        "        data, label = data.to(DEVICE), label.to(DEVICE)\n",
        "        pred, _, _, _ = model(data, data)\n",
        "\n",
        "        correct_cnt = (torch.max(pred, 1)[1] == label).sum().item()\n",
        "        sample_cnt = data.shape[0]\n",
        "        accuracy = correct_cnt / sample_cnt\n",
        "\n",
        "    return accuracy\n",
        "\n",
        "\n",
        "def train(model, source_data, source_label, val_data, val_label, target_data, target_label, lambda_factor=0.5, batch_size=1080, epochs=500, lr=1e-3, path='test', format='jpg'):\n",
        "    train_dataset = TensorDataset(source_data, source_label)\n",
        "    val_dataset = TensorDataset(val_data, val_label)\n",
        "\n",
        "    train_loader = DataLoader(dataset=train_dataset, batch_size=batch_size, shuffle=True)\n",
        "    val_loader = DataLoader(dataset=val_dataset, batch_size=batch_size, shuffle=True)\n",
        "\n",
        "    loss_fn = nn.CrossEntropyLoss()\n",
        "\n",
        "    optimizer = optim.Adam(model.parameters(),lr = lr)\n",
        "    # optimizer = optim.SGD(model.parameters(), lr=lr, momentum=0.5, weight_decay=5e-4)\n",
        "    lr_scheduler = LambdaLR(optimizer, lr_lambda)\n",
        "\n",
        "\n",
        "    model.to(DEVICE)\n",
        "\n",
        "    clf_loss_history = []\n",
        "    mmd_loss_history = []\n",
        "    train_accuracy_history = []\n",
        "    val_accuracy_history = []\n",
        "    test_accuracy_history = []\n",
        "\n",
        "    best_acc = 0\n",
        "\n",
        "    for epoch in tqdm(range(epochs)):\n",
        "        model.train()\n",
        "\n",
        "        optimizer.zero_grad()\n",
        "\n",
        "        source_data, source_label = source_data.to(DEVICE), source_label.to(DEVICE)\n",
        "        target_data = target_data.to(DEVICE)\n",
        "        val_data = val_data.to(DEVICE)\n",
        "\n",
        "        train_target_data = val_data\n",
        "        train_target_data = train_target_data.to(DEVICE)\n",
        "\n",
        "        preds, mmd_loss, source, val = model(source_data, train_target_data)\n",
        "\n",
        "        # compute loss\n",
        "        clf_loss = loss_fn(preds, source_label)\n",
        "        loss = clf_loss + lambda_factor * mmd_loss\n",
        "\n",
        "        clf_loss_history.append(loss.item())\n",
        "        mmd_loss_history.append(mmd_loss.item())\n",
        "\n",
        "        correct_cnt = (torch.max(preds, 1)[1]== source_label).sum().item()\n",
        "        accuracy = correct_cnt / source_data.shape[0]\n",
        "        train_accuracy_history.append(accuracy)\n",
        "\n",
        "        loss.backward()\n",
        "        optimizer.step()\n",
        "        lr_scheduler.step()\n",
        "\n",
        "        val_accuracy = test(val_data, val_label, model)\n",
        "        val_accuracy_history.append(val_accuracy)\n",
        "        if val_accuracy > best_acc:\n",
        "            best_acc = val_accuracy\n",
        "            torch.save(model.state_dict(), 'DA_best_model.pth')\n",
        "            print(f'Model saved at epoch {epoch+1} with validation accuracy: {val_accuracy:.4f}')\n",
        "            print(\"LR: \", lr_scheduler.get_last_lr()[0], optimizer.state_dict()['param_groups'][0]['lr'])\n",
        "            # if epoch > 100:\n",
        "                # tsne_visulization(source.cpu().detach().numpy(), val.cpu().detach().numpy(), path='original.jpg')\n",
        "        # print(f'classification loss: {clf_loss.item()}, discrepency: {mmd_loss.item()}')\n",
        "\n",
        "        if epoch == epochs - 1:\n",
        "            tsne_visulization(source.cpu().detach().numpy(), val.cpu().detach().numpy(), path='original.jpg')\n",
        "\n",
        "\n",
        "\n",
        "    print(\"the best accuracy is: \", best_acc)\n",
        "    with torch.no_grad():\n",
        "        model.load_state_dict(torch.load(\"DA_best_model.pth\"))\n",
        "        _, _, source_features, val_features = model(source_data.to(DEVICE), val_data.to(DEVICE))\n",
        "        tsne_visulization(source_features.cpu().detach().numpy(), val_features.cpu().detach().numpy(), path='original.jpg')\n",
        "\n",
        "    plt.figure(figsize=(16, 4))\n",
        "    plt.subplot(1, 2, 1)\n",
        "    # plt.plot(loss_history, label=\"Loss\")\n",
        "    plt.plot(train_accuracy_history, label='Train Accuracy')\n",
        "    plt.plot(val_accuracy_history, label='Validation Accuracy')\n",
        "    plt.plot(test_accuracy_history, label='Test Accuracy')\n",
        "    plt.xlabel('Epochs')\n",
        "    plt.ylabel('Accuracy')\n",
        "    plt.legend()\n",
        "    plt.title('Accuracy Curve')\n",
        "    plt.grid(True)\n",
        "    # plt.show()\n",
        "\n",
        "\n",
        "    plt.subplot(1, 2, 2)\n",
        "    plt.plot(clf_loss_history, label=\"CLF Loss\")\n",
        "    plt.plot(mmd_loss_history, label='MMD Loss')\n",
        "    plt.xlabel('Epochs')\n",
        "    plt.ylabel('Loss')\n",
        "    plt.legend()\n",
        "    plt.title('Loss Curve')\n",
        "    plt.grid(True)\n",
        "    plt.show()\n",
        "\n"
      ]
    },
    {
      "cell_type": "markdown",
      "metadata": {
        "id": "0Mr5z6-iqEbM"
      },
      "source": [
        "## DDC"
      ]
    },
    {
      "cell_type": "code",
      "execution_count": 146,
      "metadata": {
        "colab": {
          "base_uri": "https://localhost:8080/",
          "height": 773
        },
        "id": "cciKP_f8qGSy",
        "outputId": "9a8ce134-6303-4912-cf64-d132aacd672f"
      },
      "outputs": [
        {
          "output_type": "stream",
          "name": "stdout",
          "text": [
            "torch.Size([1080, 1, 2, 750]) torch.Size([1080]) torch.Size([1080, 1, 2, 750]) torch.Size([1080]) torch.Size([1080, 1, 2, 750]) torch.Size([1080])\n"
          ]
        },
        {
          "output_type": "stream",
          "name": "stderr",
          "text": [
            "  0%|          | 2/500 [00:00<00:28, 17.53it/s]"
          ]
        },
        {
          "output_type": "stream",
          "name": "stdout",
          "text": [
            "Model saved at epoch 1 with validation accuracy: 0.5000\n",
            "LR:  0.001 0.001\n",
            "Model saved at epoch 2 with validation accuracy: 0.5028\n",
            "LR:  0.001 0.001\n",
            "Model saved at epoch 3 with validation accuracy: 0.5213\n",
            "LR:  0.001 0.001\n"
          ]
        },
        {
          "output_type": "stream",
          "name": "stderr",
          "text": [
            "\r  1%|          | 4/500 [00:00<00:28, 17.70it/s]"
          ]
        },
        {
          "output_type": "stream",
          "name": "stdout",
          "text": [
            "Model saved at epoch 4 with validation accuracy: 0.5259\n",
            "LR:  0.001 0.001\n"
          ]
        },
        {
          "output_type": "stream",
          "name": "stderr",
          "text": [
            "\r  1%|          | 6/500 [00:00<00:27, 17.86it/s]"
          ]
        },
        {
          "output_type": "stream",
          "name": "stdout",
          "text": [
            "Model saved at epoch 5 with validation accuracy: 0.5537\n",
            "LR:  0.001 0.001\n",
            "Model saved at epoch 6 with validation accuracy: 0.5583\n",
            "LR:  0.001 0.001\n",
            "Model saved at epoch 7 with validation accuracy: 0.5704\n",
            "LR:  0.001 0.001\n"
          ]
        },
        {
          "output_type": "stream",
          "name": "stderr",
          "text": [
            "  2%|▏         | 12/500 [00:00<00:26, 18.44it/s]"
          ]
        },
        {
          "output_type": "stream",
          "name": "stdout",
          "text": [
            "Model saved at epoch 9 with validation accuracy: 0.5713\n",
            "LR:  0.001 0.001\n",
            "Model saved at epoch 12 with validation accuracy: 0.5722\n",
            "LR:  0.001 0.001\n"
          ]
        },
        {
          "output_type": "stream",
          "name": "stderr",
          "text": [
            "  3%|▎         | 16/500 [00:00<00:25, 18.85it/s]"
          ]
        },
        {
          "output_type": "stream",
          "name": "stdout",
          "text": [
            "Model saved at epoch 13 with validation accuracy: 0.5787\n",
            "LR:  0.001 0.001\n"
          ]
        },
        {
          "output_type": "stream",
          "name": "stderr",
          "text": [
            "  6%|▋         | 32/500 [00:01<00:24, 19.42it/s]"
          ]
        },
        {
          "output_type": "stream",
          "name": "stdout",
          "text": [
            "Model saved at epoch 29 with validation accuracy: 0.5796\n",
            "LR:  0.001 0.001\n"
          ]
        },
        {
          "output_type": "stream",
          "name": "stderr",
          "text": [
            " 10%|▉         | 48/500 [00:02<00:23, 19.49it/s]"
          ]
        },
        {
          "output_type": "stream",
          "name": "stdout",
          "text": [
            "Model saved at epoch 45 with validation accuracy: 0.5806\n",
            "LR:  0.001 0.001\n"
          ]
        },
        {
          "output_type": "stream",
          "name": "stderr",
          "text": [
            " 22%|██▏       | 112/500 [00:05<00:20, 19.36it/s]\n"
          ]
        },
        {
          "output_type": "error",
          "ename": "KeyboardInterrupt",
          "evalue": "ignored",
          "traceback": [
            "\u001b[0;31m---------------------------------------------------------------------------\u001b[0m",
            "\u001b[0;31mKeyboardInterrupt\u001b[0m                         Traceback (most recent call last)",
            "\u001b[0;32m<ipython-input-146-239a1bfa4781>\u001b[0m in \u001b[0;36m<cell line: 3>\u001b[0;34m()\u001b[0m\n\u001b[1;32m      1\u001b[0m \u001b[0mmodel\u001b[0m \u001b[0;34m=\u001b[0m \u001b[0mEEGNet_DDC\u001b[0m\u001b[0;34m(\u001b[0m\u001b[0mnum_classes\u001b[0m\u001b[0;34m=\u001b[0m\u001b[0;36m2\u001b[0m\u001b[0;34m)\u001b[0m\u001b[0;34m\u001b[0m\u001b[0;34m\u001b[0m\u001b[0m\n\u001b[1;32m      2\u001b[0m \u001b[0msource_data\u001b[0m\u001b[0;34m,\u001b[0m \u001b[0msource_label\u001b[0m\u001b[0;34m,\u001b[0m \u001b[0mval_data\u001b[0m\u001b[0;34m,\u001b[0m \u001b[0mval_label\u001b[0m\u001b[0;34m,\u001b[0m \u001b[0mtarget_data\u001b[0m\u001b[0;34m,\u001b[0m \u001b[0mtarget_label\u001b[0m \u001b[0;34m=\u001b[0m \u001b[0mread_bci_data\u001b[0m\u001b[0;34m(\u001b[0m\u001b[0;34m)\u001b[0m\u001b[0;34m\u001b[0m\u001b[0;34m\u001b[0m\u001b[0m\n\u001b[0;32m----> 3\u001b[0;31m \u001b[0mtrain\u001b[0m\u001b[0;34m(\u001b[0m\u001b[0mmodel\u001b[0m\u001b[0;34m,\u001b[0m \u001b[0msource_data\u001b[0m\u001b[0;34m,\u001b[0m \u001b[0msource_label\u001b[0m\u001b[0;34m,\u001b[0m \u001b[0mval_data\u001b[0m\u001b[0;34m,\u001b[0m \u001b[0mval_label\u001b[0m\u001b[0;34m,\u001b[0m \u001b[0mtarget_data\u001b[0m\u001b[0;34m,\u001b[0m \u001b[0mtarget_label\u001b[0m\u001b[0;34m,\u001b[0m \u001b[0mlambda_factor\u001b[0m\u001b[0;34m=\u001b[0m\u001b[0;36m0\u001b[0m\u001b[0;34m,\u001b[0m \u001b[0mbatch_size\u001b[0m\u001b[0;34m=\u001b[0m\u001b[0;36m1080\u001b[0m\u001b[0;34m,\u001b[0m \u001b[0mepochs\u001b[0m\u001b[0;34m=\u001b[0m\u001b[0;36m500\u001b[0m\u001b[0;34m,\u001b[0m \u001b[0mlr\u001b[0m\u001b[0;34m=\u001b[0m\u001b[0;36m1e-2\u001b[0m\u001b[0;34m,\u001b[0m \u001b[0mpath\u001b[0m\u001b[0;34m=\u001b[0m\u001b[0;34m'DDC.jpg'\u001b[0m\u001b[0;34m)\u001b[0m\u001b[0;34m\u001b[0m\u001b[0;34m\u001b[0m\u001b[0m\n\u001b[0m",
            "\u001b[0;32m<ipython-input-135-37c7aa6f4fa3>\u001b[0m in \u001b[0;36mtrain\u001b[0;34m(model, source_data, source_label, val_data, val_label, target_data, target_label, lambda_factor, batch_size, epochs, lr, path, format)\u001b[0m\n\u001b[1;32m     73\u001b[0m         \u001b[0mlr_scheduler\u001b[0m\u001b[0;34m.\u001b[0m\u001b[0mstep\u001b[0m\u001b[0;34m(\u001b[0m\u001b[0;34m)\u001b[0m\u001b[0;34m\u001b[0m\u001b[0;34m\u001b[0m\u001b[0m\n\u001b[1;32m     74\u001b[0m \u001b[0;34m\u001b[0m\u001b[0m\n\u001b[0;32m---> 75\u001b[0;31m         \u001b[0mval_accuracy\u001b[0m \u001b[0;34m=\u001b[0m \u001b[0mtest\u001b[0m\u001b[0;34m(\u001b[0m\u001b[0mval_data\u001b[0m\u001b[0;34m,\u001b[0m \u001b[0mval_label\u001b[0m\u001b[0;34m,\u001b[0m \u001b[0mmodel\u001b[0m\u001b[0;34m)\u001b[0m\u001b[0;34m\u001b[0m\u001b[0;34m\u001b[0m\u001b[0m\n\u001b[0m\u001b[1;32m     76\u001b[0m         \u001b[0mval_accuracy_history\u001b[0m\u001b[0;34m.\u001b[0m\u001b[0mappend\u001b[0m\u001b[0;34m(\u001b[0m\u001b[0mval_accuracy\u001b[0m\u001b[0;34m)\u001b[0m\u001b[0;34m\u001b[0m\u001b[0;34m\u001b[0m\u001b[0m\n\u001b[1;32m     77\u001b[0m         \u001b[0;32mif\u001b[0m \u001b[0mval_accuracy\u001b[0m \u001b[0;34m>\u001b[0m \u001b[0mbest_acc\u001b[0m\u001b[0;34m:\u001b[0m\u001b[0;34m\u001b[0m\u001b[0;34m\u001b[0m\u001b[0m\n",
            "\u001b[0;32m<ipython-input-135-37c7aa6f4fa3>\u001b[0m in \u001b[0;36mtest\u001b[0;34m(data, label, model)\u001b[0m\n\u001b[1;32m     10\u001b[0m     \u001b[0mmodel\u001b[0m\u001b[0;34m.\u001b[0m\u001b[0meval\u001b[0m\u001b[0;34m(\u001b[0m\u001b[0;34m)\u001b[0m\u001b[0;34m\u001b[0m\u001b[0;34m\u001b[0m\u001b[0m\n\u001b[1;32m     11\u001b[0m     \u001b[0;32mwith\u001b[0m \u001b[0mtorch\u001b[0m\u001b[0;34m.\u001b[0m\u001b[0mno_grad\u001b[0m\u001b[0;34m(\u001b[0m\u001b[0;34m)\u001b[0m\u001b[0;34m:\u001b[0m\u001b[0;34m\u001b[0m\u001b[0;34m\u001b[0m\u001b[0m\n\u001b[0;32m---> 12\u001b[0;31m         \u001b[0mdata\u001b[0m\u001b[0;34m,\u001b[0m \u001b[0mlabel\u001b[0m \u001b[0;34m=\u001b[0m \u001b[0mdata\u001b[0m\u001b[0;34m.\u001b[0m\u001b[0mto\u001b[0m\u001b[0;34m(\u001b[0m\u001b[0mDEVICE\u001b[0m\u001b[0;34m)\u001b[0m\u001b[0;34m,\u001b[0m \u001b[0mlabel\u001b[0m\u001b[0;34m.\u001b[0m\u001b[0mto\u001b[0m\u001b[0;34m(\u001b[0m\u001b[0mDEVICE\u001b[0m\u001b[0;34m)\u001b[0m\u001b[0;34m\u001b[0m\u001b[0;34m\u001b[0m\u001b[0m\n\u001b[0m\u001b[1;32m     13\u001b[0m         \u001b[0mpred\u001b[0m\u001b[0;34m,\u001b[0m \u001b[0m_\u001b[0m\u001b[0;34m,\u001b[0m \u001b[0m_\u001b[0m\u001b[0;34m,\u001b[0m \u001b[0m_\u001b[0m \u001b[0;34m=\u001b[0m \u001b[0mmodel\u001b[0m\u001b[0;34m(\u001b[0m\u001b[0mdata\u001b[0m\u001b[0;34m,\u001b[0m \u001b[0mdata\u001b[0m\u001b[0;34m)\u001b[0m\u001b[0;34m\u001b[0m\u001b[0;34m\u001b[0m\u001b[0m\n\u001b[1;32m     14\u001b[0m \u001b[0;34m\u001b[0m\u001b[0m\n",
            "\u001b[0;31mKeyboardInterrupt\u001b[0m: "
          ]
        }
      ],
      "source": [
        "model = EEGNet_DDC(num_classes=2)\n",
        "source_data, source_label, val_data, val_label, target_data, target_label = read_bci_data()\n",
        "train(model, source_data, source_label, val_data, val_label, target_data, target_label, lambda_factor=0, batch_size=1080, epochs=500, lr=1e-2, path='DDC.jpg')"
      ]
    },
    {
      "cell_type": "markdown",
      "metadata": {
        "id": "lzoCWdaBHSOy"
      },
      "source": [
        "## with DA (DAN)"
      ]
    },
    {
      "cell_type": "code",
      "execution_count": 151,
      "metadata": {
        "colab": {
          "base_uri": "https://localhost:8080/",
          "height": 724
        },
        "id": "sR95xx6afTTI",
        "outputId": "49470af2-0bcd-4497-d2c4-1897c36ad179"
      },
      "outputs": [
        {
          "output_type": "stream",
          "name": "stdout",
          "text": [
            "torch.Size([1080, 1, 2, 750]) torch.Size([1080]) torch.Size([1080, 1, 2, 750]) torch.Size([1080]) torch.Size([1080, 1, 2, 750]) torch.Size([1080])\n"
          ]
        },
        {
          "output_type": "stream",
          "name": "stderr",
          "text": [
            "  1%|          | 2/200 [00:00<00:14, 13.61it/s]"
          ]
        },
        {
          "output_type": "stream",
          "name": "stdout",
          "text": [
            "Model saved at epoch 1 with validation accuracy: 0.5000\n",
            "LR:  0.001 0.001\n",
            "Model saved at epoch 2 with validation accuracy: 0.5093\n",
            "LR:  0.001 0.001\n",
            "Model saved at epoch 3 with validation accuracy: 0.5139\n",
            "LR:  0.001 0.001\n"
          ]
        },
        {
          "output_type": "stream",
          "name": "stderr",
          "text": [
            "\r  2%|▏         | 4/200 [00:00<00:13, 14.09it/s]"
          ]
        },
        {
          "output_type": "stream",
          "name": "stdout",
          "text": [
            "Model saved at epoch 5 with validation accuracy: 0.5157\n",
            "LR:  0.001 0.001\n"
          ]
        },
        {
          "output_type": "stream",
          "name": "stderr",
          "text": [
            "\r  3%|▎         | 6/200 [00:00<00:13, 14.01it/s]"
          ]
        },
        {
          "output_type": "stream",
          "name": "stdout",
          "text": [
            "Model saved at epoch 6 with validation accuracy: 0.5315\n",
            "LR:  0.001 0.001\n",
            "Model saved at epoch 7 with validation accuracy: 0.5426\n",
            "LR:  0.001 0.001\n"
          ]
        },
        {
          "output_type": "stream",
          "name": "stderr",
          "text": [
            "\r  4%|▍         | 8/200 [00:00<00:13, 14.04it/s]"
          ]
        },
        {
          "output_type": "stream",
          "name": "stdout",
          "text": [
            "Model saved at epoch 8 with validation accuracy: 0.5565\n",
            "LR:  0.001 0.001\n"
          ]
        },
        {
          "output_type": "stream",
          "name": "stderr",
          "text": [
            "\r  5%|▌         | 10/200 [00:00<00:13, 13.97it/s]"
          ]
        },
        {
          "output_type": "stream",
          "name": "stdout",
          "text": [
            "Model saved at epoch 9 with validation accuracy: 0.5667\n",
            "LR:  0.001 0.001\n",
            "Model saved at epoch 10 with validation accuracy: 0.5787\n",
            "LR:  0.001 0.001\n",
            "Model saved at epoch 11 with validation accuracy: 0.5833\n",
            "LR:  0.001 0.001\n"
          ]
        },
        {
          "output_type": "stream",
          "name": "stderr",
          "text": [
            " 54%|█████▍    | 108/200 [00:07<00:06, 15.02it/s]\n"
          ]
        },
        {
          "output_type": "error",
          "ename": "KeyboardInterrupt",
          "evalue": "ignored",
          "traceback": [
            "\u001b[0;31m---------------------------------------------------------------------------\u001b[0m",
            "\u001b[0;31mKeyboardInterrupt\u001b[0m                         Traceback (most recent call last)",
            "\u001b[0;32m<ipython-input-151-4d8767d99538>\u001b[0m in \u001b[0;36m<cell line: 3>\u001b[0;34m()\u001b[0m\n\u001b[1;32m      1\u001b[0m \u001b[0mmodel\u001b[0m \u001b[0;34m=\u001b[0m \u001b[0mEEGNet_DAN\u001b[0m\u001b[0;34m(\u001b[0m\u001b[0mnum_classes\u001b[0m\u001b[0;34m=\u001b[0m\u001b[0;36m2\u001b[0m\u001b[0;34m)\u001b[0m\u001b[0;34m\u001b[0m\u001b[0;34m\u001b[0m\u001b[0m\n\u001b[1;32m      2\u001b[0m \u001b[0msource_data\u001b[0m\u001b[0;34m,\u001b[0m \u001b[0msource_label\u001b[0m\u001b[0;34m,\u001b[0m \u001b[0mval_data\u001b[0m\u001b[0;34m,\u001b[0m \u001b[0mval_label\u001b[0m\u001b[0;34m,\u001b[0m \u001b[0mtarget_data\u001b[0m\u001b[0;34m,\u001b[0m \u001b[0mtarget_label\u001b[0m \u001b[0;34m=\u001b[0m \u001b[0mread_bci_data\u001b[0m\u001b[0;34m(\u001b[0m\u001b[0;34m)\u001b[0m\u001b[0;34m\u001b[0m\u001b[0;34m\u001b[0m\u001b[0m\n\u001b[0;32m----> 3\u001b[0;31m \u001b[0mtrain\u001b[0m\u001b[0;34m(\u001b[0m\u001b[0mmodel\u001b[0m\u001b[0;34m,\u001b[0m \u001b[0msource_data\u001b[0m\u001b[0;34m,\u001b[0m \u001b[0msource_label\u001b[0m\u001b[0;34m,\u001b[0m \u001b[0mval_data\u001b[0m\u001b[0;34m,\u001b[0m \u001b[0mval_label\u001b[0m\u001b[0;34m,\u001b[0m \u001b[0mtarget_data\u001b[0m\u001b[0;34m,\u001b[0m \u001b[0mtarget_label\u001b[0m\u001b[0;34m,\u001b[0m \u001b[0mlambda_factor\u001b[0m\u001b[0;34m=\u001b[0m\u001b[0;36m0\u001b[0m\u001b[0;34m,\u001b[0m \u001b[0mbatch_size\u001b[0m\u001b[0;34m=\u001b[0m\u001b[0;36m1080\u001b[0m\u001b[0;34m,\u001b[0m \u001b[0mepochs\u001b[0m\u001b[0;34m=\u001b[0m\u001b[0;36m200\u001b[0m\u001b[0;34m,\u001b[0m \u001b[0mlr\u001b[0m\u001b[0;34m=\u001b[0m\u001b[0;36m1e-2\u001b[0m\u001b[0;34m,\u001b[0m \u001b[0mpath\u001b[0m\u001b[0;34m=\u001b[0m\u001b[0;34m'DAN.jpg'\u001b[0m\u001b[0;34m)\u001b[0m\u001b[0;34m\u001b[0m\u001b[0;34m\u001b[0m\u001b[0m\n\u001b[0m\u001b[1;32m      4\u001b[0m \u001b[0;31m# 发现：加入MK-MMD(gaussian kernels)收敛会变困难?\u001b[0m\u001b[0;34m\u001b[0m\u001b[0;34m\u001b[0m\u001b[0m\n",
            "\u001b[0;32m<ipython-input-135-37c7aa6f4fa3>\u001b[0m in \u001b[0;36mtrain\u001b[0;34m(model, source_data, source_label, val_data, val_label, target_data, target_label, lambda_factor, batch_size, epochs, lr, path, format)\u001b[0m\n\u001b[1;32m     69\u001b[0m         \u001b[0mtrain_accuracy_history\u001b[0m\u001b[0;34m.\u001b[0m\u001b[0mappend\u001b[0m\u001b[0;34m(\u001b[0m\u001b[0maccuracy\u001b[0m\u001b[0;34m)\u001b[0m\u001b[0;34m\u001b[0m\u001b[0;34m\u001b[0m\u001b[0m\n\u001b[1;32m     70\u001b[0m \u001b[0;34m\u001b[0m\u001b[0m\n\u001b[0;32m---> 71\u001b[0;31m         \u001b[0mloss\u001b[0m\u001b[0;34m.\u001b[0m\u001b[0mbackward\u001b[0m\u001b[0;34m(\u001b[0m\u001b[0;34m)\u001b[0m\u001b[0;34m\u001b[0m\u001b[0;34m\u001b[0m\u001b[0m\n\u001b[0m\u001b[1;32m     72\u001b[0m         \u001b[0moptimizer\u001b[0m\u001b[0;34m.\u001b[0m\u001b[0mstep\u001b[0m\u001b[0;34m(\u001b[0m\u001b[0;34m)\u001b[0m\u001b[0;34m\u001b[0m\u001b[0;34m\u001b[0m\u001b[0m\n\u001b[1;32m     73\u001b[0m         \u001b[0mlr_scheduler\u001b[0m\u001b[0;34m.\u001b[0m\u001b[0mstep\u001b[0m\u001b[0;34m(\u001b[0m\u001b[0;34m)\u001b[0m\u001b[0;34m\u001b[0m\u001b[0;34m\u001b[0m\u001b[0m\n",
            "\u001b[0;32m/usr/local/lib/python3.10/dist-packages/torch/_tensor.py\u001b[0m in \u001b[0;36mbackward\u001b[0;34m(self, gradient, retain_graph, create_graph, inputs)\u001b[0m\n\u001b[1;32m    490\u001b[0m                 \u001b[0minputs\u001b[0m\u001b[0;34m=\u001b[0m\u001b[0minputs\u001b[0m\u001b[0;34m,\u001b[0m\u001b[0;34m\u001b[0m\u001b[0;34m\u001b[0m\u001b[0m\n\u001b[1;32m    491\u001b[0m             )\n\u001b[0;32m--> 492\u001b[0;31m         torch.autograd.backward(\n\u001b[0m\u001b[1;32m    493\u001b[0m             \u001b[0mself\u001b[0m\u001b[0;34m,\u001b[0m \u001b[0mgradient\u001b[0m\u001b[0;34m,\u001b[0m \u001b[0mretain_graph\u001b[0m\u001b[0;34m,\u001b[0m \u001b[0mcreate_graph\u001b[0m\u001b[0;34m,\u001b[0m \u001b[0minputs\u001b[0m\u001b[0;34m=\u001b[0m\u001b[0minputs\u001b[0m\u001b[0;34m\u001b[0m\u001b[0;34m\u001b[0m\u001b[0m\n\u001b[1;32m    494\u001b[0m         )\n",
            "\u001b[0;32m/usr/local/lib/python3.10/dist-packages/torch/autograd/__init__.py\u001b[0m in \u001b[0;36mbackward\u001b[0;34m(tensors, grad_tensors, retain_graph, create_graph, grad_variables, inputs)\u001b[0m\n\u001b[1;32m    249\u001b[0m     \u001b[0;31m# some Python versions print out the first line of a multi-line function\u001b[0m\u001b[0;34m\u001b[0m\u001b[0;34m\u001b[0m\u001b[0m\n\u001b[1;32m    250\u001b[0m     \u001b[0;31m# calls in the traceback and some print out the last line\u001b[0m\u001b[0;34m\u001b[0m\u001b[0;34m\u001b[0m\u001b[0m\n\u001b[0;32m--> 251\u001b[0;31m     Variable._execution_engine.run_backward(  # Calls into the C++ engine to run the backward pass\n\u001b[0m\u001b[1;32m    252\u001b[0m         \u001b[0mtensors\u001b[0m\u001b[0;34m,\u001b[0m\u001b[0;34m\u001b[0m\u001b[0;34m\u001b[0m\u001b[0m\n\u001b[1;32m    253\u001b[0m         \u001b[0mgrad_tensors_\u001b[0m\u001b[0;34m,\u001b[0m\u001b[0;34m\u001b[0m\u001b[0;34m\u001b[0m\u001b[0m\n",
            "\u001b[0;31mKeyboardInterrupt\u001b[0m: "
          ]
        }
      ],
      "source": [
        "model = EEGNet_DAN(num_classes=2)\n",
        "source_data, source_label, val_data, val_label, target_data, target_label = read_bci_data()\n",
        "train(model, source_data, source_label, val_data, val_label, target_data, target_label, lambda_factor=0, batch_size=1080, epochs=200, lr=1e-2, path='DAN.jpg')\n",
        "# 发现：加入MK-MMD(gaussian kernels)收敛会变困难?"
      ]
    },
    {
      "cell_type": "markdown",
      "metadata": {
        "id": "5pQmQTxPgLra"
      },
      "source": [
        "### JAN"
      ]
    },
    {
      "cell_type": "code",
      "execution_count": 152,
      "metadata": {
        "colab": {
          "base_uri": "https://localhost:8080/",
          "height": 674
        },
        "id": "ggdaoy1vIcM7",
        "outputId": "07d10e38-c245-4d23-ebfd-99d09b3b0520"
      },
      "outputs": [
        {
          "output_type": "stream",
          "name": "stdout",
          "text": [
            "torch.Size([1080, 1, 2, 750]) torch.Size([1080]) torch.Size([1080, 1, 2, 750]) torch.Size([1080]) torch.Size([1080, 1, 2, 750]) torch.Size([1080])\n"
          ]
        },
        {
          "output_type": "stream",
          "name": "stderr",
          "text": [
            "  1%|          | 2/200 [00:00<00:16, 12.26it/s]"
          ]
        },
        {
          "output_type": "stream",
          "name": "stdout",
          "text": [
            "Model saved at epoch 1 with validation accuracy: 0.5028\n",
            "LR:  0.001 0.001\n",
            "Model saved at epoch 2 with validation accuracy: 0.5037\n",
            "LR:  0.001 0.001\n",
            "Model saved at epoch 3 with validation accuracy: 0.5065\n",
            "LR:  0.001 0.001\n"
          ]
        },
        {
          "output_type": "stream",
          "name": "stderr",
          "text": [
            "  3%|▎         | 6/200 [00:00<00:13, 14.17it/s]"
          ]
        },
        {
          "output_type": "stream",
          "name": "stdout",
          "text": [
            "Model saved at epoch 5 with validation accuracy: 0.5176\n",
            "LR:  0.001 0.001\n"
          ]
        },
        {
          "output_type": "stream",
          "name": "stderr",
          "text": [
            "\r  4%|▍         | 8/200 [00:00<00:13, 14.37it/s]"
          ]
        },
        {
          "output_type": "stream",
          "name": "stdout",
          "text": [
            "Model saved at epoch 7 with validation accuracy: 0.5509\n",
            "LR:  0.001 0.001\n",
            "Model saved at epoch 9 with validation accuracy: 0.5583\n",
            "LR:  0.001 0.001\n"
          ]
        },
        {
          "output_type": "stream",
          "name": "stderr",
          "text": [
            "\r  5%|▌         | 10/200 [00:00<00:13, 14.08it/s]"
          ]
        },
        {
          "output_type": "stream",
          "name": "stdout",
          "text": [
            "Model saved at epoch 10 with validation accuracy: 0.5796\n",
            "LR:  0.001 0.001\n"
          ]
        },
        {
          "output_type": "stream",
          "name": "stderr",
          "text": [
            "\r  6%|▌         | 12/200 [00:00<00:13, 14.43it/s]"
          ]
        },
        {
          "output_type": "stream",
          "name": "stdout",
          "text": [
            "Model saved at epoch 12 with validation accuracy: 0.5852\n",
            "LR:  0.001 0.001\n"
          ]
        },
        {
          "output_type": "stream",
          "name": "stderr",
          "text": [
            "\r  7%|▋         | 14/200 [00:00<00:12, 14.52it/s]"
          ]
        },
        {
          "output_type": "stream",
          "name": "stdout",
          "text": [
            "Model saved at epoch 13 with validation accuracy: 0.5917\n",
            "LR:  0.001 0.001\n"
          ]
        },
        {
          "output_type": "stream",
          "name": "stderr",
          "text": [
            " 78%|███████▊  | 155/200 [00:09<00:02, 15.62it/s]\n"
          ]
        },
        {
          "output_type": "error",
          "ename": "KeyboardInterrupt",
          "evalue": "ignored",
          "traceback": [
            "\u001b[0;31m---------------------------------------------------------------------------\u001b[0m",
            "\u001b[0;31mKeyboardInterrupt\u001b[0m                         Traceback (most recent call last)",
            "\u001b[0;32m<ipython-input-152-e77fc5595552>\u001b[0m in \u001b[0;36m<cell line: 3>\u001b[0;34m()\u001b[0m\n\u001b[1;32m      1\u001b[0m \u001b[0mmodel\u001b[0m \u001b[0;34m=\u001b[0m \u001b[0mEEGNet_JAN\u001b[0m\u001b[0;34m(\u001b[0m\u001b[0mnum_classes\u001b[0m\u001b[0;34m=\u001b[0m\u001b[0;36m2\u001b[0m\u001b[0;34m)\u001b[0m\u001b[0;34m\u001b[0m\u001b[0;34m\u001b[0m\u001b[0m\n\u001b[1;32m      2\u001b[0m \u001b[0msource_data\u001b[0m\u001b[0;34m,\u001b[0m \u001b[0msource_label\u001b[0m\u001b[0;34m,\u001b[0m \u001b[0mval_data\u001b[0m\u001b[0;34m,\u001b[0m \u001b[0mval_label\u001b[0m\u001b[0;34m,\u001b[0m \u001b[0mtarget_data\u001b[0m\u001b[0;34m,\u001b[0m \u001b[0mtarget_label\u001b[0m \u001b[0;34m=\u001b[0m \u001b[0mread_bci_data\u001b[0m\u001b[0;34m(\u001b[0m\u001b[0;34m)\u001b[0m\u001b[0;34m\u001b[0m\u001b[0;34m\u001b[0m\u001b[0m\n\u001b[0;32m----> 3\u001b[0;31m \u001b[0mtrain\u001b[0m\u001b[0;34m(\u001b[0m\u001b[0mmodel\u001b[0m\u001b[0;34m,\u001b[0m \u001b[0msource_data\u001b[0m\u001b[0;34m,\u001b[0m \u001b[0msource_label\u001b[0m\u001b[0;34m,\u001b[0m \u001b[0mval_data\u001b[0m\u001b[0;34m,\u001b[0m \u001b[0mval_label\u001b[0m\u001b[0;34m,\u001b[0m \u001b[0mtarget_data\u001b[0m\u001b[0;34m,\u001b[0m \u001b[0mtarget_label\u001b[0m\u001b[0;34m,\u001b[0m \u001b[0mlambda_factor\u001b[0m\u001b[0;34m=\u001b[0m\u001b[0;36m0\u001b[0m\u001b[0;34m,\u001b[0m \u001b[0mbatch_size\u001b[0m\u001b[0;34m=\u001b[0m\u001b[0;36m1080\u001b[0m\u001b[0;34m,\u001b[0m \u001b[0mepochs\u001b[0m\u001b[0;34m=\u001b[0m\u001b[0;36m200\u001b[0m\u001b[0;34m,\u001b[0m \u001b[0mlr\u001b[0m\u001b[0;34m=\u001b[0m\u001b[0;36m1e-2\u001b[0m\u001b[0;34m,\u001b[0m \u001b[0mpath\u001b[0m\u001b[0;34m=\u001b[0m\u001b[0;34m'JAN'\u001b[0m\u001b[0;34m,\u001b[0m \u001b[0mformat\u001b[0m\u001b[0;34m=\u001b[0m\u001b[0;34m'jpg'\u001b[0m\u001b[0;34m)\u001b[0m\u001b[0;34m\u001b[0m\u001b[0;34m\u001b[0m\u001b[0m\n\u001b[0m",
            "\u001b[0;32m<ipython-input-135-37c7aa6f4fa3>\u001b[0m in \u001b[0;36mtrain\u001b[0;34m(model, source_data, source_label, val_data, val_label, target_data, target_label, lambda_factor, batch_size, epochs, lr, path, format)\u001b[0m\n\u001b[1;32m     56\u001b[0m         \u001b[0mtrain_target_data\u001b[0m \u001b[0;34m=\u001b[0m \u001b[0mtrain_target_data\u001b[0m\u001b[0;34m.\u001b[0m\u001b[0mto\u001b[0m\u001b[0;34m(\u001b[0m\u001b[0mDEVICE\u001b[0m\u001b[0;34m)\u001b[0m\u001b[0;34m\u001b[0m\u001b[0;34m\u001b[0m\u001b[0m\n\u001b[1;32m     57\u001b[0m \u001b[0;34m\u001b[0m\u001b[0m\n\u001b[0;32m---> 58\u001b[0;31m         \u001b[0mpreds\u001b[0m\u001b[0;34m,\u001b[0m \u001b[0mmmd_loss\u001b[0m\u001b[0;34m,\u001b[0m \u001b[0msource\u001b[0m\u001b[0;34m,\u001b[0m \u001b[0mval\u001b[0m \u001b[0;34m=\u001b[0m \u001b[0mmodel\u001b[0m\u001b[0;34m(\u001b[0m\u001b[0msource_data\u001b[0m\u001b[0;34m,\u001b[0m \u001b[0mtrain_target_data\u001b[0m\u001b[0;34m)\u001b[0m\u001b[0;34m\u001b[0m\u001b[0;34m\u001b[0m\u001b[0m\n\u001b[0m\u001b[1;32m     59\u001b[0m \u001b[0;34m\u001b[0m\u001b[0m\n\u001b[1;32m     60\u001b[0m         \u001b[0;31m# compute loss\u001b[0m\u001b[0;34m\u001b[0m\u001b[0;34m\u001b[0m\u001b[0m\n",
            "\u001b[0;32m/usr/local/lib/python3.10/dist-packages/torch/nn/modules/module.py\u001b[0m in \u001b[0;36m_wrapped_call_impl\u001b[0;34m(self, *args, **kwargs)\u001b[0m\n\u001b[1;32m   1516\u001b[0m             \u001b[0;32mreturn\u001b[0m \u001b[0mself\u001b[0m\u001b[0;34m.\u001b[0m\u001b[0m_compiled_call_impl\u001b[0m\u001b[0;34m(\u001b[0m\u001b[0;34m*\u001b[0m\u001b[0margs\u001b[0m\u001b[0;34m,\u001b[0m \u001b[0;34m**\u001b[0m\u001b[0mkwargs\u001b[0m\u001b[0;34m)\u001b[0m  \u001b[0;31m# type: ignore[misc]\u001b[0m\u001b[0;34m\u001b[0m\u001b[0;34m\u001b[0m\u001b[0m\n\u001b[1;32m   1517\u001b[0m         \u001b[0;32melse\u001b[0m\u001b[0;34m:\u001b[0m\u001b[0;34m\u001b[0m\u001b[0;34m\u001b[0m\u001b[0m\n\u001b[0;32m-> 1518\u001b[0;31m             \u001b[0;32mreturn\u001b[0m \u001b[0mself\u001b[0m\u001b[0;34m.\u001b[0m\u001b[0m_call_impl\u001b[0m\u001b[0;34m(\u001b[0m\u001b[0;34m*\u001b[0m\u001b[0margs\u001b[0m\u001b[0;34m,\u001b[0m \u001b[0;34m**\u001b[0m\u001b[0mkwargs\u001b[0m\u001b[0;34m)\u001b[0m\u001b[0;34m\u001b[0m\u001b[0;34m\u001b[0m\u001b[0m\n\u001b[0m\u001b[1;32m   1519\u001b[0m \u001b[0;34m\u001b[0m\u001b[0m\n\u001b[1;32m   1520\u001b[0m     \u001b[0;32mdef\u001b[0m \u001b[0m_call_impl\u001b[0m\u001b[0;34m(\u001b[0m\u001b[0mself\u001b[0m\u001b[0;34m,\u001b[0m \u001b[0;34m*\u001b[0m\u001b[0margs\u001b[0m\u001b[0;34m,\u001b[0m \u001b[0;34m**\u001b[0m\u001b[0mkwargs\u001b[0m\u001b[0;34m)\u001b[0m\u001b[0;34m:\u001b[0m\u001b[0;34m\u001b[0m\u001b[0;34m\u001b[0m\u001b[0m\n",
            "\u001b[0;32m/usr/local/lib/python3.10/dist-packages/torch/nn/modules/module.py\u001b[0m in \u001b[0;36m_call_impl\u001b[0;34m(self, *args, **kwargs)\u001b[0m\n\u001b[1;32m   1525\u001b[0m                 \u001b[0;32mor\u001b[0m \u001b[0m_global_backward_pre_hooks\u001b[0m \u001b[0;32mor\u001b[0m \u001b[0m_global_backward_hooks\u001b[0m\u001b[0;34m\u001b[0m\u001b[0;34m\u001b[0m\u001b[0m\n\u001b[1;32m   1526\u001b[0m                 or _global_forward_hooks or _global_forward_pre_hooks):\n\u001b[0;32m-> 1527\u001b[0;31m             \u001b[0;32mreturn\u001b[0m \u001b[0mforward_call\u001b[0m\u001b[0;34m(\u001b[0m\u001b[0;34m*\u001b[0m\u001b[0margs\u001b[0m\u001b[0;34m,\u001b[0m \u001b[0;34m**\u001b[0m\u001b[0mkwargs\u001b[0m\u001b[0;34m)\u001b[0m\u001b[0;34m\u001b[0m\u001b[0;34m\u001b[0m\u001b[0m\n\u001b[0m\u001b[1;32m   1528\u001b[0m \u001b[0;34m\u001b[0m\u001b[0m\n\u001b[1;32m   1529\u001b[0m         \u001b[0;32mtry\u001b[0m\u001b[0;34m:\u001b[0m\u001b[0;34m\u001b[0m\u001b[0;34m\u001b[0m\u001b[0m\n",
            "\u001b[0;32m<ipython-input-3-3c82e1731c5e>\u001b[0m in \u001b[0;36mforward\u001b[0;34m(self, source, target)\u001b[0m\n\u001b[1;32m    262\u001b[0m         \u001b[0msource_list\u001b[0m \u001b[0;34m=\u001b[0m \u001b[0;34m[\u001b[0m\u001b[0mf1_s\u001b[0m\u001b[0;34m,\u001b[0m \u001b[0mf2_s\u001b[0m\u001b[0;34m,\u001b[0m \u001b[0mresult_s\u001b[0m\u001b[0;34m]\u001b[0m\u001b[0;34m\u001b[0m\u001b[0;34m\u001b[0m\u001b[0m\n\u001b[1;32m    263\u001b[0m         \u001b[0mtarget_list\u001b[0m \u001b[0;34m=\u001b[0m \u001b[0;34m[\u001b[0m\u001b[0mf1_t\u001b[0m\u001b[0;34m,\u001b[0m \u001b[0mf2_t\u001b[0m\u001b[0;34m,\u001b[0m \u001b[0mresult_t\u001b[0m\u001b[0;34m]\u001b[0m\u001b[0;34m\u001b[0m\u001b[0;34m\u001b[0m\u001b[0m\n\u001b[0;32m--> 264\u001b[0;31m         \u001b[0mmmd_loss\u001b[0m \u001b[0;34m=\u001b[0m \u001b[0mJMMD_Linear\u001b[0m\u001b[0;34m(\u001b[0m\u001b[0msource_list\u001b[0m\u001b[0;34m,\u001b[0m \u001b[0mtarget_list\u001b[0m\u001b[0;34m)\u001b[0m \u001b[0;31m# P(Y)\u001b[0m\u001b[0;34m\u001b[0m\u001b[0;34m\u001b[0m\u001b[0m\n\u001b[0m\u001b[1;32m    265\u001b[0m \u001b[0;34m\u001b[0m\u001b[0m\n\u001b[1;32m    266\u001b[0m         \u001b[0;32mreturn\u001b[0m \u001b[0mresult_s\u001b[0m\u001b[0;34m,\u001b[0m \u001b[0mmmd_loss\u001b[0m\u001b[0;34m,\u001b[0m \u001b[0mf2_s\u001b[0m\u001b[0;34m,\u001b[0m \u001b[0mf2_t\u001b[0m\u001b[0;34m\u001b[0m\u001b[0;34m\u001b[0m\u001b[0m\n",
            "\u001b[0;32m<ipython-input-82-506811df7efb>\u001b[0m in \u001b[0;36mJMMD_Linear\u001b[0;34m(source_list, target_list, kernel_muls, kernel_nums, fix_sigma_list)\u001b[0m\n\u001b[1;32m    112\u001b[0m \u001b[0;34m\u001b[0m\u001b[0m\n\u001b[1;32m    113\u001b[0m     \u001b[0;31m# Compute the loss in a vectorized way\u001b[0m\u001b[0;34m\u001b[0m\u001b[0;34m\u001b[0m\u001b[0m\n\u001b[0;32m--> 114\u001b[0;31m     \u001b[0mloss\u001b[0m \u001b[0;34m=\u001b[0m \u001b[0mtorch\u001b[0m\u001b[0;34m.\u001b[0m\u001b[0msum\u001b[0m\u001b[0;34m(\u001b[0m\u001b[0mjoint_kernels\u001b[0m\u001b[0;34m[\u001b[0m\u001b[0ms1\u001b[0m\u001b[0;34m,\u001b[0m \u001b[0ms2\u001b[0m\u001b[0;34m]\u001b[0m \u001b[0;34m+\u001b[0m \u001b[0mjoint_kernels\u001b[0m\u001b[0;34m[\u001b[0m\u001b[0mt1\u001b[0m\u001b[0;34m,\u001b[0m \u001b[0mt2\u001b[0m\u001b[0;34m]\u001b[0m \u001b[0;34m-\u001b[0m \u001b[0mjoint_kernels\u001b[0m\u001b[0;34m[\u001b[0m\u001b[0ms1\u001b[0m\u001b[0;34m,\u001b[0m \u001b[0mt2\u001b[0m\u001b[0;34m]\u001b[0m \u001b[0;34m-\u001b[0m \u001b[0mjoint_kernels\u001b[0m\u001b[0;34m[\u001b[0m\u001b[0ms2\u001b[0m\u001b[0;34m,\u001b[0m \u001b[0mt1\u001b[0m\u001b[0;34m]\u001b[0m\u001b[0;34m)\u001b[0m\u001b[0;34m\u001b[0m\u001b[0;34m\u001b[0m\u001b[0m\n\u001b[0m\u001b[1;32m    115\u001b[0m     \u001b[0;32mreturn\u001b[0m \u001b[0mtorch\u001b[0m\u001b[0;34m.\u001b[0m\u001b[0mabs\u001b[0m\u001b[0;34m(\u001b[0m\u001b[0mloss\u001b[0m\u001b[0;34m)\u001b[0m \u001b[0;34m/\u001b[0m \u001b[0mfloat\u001b[0m\u001b[0;34m(\u001b[0m\u001b[0mbatch_size\u001b[0m\u001b[0;34m)\u001b[0m \u001b[0;31m# loss might be negative\u001b[0m\u001b[0;34m\u001b[0m\u001b[0;34m\u001b[0m\u001b[0m\n\u001b[1;32m    116\u001b[0m \u001b[0;34m\u001b[0m\u001b[0m\n",
            "\u001b[0;31mKeyboardInterrupt\u001b[0m: "
          ]
        }
      ],
      "source": [
        "model = EEGNet_JAN(num_classes=2)\n",
        "source_data, source_label, val_data, val_label, target_data, target_label = read_bci_data()\n",
        "train(model, source_data, source_label, val_data, val_label, target_data, target_label, lambda_factor=0, batch_size=1080, epochs=200, lr=1e-2, path='JAN', format='jpg')"
      ]
    },
    {
      "cell_type": "markdown",
      "metadata": {
        "id": "YWnzLk8sDbqC"
      },
      "source": [
        "# DJP-MMD"
      ]
    },
    {
      "cell_type": "code",
      "execution_count": 130,
      "metadata": {
        "id": "uwJvXjRGDaQi"
      },
      "outputs": [],
      "source": [
        "# MMD, JMMD, JPMMD, DJP-MMD\n",
        "def mmd_loss(x_src, y_src, x_tar, y_pseudo, mmd_type):\n",
        "    if mmd_type == 'mmd':\n",
        "        return rbf_mmd(x_src, x_tar, SIGMA)\n",
        "    elif mmd_type == 'jmmd':\n",
        "        return rbf_jmmd(x_src, y_src, x_tar, y_pseudo, SIGMA)\n",
        "    elif mmd_type == 'jpmmd':\n",
        "        return rbf_jpmmd(x_src, y_src, x_tar, y_pseudo, SIGMA)\n",
        "    elif mmd_type == 'djpmmd':\n",
        "        return rbf_djpmmd(x_src, y_src, x_tar, y_pseudo, SIGMA)\n",
        "\n",
        "\n",
        "def test(data, label, model):\n",
        "    model.eval()\n",
        "    with torch.no_grad():\n",
        "        data, label = data.to(DEVICE), label.to(DEVICE)\n",
        "        pred, _, _ = model(data, data)\n",
        "\n",
        "        correct_cnt = (torch.max(pred, 1)[1] == label).sum().item()\n",
        "        sample_cnt = data.shape[0]\n",
        "        accuracy = correct_cnt / sample_cnt\n",
        "\n",
        "    return accuracy\n",
        "\n",
        "def lr_lambda(epoch):\n",
        "    if epoch < 100:\n",
        "        return 0.1\n",
        "    else:\n",
        "        lr = 0.1 ** ((epoch // 100) + 1)\n",
        "        return 1e-4 if lr < 1e-4 else lr\n",
        "\n",
        "\n",
        "def train(model, source_data, source_label, val_data, val_label, target_data, target_label, lambda_factor=0.5, batch_size=1080, epochs=500, lr=1e-1, path='test', format='jpg'):\n",
        "    train_dataset = TensorDataset(source_data, source_label)\n",
        "    val_dataset = TensorDataset(val_data, val_label)\n",
        "\n",
        "    train_loader = DataLoader(dataset=train_dataset, batch_size=batch_size, shuffle=True)\n",
        "    val_loader = DataLoader(dataset=val_dataset, batch_size=batch_size, shuffle=True)\n",
        "\n",
        "    loss_fn = nn.CrossEntropyLoss()\n",
        "\n",
        "    optimizer = optim.Adam(model.parameters(), lr = lr)\n",
        "    # optimizer = optim.SGD(model.parameters(), lr=lr, momentum=0.5, weight_decay=5e-4)\n",
        "    lr_scheduler = LambdaLR(optimizer, lr_lambda)\n",
        "\n",
        "    model.to(DEVICE)\n",
        "\n",
        "    mmd_type = 'djpmmd'\n",
        "    y_pse = torch.zeros(1080).long().cuda()\n",
        "\n",
        "    clf_loss_history = []\n",
        "    mmd_loss_history = []\n",
        "    train_accuracy_history = []\n",
        "    val_accuracy_history = []\n",
        "    test_accuracy_history = []\n",
        "\n",
        "    best_acc = 0\n",
        "\n",
        "    for epoch in tqdm(range(epochs)):\n",
        "        model.train()\n",
        "\n",
        "        optimizer.zero_grad()\n",
        "\n",
        "        source_data, source_label = source_data.to(DEVICE), source_label.to(DEVICE)\n",
        "        # source_label.reshape(1080, 1)\n",
        "        target_data = target_data.to(DEVICE)\n",
        "        val_data, val_label = val_data.to(DEVICE), val_label.to(DEVICE)\n",
        "\n",
        "        y_src, features_src, features_tar = model(source_data, val_data)\n",
        "        # print(\"fshj\", y_src.shape)\n",
        "        # print(len(torch.unique(y_src)))\n",
        "\n",
        "        # compute loss\n",
        "        clf_loss = loss_fn(y_src, source_label)\n",
        "\n",
        "        loss_mmd = mmd_loss(features_src, source_label.long(), features_tar, y_pse, mmd_type) # use true lable in the source domain to compute loss\n",
        "        # loss_mmd = CS(features_src, features_tar, sigma=1, median_sigma=0)  #+ CCS(features_src, features_tar, source_label.float(), y_pse.float(), sigma=1, median_sigma=0)\n",
        "        # loss_mmd = torch.tensor(0)\n",
        "        # print('CS', CS(features_src, features_tar, sigma=1, median_sigma=0).item())\n",
        "        # print('CCS', CCS(features_src, features_tar, source_label.float(), y_pse.float(), sigma=1, median_sigma=0).item())\n",
        "        # print()\n",
        "        # float(): RuntimeError: \"dot\" not implemented for 'Long', PyTorch 的 dot 函数不支持这种数据类型。dot 函数通常用于浮点数类型的张量，如 float32 或 float64\n",
        "\n",
        "        loss = clf_loss + lambda_factor * loss_mmd\n",
        "        # loss = clf_loss / lambda_factor + loss_mmd\n",
        "\n",
        "        model.eval()\n",
        "        y_pse, _, _ = model(val_data, val_data)\n",
        "        y_pse = y_pse.detach().max(1)[1]\n",
        "\n",
        "        clf_loss_history.append(loss.item())\n",
        "        mmd_loss_history.append(loss_mmd.item())\n",
        "\n",
        "        correct_cnt = (torch.max(y_src, 1)[1] == source_label).sum().item()\n",
        "        accuracy = correct_cnt / source_data.shape[0]\n",
        "        train_accuracy_history.append(accuracy)\n",
        "\n",
        "        loss.backward()\n",
        "        optimizer.step()\n",
        "        lr_scheduler.step()\n",
        "\n",
        "\n",
        "        val_accuracy = test(val_data, val_label, model)\n",
        "        val_accuracy_history.append(val_accuracy)\n",
        "        if val_accuracy > best_acc:\n",
        "            best_acc = val_accuracy\n",
        "            torch.save(model.state_dict(), 'DA_best_model.pth')\n",
        "            print(f'Model saved at epoch {epoch+1} with validation accuracy: {val_accuracy:.4f}')\n",
        "\n",
        "            print(\"LR: \", lr_scheduler.get_last_lr()[0], optimizer.state_dict()['param_groups'][0]['lr'])\n",
        "        # print(f'classification loss: {clf_loss.item()}, discrepency: {loss_mmd.item()}')\n",
        "\n",
        "        if epoch == epochs - 1:\n",
        "            tsne_visulization(features_src.cpu().detach().numpy(), features_tar.cpu().detach().numpy(), path='original.jpg')\n",
        "\n",
        "\n",
        "    print(\"the best accuracy is: \", best_acc)\n",
        "    with torch.no_grad():\n",
        "        model.load_state_dict(torch.load(\"DA_best_model.pth\"))\n",
        "        _, source_features, val_features = model(source_data.to(DEVICE), val_data.to(DEVICE))\n",
        "        tsne_visulization(source_features.cpu().detach().numpy(), val_features.cpu().detach().numpy(), path='original.jpg')\n",
        "\n",
        "    plt.figure(figsize=(16, 4))\n",
        "    plt.subplot(1, 2, 1)\n",
        "    # plt.plot(loss_history, label=\"Loss\")\n",
        "    plt.plot(train_accuracy_history, label='Train Accuracy')\n",
        "    plt.plot(val_accuracy_history, label='Validation Accuracy')\n",
        "    plt.plot(test_accuracy_history, label='Test Accuracy')\n",
        "    plt.xlabel('Epochs')\n",
        "    plt.ylabel('Accuracy')\n",
        "    plt.legend()\n",
        "    plt.title('Accuracy Curve')\n",
        "    plt.grid(True)\n",
        "    # plt.show()\n",
        "\n",
        "\n",
        "    plt.subplot(1, 2, 2)\n",
        "    plt.plot(clf_loss_history, label=\"CLF Loss\")\n",
        "    plt.plot(mmd_loss_history, label='MMD Loss')\n",
        "    plt.xlabel('Epochs')\n",
        "    plt.ylabel('Loss')\n",
        "    plt.legend()\n",
        "    plt.title('Loss Curve')\n",
        "    plt.grid(True)\n",
        "    plt.show()"
      ]
    },
    {
      "cell_type": "code",
      "source": [
        "# LEARNING RATE FROM 1e-4 to 1e-1\n",
        "model = EEGNet_DA1(n_output=2)\n",
        "model.apply(init_weights)\n",
        "source_data, source_label, val_data, val_label, target_data, target_label = read_bci_data()\n",
        "train(model, source_data, source_label, val_data, val_label, target_data, target_label, lambda_factor=0, batch_size=1080, epochs=200, lr=1e-2, path='DJPMMD', format='jpg')"
      ],
      "metadata": {
        "colab": {
          "base_uri": "https://localhost:8080/",
          "height": 972
        },
        "id": "bPQ7He4b71-3",
        "outputId": "5292abef-ba46-4b9b-d5c5-a68686d63756"
      },
      "execution_count": 132,
      "outputs": [
        {
          "output_type": "stream",
          "name": "stdout",
          "text": [
            "torch.Size([1080, 1, 2, 750]) torch.Size([1080]) torch.Size([1080, 1, 2, 750]) torch.Size([1080]) torch.Size([1080, 1, 2, 750]) torch.Size([1080])\n"
          ]
        },
        {
          "output_type": "stream",
          "name": "stderr",
          "text": [
            "  2%|▏         | 3/200 [00:00<00:09, 20.22it/s]"
          ]
        },
        {
          "output_type": "stream",
          "name": "stdout",
          "text": [
            "Model saved at epoch 1 with validation accuracy: 0.5000\n",
            "LR:  0.001 0.001\n",
            "Model saved at epoch 3 with validation accuracy: 0.5065\n",
            "LR:  0.001 0.001\n",
            "Model saved at epoch 4 with validation accuracy: 0.5083\n",
            "LR:  0.001 0.001\n"
          ]
        },
        {
          "output_type": "stream",
          "name": "stderr",
          "text": [
            "\r  3%|▎         | 6/200 [00:00<00:09, 20.83it/s]"
          ]
        },
        {
          "output_type": "stream",
          "name": "stdout",
          "text": [
            "Model saved at epoch 7 with validation accuracy: 0.5130\n",
            "LR:  0.001 0.001\n",
            "Model saved at epoch 8 with validation accuracy: 0.5167\n",
            "LR:  0.001 0.001\n"
          ]
        },
        {
          "output_type": "stream",
          "name": "stderr",
          "text": [
            "\r  4%|▍         | 9/200 [00:00<00:09, 20.50it/s]"
          ]
        },
        {
          "output_type": "stream",
          "name": "stdout",
          "text": [
            "Model saved at epoch 9 with validation accuracy: 0.5370\n",
            "LR:  0.001 0.001\n",
            "Model saved at epoch 10 with validation accuracy: 0.5509\n",
            "LR:  0.001 0.001\n"
          ]
        },
        {
          "output_type": "stream",
          "name": "stderr",
          "text": [
            "\r  6%|▌         | 12/200 [00:00<00:09, 20.64it/s]"
          ]
        },
        {
          "output_type": "stream",
          "name": "stdout",
          "text": [
            "Model saved at epoch 12 with validation accuracy: 0.5537\n",
            "LR:  0.001 0.001\n",
            "Model saved at epoch 13 with validation accuracy: 0.5639\n",
            "LR:  0.001 0.001\n"
          ]
        },
        {
          "output_type": "stream",
          "name": "stderr",
          "text": [
            "\r  8%|▊         | 15/200 [00:00<00:08, 20.75it/s]"
          ]
        },
        {
          "output_type": "stream",
          "name": "stdout",
          "text": [
            "Model saved at epoch 14 with validation accuracy: 0.5667\n",
            "LR:  0.001 0.001\n"
          ]
        },
        {
          "output_type": "stream",
          "name": "stderr",
          "text": [
            " 10%|█         | 21/200 [00:01<00:08, 21.17it/s]"
          ]
        },
        {
          "output_type": "stream",
          "name": "stdout",
          "text": [
            "Model saved at epoch 19 with validation accuracy: 0.5741\n",
            "LR:  0.001 0.001\n",
            "Model saved at epoch 20 with validation accuracy: 0.5833\n",
            "LR:  0.001 0.001\n",
            "Model saved at epoch 22 with validation accuracy: 0.5852\n",
            "LR:  0.001 0.001\n"
          ]
        },
        {
          "output_type": "stream",
          "name": "stderr",
          "text": [
            " 15%|█▌        | 30/200 [00:01<00:07, 21.49it/s]"
          ]
        },
        {
          "output_type": "stream",
          "name": "stdout",
          "text": [
            "Model saved at epoch 27 with validation accuracy: 0.5926\n",
            "LR:  0.001 0.001\n",
            "Model saved at epoch 28 with validation accuracy: 0.5935\n",
            "LR:  0.001 0.001\n",
            "Model saved at epoch 31 with validation accuracy: 0.5944\n",
            "LR:  0.001 0.001\n"
          ]
        },
        {
          "output_type": "stream",
          "name": "stderr",
          "text": [
            " 20%|█▉        | 39/200 [00:01<00:07, 21.54it/s]"
          ]
        },
        {
          "output_type": "stream",
          "name": "stdout",
          "text": [
            "Model saved at epoch 36 with validation accuracy: 0.5954\n",
            "LR:  0.001 0.001\n",
            "Model saved at epoch 37 with validation accuracy: 0.5972\n",
            "LR:  0.001 0.001\n"
          ]
        },
        {
          "output_type": "stream",
          "name": "stderr",
          "text": [
            " 68%|██████▊   | 135/200 [00:06<00:02, 22.01it/s]\n"
          ]
        },
        {
          "output_type": "error",
          "ename": "KeyboardInterrupt",
          "evalue": "ignored",
          "traceback": [
            "\u001b[0;31m---------------------------------------------------------------------------\u001b[0m",
            "\u001b[0;31mKeyboardInterrupt\u001b[0m                         Traceback (most recent call last)",
            "\u001b[0;32m<ipython-input-132-d5bb62f53c76>\u001b[0m in \u001b[0;36m<cell line: 5>\u001b[0;34m()\u001b[0m\n\u001b[1;32m      3\u001b[0m \u001b[0mmodel\u001b[0m\u001b[0;34m.\u001b[0m\u001b[0mapply\u001b[0m\u001b[0;34m(\u001b[0m\u001b[0minit_weights\u001b[0m\u001b[0;34m)\u001b[0m\u001b[0;34m\u001b[0m\u001b[0;34m\u001b[0m\u001b[0m\n\u001b[1;32m      4\u001b[0m \u001b[0msource_data\u001b[0m\u001b[0;34m,\u001b[0m \u001b[0msource_label\u001b[0m\u001b[0;34m,\u001b[0m \u001b[0mval_data\u001b[0m\u001b[0;34m,\u001b[0m \u001b[0mval_label\u001b[0m\u001b[0;34m,\u001b[0m \u001b[0mtarget_data\u001b[0m\u001b[0;34m,\u001b[0m \u001b[0mtarget_label\u001b[0m \u001b[0;34m=\u001b[0m \u001b[0mread_bci_data\u001b[0m\u001b[0;34m(\u001b[0m\u001b[0;34m)\u001b[0m\u001b[0;34m\u001b[0m\u001b[0;34m\u001b[0m\u001b[0m\n\u001b[0;32m----> 5\u001b[0;31m \u001b[0mtrain\u001b[0m\u001b[0;34m(\u001b[0m\u001b[0mmodel\u001b[0m\u001b[0;34m,\u001b[0m \u001b[0msource_data\u001b[0m\u001b[0;34m,\u001b[0m \u001b[0msource_label\u001b[0m\u001b[0;34m,\u001b[0m \u001b[0mval_data\u001b[0m\u001b[0;34m,\u001b[0m \u001b[0mval_label\u001b[0m\u001b[0;34m,\u001b[0m \u001b[0mtarget_data\u001b[0m\u001b[0;34m,\u001b[0m \u001b[0mtarget_label\u001b[0m\u001b[0;34m,\u001b[0m \u001b[0mlambda_factor\u001b[0m\u001b[0;34m=\u001b[0m\u001b[0;36m0\u001b[0m\u001b[0;34m,\u001b[0m \u001b[0mbatch_size\u001b[0m\u001b[0;34m=\u001b[0m\u001b[0;36m1080\u001b[0m\u001b[0;34m,\u001b[0m \u001b[0mepochs\u001b[0m\u001b[0;34m=\u001b[0m\u001b[0;36m200\u001b[0m\u001b[0;34m,\u001b[0m \u001b[0mlr\u001b[0m\u001b[0;34m=\u001b[0m\u001b[0;36m1e-2\u001b[0m\u001b[0;34m,\u001b[0m \u001b[0mpath\u001b[0m\u001b[0;34m=\u001b[0m\u001b[0;34m'DJPMMD'\u001b[0m\u001b[0;34m,\u001b[0m \u001b[0mformat\u001b[0m\u001b[0;34m=\u001b[0m\u001b[0;34m'jpg'\u001b[0m\u001b[0;34m)\u001b[0m\u001b[0;34m\u001b[0m\u001b[0;34m\u001b[0m\u001b[0m\n\u001b[0m",
            "\u001b[0;32m<ipython-input-130-77ff9e20fa07>\u001b[0m in \u001b[0;36mtrain\u001b[0;34m(model, source_data, source_label, val_data, val_label, target_data, target_label, lambda_factor, batch_size, epochs, lr, path, format)\u001b[0m\n\u001b[1;32m     74\u001b[0m         \u001b[0mclf_loss\u001b[0m \u001b[0;34m=\u001b[0m \u001b[0mloss_fn\u001b[0m\u001b[0;34m(\u001b[0m\u001b[0my_src\u001b[0m\u001b[0;34m,\u001b[0m \u001b[0msource_label\u001b[0m\u001b[0;34m)\u001b[0m\u001b[0;34m\u001b[0m\u001b[0;34m\u001b[0m\u001b[0m\n\u001b[1;32m     75\u001b[0m \u001b[0;34m\u001b[0m\u001b[0m\n\u001b[0;32m---> 76\u001b[0;31m         \u001b[0mloss_mmd\u001b[0m \u001b[0;34m=\u001b[0m \u001b[0mmmd_loss\u001b[0m\u001b[0;34m(\u001b[0m\u001b[0mfeatures_src\u001b[0m\u001b[0;34m,\u001b[0m \u001b[0msource_label\u001b[0m\u001b[0;34m.\u001b[0m\u001b[0mlong\u001b[0m\u001b[0;34m(\u001b[0m\u001b[0;34m)\u001b[0m\u001b[0;34m,\u001b[0m \u001b[0mfeatures_tar\u001b[0m\u001b[0;34m,\u001b[0m \u001b[0my_pse\u001b[0m\u001b[0;34m,\u001b[0m \u001b[0mmmd_type\u001b[0m\u001b[0;34m)\u001b[0m \u001b[0;31m# use true lable in the source domain to compute loss\u001b[0m\u001b[0;34m\u001b[0m\u001b[0;34m\u001b[0m\u001b[0m\n\u001b[0m\u001b[1;32m     77\u001b[0m         \u001b[0;31m# loss_mmd = CS(features_src, features_tar, sigma=1, median_sigma=0)  #+ CCS(features_src, features_tar, source_label.float(), source_label.float(), sigma=1, median_sigma=0)\u001b[0m\u001b[0;34m\u001b[0m\u001b[0;34m\u001b[0m\u001b[0m\n\u001b[1;32m     78\u001b[0m         \u001b[0;31m# loss_mmd = torch.tensor(0)\u001b[0m\u001b[0;34m\u001b[0m\u001b[0;34m\u001b[0m\u001b[0m\n",
            "\u001b[0;32m<ipython-input-130-77ff9e20fa07>\u001b[0m in \u001b[0;36mmmd_loss\u001b[0;34m(x_src, y_src, x_tar, y_pseudo, mmd_type)\u001b[0m\n\u001b[1;32m      8\u001b[0m         \u001b[0;32mreturn\u001b[0m \u001b[0mrbf_jpmmd\u001b[0m\u001b[0;34m(\u001b[0m\u001b[0mx_src\u001b[0m\u001b[0;34m,\u001b[0m \u001b[0my_src\u001b[0m\u001b[0;34m,\u001b[0m \u001b[0mx_tar\u001b[0m\u001b[0;34m,\u001b[0m \u001b[0my_pseudo\u001b[0m\u001b[0;34m,\u001b[0m \u001b[0mSIGMA\u001b[0m\u001b[0;34m)\u001b[0m\u001b[0;34m\u001b[0m\u001b[0;34m\u001b[0m\u001b[0m\n\u001b[1;32m      9\u001b[0m     \u001b[0;32melif\u001b[0m \u001b[0mmmd_type\u001b[0m \u001b[0;34m==\u001b[0m \u001b[0;34m'djpmmd'\u001b[0m\u001b[0;34m:\u001b[0m\u001b[0;34m\u001b[0m\u001b[0;34m\u001b[0m\u001b[0m\n\u001b[0;32m---> 10\u001b[0;31m         \u001b[0;32mreturn\u001b[0m \u001b[0mrbf_djpmmd\u001b[0m\u001b[0;34m(\u001b[0m\u001b[0mx_src\u001b[0m\u001b[0;34m,\u001b[0m \u001b[0my_src\u001b[0m\u001b[0;34m,\u001b[0m \u001b[0mx_tar\u001b[0m\u001b[0;34m,\u001b[0m \u001b[0my_pseudo\u001b[0m\u001b[0;34m,\u001b[0m \u001b[0mSIGMA\u001b[0m\u001b[0;34m)\u001b[0m\u001b[0;34m\u001b[0m\u001b[0;34m\u001b[0m\u001b[0m\n\u001b[0m\u001b[1;32m     11\u001b[0m \u001b[0;34m\u001b[0m\u001b[0m\n\u001b[1;32m     12\u001b[0m \u001b[0;34m\u001b[0m\u001b[0m\n",
            "\u001b[0;32m<ipython-input-82-506811df7efb>\u001b[0m in \u001b[0;36mrbf_djpmmd\u001b[0;34m(Xs, Ys, Xt, Yt0, sigma)\u001b[0m\n\u001b[1;32m    207\u001b[0m     \u001b[0mNs\u001b[0m \u001b[0;34m=\u001b[0m \u001b[0mtorch\u001b[0m\u001b[0;34m.\u001b[0m\u001b[0mzeros\u001b[0m\u001b[0;34m(\u001b[0m\u001b[0mm\u001b[0m\u001b[0;34m,\u001b[0m \u001b[0mC\u001b[0m\u001b[0;34m,\u001b[0m \u001b[0mdevice\u001b[0m\u001b[0;34m=\u001b[0m\u001b[0mdevice\u001b[0m\u001b[0;34m)\u001b[0m\u001b[0;34m.\u001b[0m\u001b[0mscatter_\u001b[0m\u001b[0;34m(\u001b[0m\u001b[0;36m1\u001b[0m\u001b[0;34m,\u001b[0m \u001b[0mYs\u001b[0m\u001b[0;34m.\u001b[0m\u001b[0munsqueeze\u001b[0m\u001b[0;34m(\u001b[0m\u001b[0;36m1\u001b[0m\u001b[0;34m)\u001b[0m\u001b[0;34m,\u001b[0m \u001b[0;36m1\u001b[0m\u001b[0;34m)\u001b[0m \u001b[0;34m/\u001b[0m \u001b[0mm\u001b[0m\u001b[0;34m\u001b[0m\u001b[0;34m\u001b[0m\u001b[0m\n\u001b[1;32m    208\u001b[0m     \u001b[0mNt\u001b[0m \u001b[0;34m=\u001b[0m \u001b[0mtorch\u001b[0m\u001b[0;34m.\u001b[0m\u001b[0mzeros\u001b[0m\u001b[0;34m(\u001b[0m\u001b[0mm\u001b[0m\u001b[0;34m,\u001b[0m \u001b[0mC\u001b[0m\u001b[0;34m,\u001b[0m \u001b[0mdevice\u001b[0m\u001b[0;34m=\u001b[0m\u001b[0mdevice\u001b[0m\u001b[0;34m)\u001b[0m\u001b[0;34m\u001b[0m\u001b[0;34m\u001b[0m\u001b[0m\n\u001b[0;32m--> 209\u001b[0;31m     \u001b[0;32mif\u001b[0m \u001b[0mlen\u001b[0m\u001b[0;34m(\u001b[0m\u001b[0mtorch\u001b[0m\u001b[0;34m.\u001b[0m\u001b[0munique\u001b[0m\u001b[0;34m(\u001b[0m\u001b[0mYt0\u001b[0m\u001b[0;34m)\u001b[0m\u001b[0;34m)\u001b[0m \u001b[0;34m==\u001b[0m \u001b[0;36m1\u001b[0m\u001b[0;34m:\u001b[0m\u001b[0;34m\u001b[0m\u001b[0;34m\u001b[0m\u001b[0m\n\u001b[0m\u001b[1;32m    210\u001b[0m         \u001b[0mNt\u001b[0m \u001b[0;34m=\u001b[0m \u001b[0mtorch\u001b[0m\u001b[0;34m.\u001b[0m\u001b[0mzeros\u001b[0m\u001b[0;34m(\u001b[0m\u001b[0mm\u001b[0m\u001b[0;34m,\u001b[0m \u001b[0mC\u001b[0m\u001b[0;34m,\u001b[0m \u001b[0mdevice\u001b[0m\u001b[0;34m=\u001b[0m\u001b[0mdevice\u001b[0m\u001b[0;34m)\u001b[0m\u001b[0;34m.\u001b[0m\u001b[0mscatter_\u001b[0m\u001b[0;34m(\u001b[0m\u001b[0;36m1\u001b[0m\u001b[0;34m,\u001b[0m \u001b[0mYt0\u001b[0m\u001b[0;34m.\u001b[0m\u001b[0munsqueeze\u001b[0m\u001b[0;34m(\u001b[0m\u001b[0;36m1\u001b[0m\u001b[0;34m)\u001b[0m\u001b[0;34m,\u001b[0m \u001b[0;36m1\u001b[0m\u001b[0;34m)\u001b[0m \u001b[0;34m/\u001b[0m \u001b[0mm\u001b[0m\u001b[0;34m\u001b[0m\u001b[0;34m\u001b[0m\u001b[0m\n\u001b[1;32m    211\u001b[0m \u001b[0;34m\u001b[0m\u001b[0m\n",
            "\u001b[0;32m/usr/local/lib/python3.10/dist-packages/torch/_jit_internal.py\u001b[0m in \u001b[0;36mfn\u001b[0;34m(*args, **kwargs)\u001b[0m\n\u001b[1;32m    486\u001b[0m             \u001b[0;32mreturn\u001b[0m \u001b[0mif_true\u001b[0m\u001b[0;34m(\u001b[0m\u001b[0;34m*\u001b[0m\u001b[0margs\u001b[0m\u001b[0;34m,\u001b[0m \u001b[0;34m**\u001b[0m\u001b[0mkwargs\u001b[0m\u001b[0;34m)\u001b[0m\u001b[0;34m\u001b[0m\u001b[0;34m\u001b[0m\u001b[0m\n\u001b[1;32m    487\u001b[0m         \u001b[0;32melse\u001b[0m\u001b[0;34m:\u001b[0m\u001b[0;34m\u001b[0m\u001b[0;34m\u001b[0m\u001b[0m\n\u001b[0;32m--> 488\u001b[0;31m             \u001b[0;32mreturn\u001b[0m \u001b[0mif_false\u001b[0m\u001b[0;34m(\u001b[0m\u001b[0;34m*\u001b[0m\u001b[0margs\u001b[0m\u001b[0;34m,\u001b[0m \u001b[0;34m**\u001b[0m\u001b[0mkwargs\u001b[0m\u001b[0;34m)\u001b[0m\u001b[0;34m\u001b[0m\u001b[0;34m\u001b[0m\u001b[0m\n\u001b[0m\u001b[1;32m    489\u001b[0m \u001b[0;34m\u001b[0m\u001b[0m\n\u001b[1;32m    490\u001b[0m     \u001b[0;32mif\u001b[0m \u001b[0mif_true\u001b[0m\u001b[0;34m.\u001b[0m\u001b[0m__doc__\u001b[0m \u001b[0;32mis\u001b[0m \u001b[0;32mNone\u001b[0m \u001b[0;32mand\u001b[0m \u001b[0mif_false\u001b[0m\u001b[0;34m.\u001b[0m\u001b[0m__doc__\u001b[0m \u001b[0;32mis\u001b[0m \u001b[0;32mnot\u001b[0m \u001b[0;32mNone\u001b[0m\u001b[0;34m:\u001b[0m\u001b[0;34m\u001b[0m\u001b[0;34m\u001b[0m\u001b[0m\n",
            "\u001b[0;32m/usr/local/lib/python3.10/dist-packages/torch/_jit_internal.py\u001b[0m in \u001b[0;36mfn\u001b[0;34m(*args, **kwargs)\u001b[0m\n\u001b[1;32m    486\u001b[0m             \u001b[0;32mreturn\u001b[0m \u001b[0mif_true\u001b[0m\u001b[0;34m(\u001b[0m\u001b[0;34m*\u001b[0m\u001b[0margs\u001b[0m\u001b[0;34m,\u001b[0m \u001b[0;34m**\u001b[0m\u001b[0mkwargs\u001b[0m\u001b[0;34m)\u001b[0m\u001b[0;34m\u001b[0m\u001b[0;34m\u001b[0m\u001b[0m\n\u001b[1;32m    487\u001b[0m         \u001b[0;32melse\u001b[0m\u001b[0;34m:\u001b[0m\u001b[0;34m\u001b[0m\u001b[0;34m\u001b[0m\u001b[0m\n\u001b[0;32m--> 488\u001b[0;31m             \u001b[0;32mreturn\u001b[0m \u001b[0mif_false\u001b[0m\u001b[0;34m(\u001b[0m\u001b[0;34m*\u001b[0m\u001b[0margs\u001b[0m\u001b[0;34m,\u001b[0m \u001b[0;34m**\u001b[0m\u001b[0mkwargs\u001b[0m\u001b[0;34m)\u001b[0m\u001b[0;34m\u001b[0m\u001b[0;34m\u001b[0m\u001b[0m\n\u001b[0m\u001b[1;32m    489\u001b[0m \u001b[0;34m\u001b[0m\u001b[0m\n\u001b[1;32m    490\u001b[0m     \u001b[0;32mif\u001b[0m \u001b[0mif_true\u001b[0m\u001b[0;34m.\u001b[0m\u001b[0m__doc__\u001b[0m \u001b[0;32mis\u001b[0m \u001b[0;32mNone\u001b[0m \u001b[0;32mand\u001b[0m \u001b[0mif_false\u001b[0m\u001b[0;34m.\u001b[0m\u001b[0m__doc__\u001b[0m \u001b[0;32mis\u001b[0m \u001b[0;32mnot\u001b[0m \u001b[0;32mNone\u001b[0m\u001b[0;34m:\u001b[0m\u001b[0;34m\u001b[0m\u001b[0;34m\u001b[0m\u001b[0m\n",
            "\u001b[0;32m/usr/local/lib/python3.10/dist-packages/torch/functional.py\u001b[0m in \u001b[0;36m_return_output\u001b[0;34m(input, sorted, return_inverse, return_counts, dim)\u001b[0m\n\u001b[1;32m    974\u001b[0m         \u001b[0;32mreturn\u001b[0m \u001b[0m_unique_impl\u001b[0m\u001b[0;34m(\u001b[0m\u001b[0minput\u001b[0m\u001b[0;34m,\u001b[0m \u001b[0msorted\u001b[0m\u001b[0;34m,\u001b[0m \u001b[0mreturn_inverse\u001b[0m\u001b[0;34m,\u001b[0m \u001b[0mreturn_counts\u001b[0m\u001b[0;34m,\u001b[0m \u001b[0mdim\u001b[0m\u001b[0;34m)\u001b[0m\u001b[0;34m\u001b[0m\u001b[0;34m\u001b[0m\u001b[0m\n\u001b[1;32m    975\u001b[0m \u001b[0;34m\u001b[0m\u001b[0m\n\u001b[0;32m--> 976\u001b[0;31m     \u001b[0moutput\u001b[0m\u001b[0;34m,\u001b[0m \u001b[0m_\u001b[0m\u001b[0;34m,\u001b[0m \u001b[0m_\u001b[0m \u001b[0;34m=\u001b[0m \u001b[0m_unique_impl\u001b[0m\u001b[0;34m(\u001b[0m\u001b[0minput\u001b[0m\u001b[0;34m,\u001b[0m \u001b[0msorted\u001b[0m\u001b[0;34m,\u001b[0m \u001b[0mreturn_inverse\u001b[0m\u001b[0;34m,\u001b[0m \u001b[0mreturn_counts\u001b[0m\u001b[0;34m,\u001b[0m \u001b[0mdim\u001b[0m\u001b[0;34m)\u001b[0m\u001b[0;34m\u001b[0m\u001b[0;34m\u001b[0m\u001b[0m\n\u001b[0m\u001b[1;32m    977\u001b[0m     \u001b[0;32mreturn\u001b[0m \u001b[0moutput\u001b[0m\u001b[0;34m\u001b[0m\u001b[0;34m\u001b[0m\u001b[0m\n\u001b[1;32m    978\u001b[0m \u001b[0;34m\u001b[0m\u001b[0m\n",
            "\u001b[0;32m/usr/local/lib/python3.10/dist-packages/torch/functional.py\u001b[0m in \u001b[0;36m_unique_impl\u001b[0;34m(input, sorted, return_inverse, return_counts, dim)\u001b[0m\n\u001b[1;32m    888\u001b[0m         )\n\u001b[1;32m    889\u001b[0m     \u001b[0;32melse\u001b[0m\u001b[0;34m:\u001b[0m\u001b[0;34m\u001b[0m\u001b[0;34m\u001b[0m\u001b[0m\n\u001b[0;32m--> 890\u001b[0;31m         output, inverse_indices, counts = torch._unique2(\n\u001b[0m\u001b[1;32m    891\u001b[0m             \u001b[0minput\u001b[0m\u001b[0;34m,\u001b[0m\u001b[0;34m\u001b[0m\u001b[0;34m\u001b[0m\u001b[0m\n\u001b[1;32m    892\u001b[0m             \u001b[0msorted\u001b[0m\u001b[0;34m=\u001b[0m\u001b[0msorted\u001b[0m\u001b[0;34m,\u001b[0m\u001b[0;34m\u001b[0m\u001b[0;34m\u001b[0m\u001b[0m\n",
            "\u001b[0;31mKeyboardInterrupt\u001b[0m: "
          ]
        }
      ]
    },
    {
      "cell_type": "code",
      "source": [
        "torch.cuda.device_count()"
      ],
      "metadata": {
        "colab": {
          "base_uri": "https://localhost:8080/"
        },
        "id": "t0dlVOfZG4i9",
        "outputId": "6d697f69-28c8-4b04-dac2-f76546fe084a"
      },
      "execution_count": null,
      "outputs": [
        {
          "output_type": "execute_result",
          "data": {
            "text/plain": [
              "1"
            ]
          },
          "metadata": {},
          "execution_count": 61
        }
      ]
    },
    {
      "cell_type": "markdown",
      "metadata": {
        "id": "XvR5-HX9mNRO"
      },
      "source": [
        "## TCA"
      ]
    },
    {
      "cell_type": "code",
      "execution_count": null,
      "metadata": {
        "id": "YC4eTF0MItwN"
      },
      "outputs": [],
      "source": [
        "import numpy as np\n",
        "import scipy.io\n",
        "import scipy.linalg\n",
        "import sklearn.metrics\n",
        "from sklearn.neighbors import KNeighborsClassifier\n",
        "from sklearn.model_selection import train_test_split\n",
        "\n",
        "\n",
        "def kernel(ker, X1, X2, gamma):\n",
        "    K = None\n",
        "    if not ker or ker == 'primal':\n",
        "        K = X1\n",
        "    elif ker == 'linear':\n",
        "        if X2 is not None:\n",
        "            K = sklearn.metrics.pairwise.linear_kernel(\n",
        "                np.asarray(X1).T, np.asarray(X2).T)\n",
        "        else:\n",
        "            K = sklearn.metrics.pairwise.linear_kernel(np.asarray(X1).T)\n",
        "    elif ker == 'rbf':\n",
        "        if X2 is not None:\n",
        "            K = sklearn.metrics.pairwise.rbf_kernel(\n",
        "                np.asarray(X1).T, np.asarray(X2).T, gamma)\n",
        "        else:\n",
        "            K = sklearn.metrics.pairwise.rbf_kernel(\n",
        "                np.asarray(X1).T, None, gamma)\n",
        "    return K\n",
        "\n",
        "\n",
        "class TCA:\n",
        "    def __init__(self, kernel_type='primal', dim=30, lamb=1, gamma=1):\n",
        "        '''\n",
        "        Init func\n",
        "        :param kernel_type: kernel, values: 'primal' | 'linear' | 'rbf'\n",
        "        :param dim: dimension after transfer\n",
        "        :param lamb: lambda value in equation\n",
        "        :param gamma: kernel bandwidth for rbf kernel\n",
        "        '''\n",
        "        self.kernel_type = kernel_type\n",
        "        self.dim = dim\n",
        "        self.lamb = lamb\n",
        "        self.gamma = gamma\n",
        "\n",
        "    def fit(self, Xs, Xt):\n",
        "        '''\n",
        "        Transform Xs and Xt\n",
        "        :param Xs: ns * n_feature, source feature\n",
        "        :param Xt: nt * n_feature, target feature\n",
        "        :return: Xs_new and Xt_new after TCA\n",
        "        '''\n",
        "        X = np.hstack((Xs.T, Xt.T))\n",
        "        X /= np.linalg.norm(X, axis=0)\n",
        "        m, n = X.shape\n",
        "        ns, nt = len(Xs), len(Xt)\n",
        "        e = np.vstack((1 / ns * np.ones((ns, 1)), -1 / nt * np.ones((nt, 1))))\n",
        "        M = e * e.T\n",
        "        M = M / np.linalg.norm(M, 'fro')\n",
        "        H = np.eye(n) - 1 / n * np.ones((n, n))\n",
        "        K = kernel(self.kernel_type, X, None, gamma=self.gamma)\n",
        "        n_eye = m if self.kernel_type == 'primal' else n\n",
        "        a, b = K @ M @ K.T + self.lamb * np.eye(n_eye), K @ H @ K.T\n",
        "        w, V = scipy.linalg.eig(a, b)\n",
        "        ind = np.argsort(w)\n",
        "        A = V[:, ind[:self.dim]]\n",
        "        Z = A.T @ K\n",
        "        Z /= np.linalg.norm(Z, axis=0)\n",
        "\n",
        "        Xs_new, Xt_new = Z[:, :ns].T, Z[:, ns:].T\n",
        "        return Xs_new, Xt_new\n",
        "\n",
        "    def fit_predict(self, Xs, Ys, Xt, Yt):\n",
        "        '''\n",
        "        Transform Xs and Xt, then make predictions on target using 1NN\n",
        "        :param Xs: ns * n_feature, source feature\n",
        "        :param Ys: ns * 1, source label\n",
        "        :param Xt: nt * n_feature, target feature\n",
        "        :param Yt: nt * 1, target label\n",
        "        :return: Accuracy and predicted_labels on the target domain\n",
        "        '''\n",
        "        Xs_new, Xt_new = self.fit(Xs, Xt)\n",
        "        clf = KNeighborsClassifier(n_neighbors=1)\n",
        "        clf.fit(Xs_new, Ys.ravel())\n",
        "        y_pred = clf.predict(Xt_new)\n",
        "        acc = sklearn.metrics.accuracy_score(Yt, y_pred)\n",
        "\n",
        "        return acc, y_pred\n",
        "\n",
        "    # TCA code is done here. You can ignore fit_new and fit_predict_new.\n",
        "\n",
        "    def fit_new(self, Xs, Xt, Xt2):\n",
        "        '''\n",
        "        Map Xt2 to the latent space created from Xt and Xs\n",
        "        :param Xs : ns * n_feature, source feature\n",
        "        :param Xt : nt * n_feature, target feature\n",
        "        :param Xt2: n_s, n_feature, target feature to be mapped\n",
        "        :return: Xt2_new, mapped Xt2 with projection created by Xs and Xt\n",
        "        '''\n",
        "        # Computing projection matrix A from Xs an Xt\n",
        "        X = np.hstack((Xs.T, Xt.T))\n",
        "        X /= np.linalg.norm(X, axis=0)\n",
        "        m, n = X.shape\n",
        "        ns, nt = len(Xs), len(Xt)\n",
        "        e = np.vstack((1 / ns * np.ones((ns, 1)), -1 / nt * np.ones((nt, 1))))\n",
        "        M = e * e.T\n",
        "        M = M / np.linalg.norm(M, 'fro')\n",
        "        H = np.eye(n) - 1 / n * np.ones((n, n))\n",
        "        K = kernel(self.kernel_type, X, None, gamma=self.gamma)\n",
        "        n_eye = m if self.kernel_type == 'primal' else n\n",
        "        a, b = np.linalg.multi_dot(\n",
        "            [K, M, K.T]) + self.lamb * np.eye(n_eye), np.linalg.multi_dot([K, H, K.T])\n",
        "        w, V = scipy.linalg.eig(a, b)\n",
        "        ind = np.argsort(w)\n",
        "        A = V[:, ind[:self.dim]]\n",
        "\n",
        "        # Compute kernel with Xt2 as target and X as source\n",
        "        Xt2 = Xt2.T\n",
        "        K = kernel(self.kernel_type, X1=Xt2, X2=X, gamma=self.gamma)\n",
        "\n",
        "        # New target features\n",
        "        Xt2_new = K @ A\n",
        "\n",
        "        return Xt2_new\n",
        "\n",
        "    def fit_predict_new(self, Xt, Xs, Ys, Xt2, Yt2):\n",
        "        '''\n",
        "        Transfrom Xt and Xs, get Xs_new\n",
        "        Transform Xt2 with projection matrix created by Xs and Xt, get Xt2_new\n",
        "        Make predictions on Xt2_new using classifier trained on Xs_new\n",
        "        :param Xt: ns * n_feature, target feature\n",
        "        :param Xs: ns * n_feature, source feature\n",
        "        :param Ys: ns * 1, source label\n",
        "        :param Xt2: nt * n_feature, new target feature\n",
        "        :param Yt2: nt * 1, new target label\n",
        "        :return: Accuracy and predicted_labels on the target domain\n",
        "        '''\n",
        "        Xs_new, _ = self.fit(Xs, Xt)\n",
        "        Xt2_new = self.fit_new(Xs, Xt, Xt2)\n",
        "        clf = KNeighborsClassifier(n_neighbors=1)\n",
        "        clf.fit(Xs_new, Ys.ravel())\n",
        "        y_pred = clf.predict(Xt2_new)\n",
        "        acc = sklearn.metrics.accuracy_score(Yt2, y_pred)\n",
        "\n",
        "        return acc, y_pred\n",
        "\n",
        "\n",
        "def train_valid(source_data, source_lable, val_data, val_label, target_data, target_label):\n",
        "\n",
        "    source_data, val_data, target_data = source_data.reshape(source_data.shape[0], -1), val_data.reshape(val_data.shape[0], -1), target_data.reshape(target_data.shape[0], -1)\n",
        "\n",
        "    # Create latent space and evaluate using Xs and Xt1\n",
        "    tca = TCA(kernel_type='linear', dim=30, lamb=1, gamma=1)\n",
        "    acc1, ypre1 = tca.fit_predict(source_data, source_label, val_data, val_label)\n",
        "\n",
        "    # Project and evaluate Xt2 existing projection matrix and classifier\n",
        "    acc2, ypre2 = tca.fit_predict_new(val_data, source_data, source_label, target_data, target_label)\n",
        "\n",
        "    print(f'Accuracy of mapped source and target1 data : {acc1:.3f}')  # 0.800\n",
        "    print(f'Accuracy of mapped target2 data            : {acc2:.3f}')  # 0.706\n",
        "\n",
        "\n"
      ]
    },
    {
      "cell_type": "code",
      "execution_count": null,
      "metadata": {
        "id": "KPySBQMAU2WH"
      },
      "outputs": [],
      "source": [
        "train_valid(source_data, source_label, val_data, val_label, target_data, target_label)"
      ]
    },
    {
      "cell_type": "code",
      "execution_count": null,
      "metadata": {
        "id": "k69IEiN5mVvg"
      },
      "outputs": [],
      "source": []
    },
    {
      "cell_type": "code",
      "execution_count": null,
      "metadata": {
        "id": "l9c3S9TImYRp"
      },
      "outputs": [],
      "source": [
        "tca = TCA(kernel_type='linear', dim=30, lamb=1, gamma=1)\n",
        "acc, ypred = tca.fit_predict(source_data, source_label, target_data, target_label)\n",
        "print(f'Accuracy: {acc:.3f}')"
      ]
    },
    {
      "cell_type": "code",
      "execution_count": null,
      "metadata": {
        "id": "HINiF7dlqvKk"
      },
      "outputs": [],
      "source": []
    },
    {
      "cell_type": "code",
      "execution_count": null,
      "metadata": {
        "id": "ZoxaSiYdsKo3"
      },
      "outputs": [],
      "source": []
    },
    {
      "cell_type": "markdown",
      "metadata": {
        "id": "9-3xyfsCsMI_"
      },
      "source": [
        "## DaNN"
      ]
    },
    {
      "cell_type": "code",
      "execution_count": null,
      "metadata": {
        "id": "SCdKRvfPsOBR"
      },
      "outputs": [],
      "source": []
    }
  ],
  "metadata": {
    "accelerator": "GPU",
    "colab": {
      "collapsed_sections": [
        "tz0TyhOYIJy4",
        "XvR5-HX9mNRO"
      ],
      "provenance": [],
      "machine_shape": "hm",
      "gpuType": "T4",
      "mount_file_id": "1tPfOD35-l9KsSd3SgXaB6YN9NeoDQ-Ea",
      "authorship_tag": "ABX9TyMYNvtTxKqSEqrWXVLR2trc",
      "include_colab_link": true
    },
    "kernelspec": {
      "display_name": "Python 3",
      "name": "python3"
    },
    "language_info": {
      "name": "python"
    }
  },
  "nbformat": 4,
  "nbformat_minor": 0
}