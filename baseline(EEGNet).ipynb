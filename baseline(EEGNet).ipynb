{
  "cells": [
    {
      "cell_type": "markdown",
      "metadata": {
        "id": "view-in-github",
        "colab_type": "text"
      },
      "source": [
        "<a href=\"https://colab.research.google.com/github/Guo-Weiqiang/Master-Project/blob/main/baseline(EEGNet).ipynb\" target=\"_parent\"><img src=\"https://colab.research.google.com/assets/colab-badge.svg\" alt=\"Open In Colab\"/></a>"
      ]
    },
    {
      "cell_type": "code",
      "execution_count": 50,
      "metadata": {
        "id": "F5wbMP__ttuo"
      },
      "outputs": [],
      "source": [
        "import torch\n",
        "from torch.autograd import Variable\n",
        "import torchvision.models as models\n",
        "import torch.nn as nn\n",
        "import matplotlib.pyplot as plt\n",
        "from torch.utils.data import TensorDataset, DataLoader\n",
        "import numpy as np\n",
        "import torch.optim as optim\n",
        "import pandas as pd\n",
        "from torchsummary import summary\n",
        "import os\n",
        "import matplotlib.pyplot as plt\n",
        "from sklearn.manifold import TSNE\n",
        "import random\n",
        "from tqdm import tqdm\n",
        "from torch.optim.lr_scheduler import LambdaLR\n",
        "from torch.nn import init\n",
        "import torch.nn.functional as F\n",
        "from sklearn.model_selection import ParameterGrid\n",
        "\n",
        "\n",
        "# reproducible\n",
        "seed = 42\n",
        "torch.manual_seed(seed)\n",
        "torch.cuda.manual_seed(seed)\n",
        "torch.cuda.manual_seed_all(seed)\n",
        "np.random.seed(seed)\n",
        "random.seed(seed)\n",
        "torch.backends.cudnn.deterministic = True\n",
        "torch.backends.cudnn.benchmark = False\n",
        "\n",
        "DEVICE = torch.device(\"cuda\" if torch.cuda.is_available() else \"cpu\")\n",
        "SIGMA = 1\n",
        "\n",
        "def init_weights(m):\n",
        "    if type(m) == torch.nn.Linear or type(m) == torch.nn.Conv2d:\n",
        "        init.xavier_uniform_(m.weight)\n",
        "        if m.bias is not None:\n",
        "            init.zeros_(m.bias)"
      ]
    },
    {
      "cell_type": "markdown",
      "metadata": {
        "id": "091UWFweuKdZ"
      },
      "source": [
        "TODO\n",
        "- literature study, online?\n",
        "- template, num of pages\n",
        "- train, val(s+t), test, MK-MMD\n",
        "- experiments (TCA, DANN, Ours)\n",
        "- Datasets acquisition\n",
        "- t-sne\n",
        "- multi-source\n",
        "- task transfer"
      ]
    },
    {
      "cell_type": "markdown",
      "metadata": {
        "id": "dutb1liBtTQm"
      },
      "source": [
        "- t sne plot(s/t domain, 不同的类不同颜色的点)\n",
        "- DaNN\n",
        "- Dataset(SEED)\n",
        "- multi-source\n",
        "- task transfer\n",
        "\n",
        "```\n",
        "# This is formatted as code\n",
        "```\n",
        "\n"
      ]
    },
    {
      "cell_type": "markdown",
      "metadata": {
        "id": "NkUQC7Xn9DAU"
      },
      "source": [
        "\n",
        "# Loss Part\n",
        "\n",
        "\n"
      ]
    },
    {
      "cell_type": "code",
      "execution_count": 2,
      "metadata": {
        "id": "pEkD60Yf9BzV"
      },
      "outputs": [],
      "source": [
        "# 1. 成熟的数据集上，与主流的结果比（调整一下架构）\n",
        "# 2. EEGNet 回归问题\n",
        "# 3. 联合分布\n",
        "\n",
        "# *. 可视化 t-sne 看看adapt之后的数据分布\n",
        "\n",
        "\n",
        "# def MMD(source, target):\n",
        "# \t\"\"\"\n",
        "# \tmmd loss(linear)\n",
        "# \t:param source: torch tensor: source data (Ds) with dimensions DxNs\n",
        "# \t:param target: torch tensor: target data (Dt) with dimensons DxNt\n",
        "# \t\"\"\"\n",
        "# \tdelta = source - target\n",
        "# \tloss = torch.mean(torch.mm(delta, torch.transpose(delta, 0, 1)))\n",
        "\n",
        "# \treturn loss\n",
        "\n",
        "\n",
        "# ref.\n",
        "# 1. https://github.com/thuml/Xlearn/blob/master/pytorch/src/loss.py\n",
        "# 2. https://github.com/MaterialsInformaticsDemo/DAN/blob/main/code/MK_MMD.py\n",
        "# 3. https://github.com/thuml/Transfer-Learning-Library/blob/master/tllib/alignment/dan.py\n",
        "def gaussian_kernel(source, target, kernel_mul=2.0, kernel_num=5, fix_sigma=None):\n",
        "    # The simplest version: K = \\beta * k where \\beta=1\n",
        "    n_samples_source = source.size(0)\n",
        "    n_samples_target = target.size(0)\n",
        "    total = torch.cat([source, target], dim=0)\n",
        "\n",
        "    # Calculate the L2 distance matrix efficiently using matrix operations.\n",
        "    total_xx = torch.sum(total * total, dim=1, keepdim=True)\n",
        "    L2_distance = total_xx - 2.0 * torch.matmul(total, total.t()) + total_xx.t()\n",
        "    if fix_sigma:\n",
        "        bandwidth = fix_sigma\n",
        "    else:\n",
        "        # Set the average value of distance matrix as the bandwidth\n",
        "        bandwidth = torch.sum(L2_distance.data) / (n_samples_source * n_samples_target - n_samples_source)\n",
        "\n",
        "    bandwidth /= kernel_mul ** (kernel_num // 2) #\n",
        "    # bandwidth range [2^{-4}*sigma, 2^4*sigma]\n",
        "    bandwidth_list = [bandwidth * (kernel_mul ** (1 * i)) for i in range(kernel_num)]\n",
        "    kernel_val = [torch.exp(-L2_distance / bandwidth_temp) for bandwidth_temp in bandwidth_list]\n",
        "\n",
        "    return sum(kernel_val) # final gaussian kernel matrix\n",
        "\n",
        "\n",
        "\n",
        "def MK_MMD(source, target, kernel_mul=2.0, kernel_num=5, fix_sigma=1.68): # fix_sigma from None to 1.68\n",
        "    n_s, n_t = source.size(0), target.size(0)\n",
        "\n",
        "    kernels = gaussian_kernel(source, target,\n",
        "        kernel_mul=kernel_mul, kernel_num=kernel_num, fix_sigma=fix_sigma)\n",
        "\n",
        "    # Efficiently calculate loss components using vectorized operations.\n",
        "    SS = torch.triu(kernels[:n_s, :n_s], diagonal=1).sum() / float(n_s * n_s)\n",
        "    TT = torch.triu(kernels[-n_t:, -n_t:], diagonal=1).sum() / float(n_t * n_t)\n",
        "    ST = -kernels[:n_s, -n_t:].sum() / float(n_s * n_t)\n",
        "    TS = -kernels[-n_t:, :n_s].sum() / float(n_s * n_t)\n",
        "\n",
        "    loss = torch.abs(SS + TT - ST - TS)\n",
        "\n",
        "    # return loss\n",
        "    # loss1 = torch.triu(kernels[:batch_size, :batch_size], diagonal=1).sum() + torch.triu(kernels[batch_size:, batch_size:], diagonal=1).sum()\n",
        "    # loss1 = loss1 / float(batch_size * batch_size / 2)\n",
        "\n",
        "    # loss2 = -kernels[:batch_size, batch_size:].sum() - kernels[batch_size:, :batch_size].sum()\n",
        "    # loss2 = loss2 / float(batch_size * batch_size)\n",
        "\n",
        "    return loss\n",
        "\n",
        "def MMD(Xs, Xt):\n",
        "    ns, nt = Xs.size(0), Xt.size(0)\n",
        "\n",
        "    # linear kernel version\n",
        "    mmd_s = (Xs @ Xs.t()).sum() / (ns * ns)\n",
        "    mmd_t = (Xt @ Xt.t()).sum() / (nt * nt)\n",
        "    mmd_st = (Xs @ Xt.t()).sum() * 2.0 / (ns * nt)\n",
        "    loss = mmd_s - mmd_st + mmd_t\n",
        "\n",
        "    return torch.abs(loss)\n",
        "\n",
        "\n",
        "def JMMD_Linear(source_list, target_list, kernel_muls=[2.0, 2.0, 2.0], kernel_nums=[5, 5, 1], fix_sigma_list=[None, None, 1.68]):\n",
        "    batch_size = int(source_list[0].size()[0])\n",
        "    layer_num = len(source_list)\n",
        "    joint_kernels = None\n",
        "    for i in range(layer_num):\n",
        "        source = source_list[i]\n",
        "        target = target_list[i]\n",
        "        kernel_mul = kernel_muls[i]\n",
        "        kernel_num = kernel_nums[i]\n",
        "        fix_sigma = fix_sigma_list[i]\n",
        "        kernels = gaussian_kernel(source, target,\n",
        "            kernel_mul=kernel_mul, kernel_num=kernel_num, fix_sigma=fix_sigma)\n",
        "        if joint_kernels is not None:\n",
        "            joint_kernels = joint_kernels * kernels\n",
        "        else:\n",
        "            joint_kernels = kernels\n",
        "\n",
        "    # Linear version\n",
        "    # loss = 0\n",
        "    # for i in range(batch_size):\n",
        "    #     s1, s2 = i, (i+1) % batch_size\n",
        "    #     t1, t2 = s1 + batch_size, s2 + batch_size\n",
        "    #     loss += joint_kernels[s1, s2] + joint_kernels[t1, t2]\n",
        "    #     loss -= joint_kernels[s1, t2] + joint_kernels[s2, t1]\n",
        "\n",
        "    s1 = torch.arange(batch_size)\n",
        "    s2 = (s1 + 1) % batch_size\n",
        "    t1 = s1 + batch_size\n",
        "    t2 = s2 + batch_size\n",
        "\n",
        "    # Compute the loss in a vectorized way\n",
        "    loss = torch.sum(joint_kernels[s1, s2] + joint_kernels[t1, t2] - joint_kernels[s1, t2] - joint_kernels[s2, t1])\n",
        "    return torch.abs(loss) / float(batch_size) # loss might be negative\n",
        "\n",
        "\n",
        "\n",
        "def _primal_kernel(Xs, Xt):\n",
        "    Z = torch.cat((Xs.T, Xt.T), 1)  # Xs / Xt: batch_size * k\n",
        "    return Z\n",
        "\n",
        "\n",
        "def _linear_kernel(Xs, Xt):\n",
        "    Z = torch.cat((Xs, Xt), 0)  # Xs / Xt: batch_size * k\n",
        "    K = torch.mm(Z, Z.T)\n",
        "    return K\n",
        "\n",
        "\n",
        "def _rbf_kernel(Xs, Xt, sigma):\n",
        "    if Xs.ndim == 1:\n",
        "        Xs = Xs.unsqueeze(1)\n",
        "    if Xt.ndim == 1:\n",
        "        Xt = Xt.unsqueeze(1)\n",
        "    Z = torch.cat((Xs, Xt), 0)\n",
        "    ZZT = torch.mm(Z, Z.T)\n",
        "    diag_ZZT = torch.diag(ZZT).unsqueeze(1)\n",
        "    Z_norm_sqr = diag_ZZT.expand_as(ZZT)\n",
        "    exponent = Z_norm_sqr - 2 * ZZT + Z_norm_sqr.T\n",
        "    K = torch.exp(-exponent / (2 * sigma ** 2))\n",
        "    return K\n",
        "\n",
        "# functions to compute the marginal MMD with rbf kernel\n",
        "def rbf_mmd(Xs, Xt, sigma):\n",
        "    device = Xs.device\n",
        "\n",
        "    K = _rbf_kernel(Xs, Xt, sigma)\n",
        "    m = Xs.size(0)  # assume Xs, Xt are same shape\n",
        "    e = torch.cat((1 / m * torch.ones(m, 1), -1 / m * torch.ones(m, 1)), 0).to(device)\n",
        "    M = e * e.T\n",
        "    tmp = torch.mm(torch.mm(K, M), K.T)\n",
        "    loss = torch.trace(tmp).to(device)\n",
        "    return loss\n",
        "\n",
        "# functions to compute rbf kernel JMMD\n",
        "def rbf_jmmd(Xs, Ys, Xt, Yt0, sigma):\n",
        "    device = Xs.device\n",
        "\n",
        "    K = _rbf_kernel(Xs, Xt, sigma)\n",
        "    n = K.size(0)\n",
        "    m = Xs.size(0)  # assume Xs, Xt are same shape\n",
        "    e = torch.cat((1 / m * torch.ones(m, 1), -1 / m * torch.ones(m, 1)), 0).to(device)\n",
        "    C = len(torch.unique(Ys))\n",
        "    M = e * e.T * C\n",
        "    for c in torch.unique(Ys):\n",
        "        e = torch.zeros(n, 1, device=device)\n",
        "        e[:m][Ys == c] = 1 / len(Ys[Ys == c])\n",
        "        if len(Yt0[Yt0 == c]) == 0:\n",
        "            e[m:][Yt0 == c] = 0\n",
        "        else:\n",
        "            e[m:][Yt0 == c] = -1 / len(Yt0[Yt0 == c])\n",
        "        M = M + e * e.T\n",
        "    M = M / torch.norm(M, p='fro')  # can reduce the training loss only for jmmd\n",
        "    tmp = torch.mm(torch.mm(K, M), K.T)\n",
        "    loss = torch.trace(tmp).to(device)\n",
        "    return loss\n",
        "\n",
        "\n",
        "def rbf_jpmmd(Xs, Ys, Xt, Yt0, sigma):\n",
        "    device = Xs.device\n",
        "\n",
        "    K = _rbf_kernel(Xs, Xt, sigma)\n",
        "    n = K.size(0)\n",
        "    m = Xs.size(0)  # assume Xs, Xt are same shape\n",
        "    M = 0\n",
        "    for c in torch.unique(Ys):\n",
        "        e = torch.zeros(n, 1, device=device)\n",
        "        e[:m] = 1 / len(Ys)\n",
        "        if len(Yt0[Yt0 == c]) == 0:\n",
        "            e[m:] = 0\n",
        "        else:\n",
        "            e[m:] = -1 / len(Yt0)\n",
        "        M = M + e * e.T\n",
        "    tmp = torch.mm(torch.mm(K, M), K.T)\n",
        "    loss = torch.trace(tmp).to(device)\n",
        "    return loss\n",
        "\n",
        "\n",
        "# functions to compute rbf kernel DJP-MMD\n",
        "def rbf_djpmmd(Xs, Ys, Xt, Yt0, sigma):\n",
        "    # Assuming _rbf_kernel is already optimized and running on the correct device\n",
        "    K = _rbf_kernel(Xs, Xt, sigma)\n",
        "    m, C = Xs.size(0), 2  # Assuming number of classes C is fixed at 2\n",
        "\n",
        "    # Ensure all tensors start on the same device, ideally on the GPU if available\n",
        "    device = Xs.device\n",
        "    Ns = torch.zeros(m, C, device=device).scatter_(1, Ys.unsqueeze(1), 1) / m\n",
        "    Nt = torch.zeros(m, C, device=device)\n",
        "    if len(torch.unique(Yt0)) == 1:\n",
        "        Nt = torch.zeros(m, C, device=device).scatter_(1, Yt0.unsqueeze(1), 1) / m\n",
        "\n",
        "    Rmin_1 = torch.cat((torch.mm(Ns, Ns.T), torch.mm(-Ns, Nt.T)), 0)\n",
        "    Rmin_2 = torch.cat((torch.mm(-Nt, Ns.T), torch.mm(Nt, Nt.T)), 0)\n",
        "    Rmin = torch.cat((Rmin_1, Rmin_2), 1)\n",
        "\n",
        "    # For discriminability\n",
        "    Ms = torch.empty(m, (C - 1) * C).to(device)\n",
        "    Mt = torch.empty(m, (C - 1) * C).to(device)\n",
        "    for i in range(0, C):\n",
        "        idx = torch.arange((C - 1) * i, (C - 1) * (i + 1))\n",
        "        Ms[:, idx] = Ns[:, i].repeat(C - 1, 1).T\n",
        "        tmp = torch.arange(0, C)\n",
        "        Mt[:, idx] = Nt[:, tmp[tmp != i]]\n",
        "    Rmax_1 = torch.cat((torch.mm(Ms, Ms.T), torch.mm(-Ms, Mt.T)), 0)\n",
        "    Rmax_2 = torch.cat((torch.mm(-Mt, Ms.T), torch.mm(Mt, Mt.T)), 0)\n",
        "    Rmax = torch.cat((Rmax_1, Rmax_2), 1)\n",
        "\n",
        "    M = Rmin - 0.1 * Rmax\n",
        "    # M = Rmin + Rmax\n",
        "    # Operate in the same device as K and M to avoid device transfers\n",
        "    tmp = torch.mm(torch.mm(K, M), K.T).to(device)\n",
        "    loss = torch.trace(tmp)\n",
        "\n",
        "    return loss\n",
        "\n",
        "\n",
        "def compute_sigma(H):\n",
        "    dists = torch.pdist(H)\n",
        "    sigma = dists.median() / 2\n",
        "\n",
        "    return sigma.detach()\n",
        "\n",
        "def GaussianMatrix(X, Y, sigma, if_use_cdist=False, median_sigma = False):\n",
        "    if not if_use_cdist:\n",
        "        size1 = X.size()\n",
        "        size2 = Y.size()\n",
        "        G = (X*X).sum(-1)\n",
        "        H = (Y*Y).sum(-1)\n",
        "        Q = G.unsqueeze(-1).repeat(1,size2[0])\n",
        "        R = H.unsqueeze(-1).T.repeat(size1[0],1)\n",
        "        # print(G.shape, R.shape, X.shape, Y.shape, Q.shape, R.shape)\n",
        "        H = Q + R - 2 * X @ (Y.T)\n",
        "    else:\n",
        "        H = torch.cdist(X, Y, p=2) ** 2\n",
        "\n",
        "    if sigma > 0:\n",
        "        H = torch.exp(-H / 2 / sigma ** 2)\n",
        "    else:\n",
        "        if median_sigma:\n",
        "            sigma = compute_sigma(H)\n",
        "            H = torch.exp(-H / 2 / sigma / 2)\n",
        "        else:\n",
        "            sigma = H.mean().detach()\n",
        "            H = torch.exp(-H / sigma)\n",
        "\n",
        "    return H\n",
        "\n",
        "\n",
        "\n",
        "# CKB loss\n",
        "def CCS(x1, x2, y1, y2, sigma=1, if_use_cdist=False, median_sigma=False):\n",
        "    # Input: N x d\n",
        "\n",
        "    # K1 = GaussianMatrix(x1, x1, sigma, if_use_cdist, median_sigma) # a lot of 0 (1560)\n",
        "    K1 = _rbf_kernel(x1, x1, sigma)\n",
        "    # print('K1', K1)\n",
        "\n",
        "    # K2 = GaussianMatrix(x2, x2, sigma, if_use_cdist, median_sigma) # 1560 0\n",
        "    K2 = _rbf_kernel(x2, x2, sigma)\n",
        "    # print('K2', K2)\n",
        "    # L1 = GaussianMatrix(y1, y1, sigma, if_use_cdist, median_sigma)\n",
        "    L1 = _rbf_kernel(y1, y1, sigma)\n",
        "    # print('L1', L1)\n",
        "    # L2 = GaussianMatrix(y2, y2, sigma, if_use_cdist, median_sigma)\n",
        "    L2 = _rbf_kernel(y2, y2, sigma)\n",
        "    # print('L2', L2)\n",
        "\n",
        "    #print(x1.shape, x2.shape, y1.shape, y2.shape, K1.shape, K2.shape, L1.shape, L2.shape)\n",
        "\n",
        "    # K12 = GaussianMatrix(x1, x2, sigma, if_use_cdist, median_sigma) # nan happens  1600 0 ---> all zeros --> makes the later part nan\n",
        "    # L12 = GaussianMatrix(y1, y2, sigma, if_use_cdist, median_sigma) #\n",
        "    K12 = _rbf_kernel(x1, x2, sigma)\n",
        "    L12 = _rbf_kernel(y1, y2, sigma)\n",
        "    # print('K12', K12)\n",
        "    # print('L12', L12)\n",
        "    # print('K12*L12', K12 * L12)\n",
        "\n",
        "    # K21 = GaussianMatrix(x2, x1, sigma, if_use_cdist, median_sigma) # nan happens  1600 0\n",
        "    # L21 = GaussianMatrix(y2, y1, sigma, if_use_cdist, median_sigma)\n",
        "    K21 = _rbf_kernel(x2, x1, sigma)\n",
        "    L21 = _rbf_kernel(y2, y1, sigma)\n",
        "    # print('K21', K21)\n",
        "    # print('L21', L21)\n",
        "    # print('K21*L21', K21 * L21)\n",
        "\n",
        "    H1 = K1 * L1 # 1560 0\n",
        "    self_term1 = (H1.sum(-1) / ((K1.sum(-1)) ** 2)).sum(0) #\n",
        "    assert not torch.isnan(self_term1).any(), \"self_term1 contains NaN\"\n",
        "\n",
        "    H2 = K2 * L2\n",
        "    self_term2 = (H2.sum(-1) / ((K2.sum(-1)) ** 2)).sum(0)\n",
        "    assert not torch.isnan(self_term2).any(), 'self_term2 contains NaN'\n",
        "\n",
        "    ##################################DEBUG#################################################\n",
        "    H3 = K12 * L12\n",
        "    cross_term1 = (H3.sum(-1) / ((K1.sum(-1)) * (K12.sum(-1)))).sum(0)# # nan first happens\n",
        "    # print('1', H3.sum(-1))\n",
        "    # print('2', ((K1.sum(-1)) * (K12.sum(-1))))\n",
        "    # print('3', (H3.sum(-1) / ((K1.sum(-1)) * (K12.sum(-1)))))\n",
        "    # print(cross_term1)\n",
        "    assert not torch.isnan(cross_term1).any(), 'cross_term1 contains NaN'\n",
        "    ##################################DEBUG################################################\n",
        "    H4 = K21 * L21\n",
        "    cross_term2 = (H4.sum(-1) / ((K2.sum(-1))*(K21.sum(-1)))).sum(0)\n",
        "    assert not torch.isnan(cross_term1).any(), 'cross_term2 contains NaN'\n",
        "    # print(cross_term1.item(), cross_term2.item(), self_term1.item(), self_term2.item())\n",
        "\n",
        "    # cs1 = -2*torch.log(cross_term1) + torch.log(self_term1) + torch.log(self_term2)\n",
        "    # cs2 = -2*torch.log(cross_term2) + torch.log(self_term1) + torch.log(self_term2)\n",
        "    ccs = -torch.log(cross_term1 + 1e-10) - torch.log(cross_term2 + 1e-10) + torch.log(self_term1 + 1e-10) + torch.log(self_term2 + 1e-10)\n",
        "\n",
        "\n",
        "    return ccs\n",
        "\n",
        "def CS(x1, x2, sigma = 10, if_use_cdist=False, median_sigma=False):\n",
        "    K1 = GaussianMatrix(x1, x1, sigma, if_use_cdist, median_sigma)\n",
        "    K2 = GaussianMatrix(x2, x2, sigma, if_use_cdist, median_sigma)\n",
        "\n",
        "    K12 = GaussianMatrix(x1, x2, sigma, if_use_cdist, median_sigma)\n",
        "\n",
        "    # K1 = _rbf_kernel(x1, x1, sigma)\n",
        "    # K2 = _rbf_kernel(x2, x2, sigma)\n",
        "    # K12 = _rbf_kernel(x1, x2, sigma)\n",
        "\n",
        "    dim1 = K1.shape[0]\n",
        "    self_term1 = K1.sum() / (dim1**2)\n",
        "\n",
        "    dim2 = K2.shape[0]\n",
        "    self_term2 = K2.sum() / (dim2**2)\n",
        "\n",
        "    cross_term = K12.sum() / (dim1*dim2)\n",
        "\n",
        "    cs =  -2 * torch.log(cross_term + 1e-10) + torch.log(self_term1 + 1e-10) + torch.log(self_term2 + 1e-10)\n",
        "\n",
        "    return cs"
      ]
    },
    {
      "cell_type": "markdown",
      "metadata": {
        "id": "tBgg7YUufrAA"
      },
      "source": []
    },
    {
      "cell_type": "markdown",
      "metadata": {
        "id": "tz0TyhOYIJy4"
      },
      "source": [
        "# 1. Model Part"
      ]
    },
    {
      "cell_type": "code",
      "execution_count": 3,
      "metadata": {
        "id": "tL8zvoF135Ef"
      },
      "outputs": [],
      "source": [
        "\n",
        "\n",
        "# ref.\n",
        "# 1. https://github.com/agrija9/Deep-Unsupervised-Domain-Adaptation/blob/master/DDC/model.py\n",
        "class EEGNet_ReLU(torch.nn.Module):\n",
        "    def __init__(self, n_output):\n",
        "        super(EEGNet_ReLU, self).__init__()\n",
        "        self.firstConv = nn.Sequential(\n",
        "            nn.Conv2d(1, 16, kernel_size=(1,51), stride=(1,1), padding=(0,25),bias=False),\n",
        "            nn.BatchNorm2d(16, eps=1e-05, momentum=0.1, affine=True, track_running_stats=True)\n",
        "        )\n",
        "        self.depthwiseConv = nn.Sequential(\n",
        "            nn.Conv2d(16, 32, kernel_size=(2,1), stride=(1,1), groups=8,bias=False),\n",
        "            nn.BatchNorm2d(32, eps=1e-05, momentum=0.1, affine=True, track_running_stats=True),\n",
        "            nn.ReLU(),\n",
        "            nn.AvgPool2d(kernel_size=(1,4), stride=(1,4),padding=0),\n",
        "            nn.Dropout(p=0.35)\n",
        "        )\n",
        "        self.separableConv = nn.Sequential(\n",
        "            nn.Conv2d(32, 32, kernel_size=(1,15), stride=(1,1), padding=(0,7),bias=False),\n",
        "            nn.BatchNorm2d(32, eps=1e-05, momentum=0.1, affine=True, track_running_stats=True),\n",
        "            nn.ReLU(),\n",
        "            nn.AvgPool2d(kernel_size=(1,8), stride=(1,8),padding=0),\n",
        "            nn.Dropout(p=0.35),\n",
        "            nn.Flatten()\n",
        "        )\n",
        "        self.classify = nn.Sequential(\n",
        "            # nn.Linear(736, 256),\n",
        "            # nn.ReLU(inplace=True),\n",
        "            # nn.Linear(256, 256),\n",
        "            # nn.ReLU(inplace=True),\n",
        "            # nn.Linear(256, n_output, bias=True)\n",
        "\n",
        "            # original classifier\n",
        "            nn.Linear(736, n_output, bias=True)\n",
        "        )\n",
        "\n",
        "    def forward(self, x):\n",
        "        out = self.firstConv(x)\n",
        "        out = self.depthwiseConv(out)\n",
        "        features = self.separableConv(out)\n",
        "        out = self.classify(features)\n",
        "        return out, features\n",
        "\n",
        "\n",
        "\n",
        "\n",
        "class EEGNet_DDC(nn.Module):\n",
        "    \"\"\"\n",
        "    Deep domain confusion network as defined in the paper:\n",
        "    https://arxiv.org/abs/1412.3474\n",
        "        :param num_classes: int\n",
        "    \"\"\"\n",
        "    def __init__(self, num_classes):\n",
        "        super(EEGNet_DDC, self).__init__()\n",
        "        self.firstConv = nn.Sequential(\n",
        "            nn.Conv2d(1, 16, kernel_size=(1,51), stride=(1,1), padding=(0,25),bias=False),\n",
        "            nn.BatchNorm2d(16, eps=1e-05, momentum=0.1, affine=True, track_running_stats=True)\n",
        "        )\n",
        "        self.depthwiseConv = nn.Sequential(\n",
        "            nn.Conv2d(16, 32, kernel_size=(2,1), stride=(1,1), groups=8,bias=False),\n",
        "            nn.BatchNorm2d(32, eps=1e-05, momentum=0.1, affine=True, track_running_stats=True),\n",
        "            nn.ReLU(),\n",
        "            nn.AvgPool2d(kernel_size=(1,4), stride=(1,4),padding=0),\n",
        "            nn.Dropout(p=0.35)\n",
        "        )\n",
        "        self.separableConv = nn.Sequential(\n",
        "            nn.Conv2d(32, 32, kernel_size=(1,15), stride=(1,1), padding=(0,7),bias=False),\n",
        "            nn.BatchNorm2d(32, eps=1e-05, momentum=0.1, affine=True, track_running_stats=True),\n",
        "            nn.ReLU(),\n",
        "            nn.AvgPool2d(kernel_size=(1,8), stride=(1,8),padding=0),\n",
        "            nn.Dropout(p=0.35),\n",
        "            nn.Flatten(),\n",
        "        )\n",
        "\n",
        "        # Ref. bottleneck in the paper\n",
        "        # Our intuition is that a lower dimensional layer can be used to regularize the training of the source classiﬁer and prevent overﬁtting to the particular nuances of the source distribution\n",
        "        self.bottleneck = nn.Sequential(\n",
        "            nn.Linear(736, 256),\n",
        "            nn.ReLU(inplace=True)\n",
        "            # nn.Linear(256, 256),\n",
        "            # nn.ReLU(inplace=True),\n",
        "        )\n",
        "\n",
        "        self.classifier = nn.Sequential(\n",
        "            # nn.Flatten(),\n",
        "            nn.Linear(256, num_classes, bias=True)\n",
        "        )\n",
        "\n",
        "        # # fc8 activation (final_classifier)\n",
        "        # # self.fc8 = nn.Linear(736, num_classes)\n",
        "        # self.classifier = nn.Sequential(\n",
        "        #     nn.Linear(256, num_classes, bias=True)\n",
        "        # )\n",
        "\n",
        "    def forward(self, source, target):\n",
        "        source = self.firstConv(source)\n",
        "        source = self.depthwiseConv(source)\n",
        "        features_src = self.separableConv(source)\n",
        "        source = self.bottleneck(features_src)\n",
        "        # print(source.shape)\n",
        "\n",
        "        mmd_loss = 0\n",
        "        target = self.firstConv(target)\n",
        "        target = self.depthwiseConv(target)\n",
        "        features_tar = self.separableConv(target)\n",
        "        target = self.bottleneck(features_tar)\n",
        "        # print(target.shape)\n",
        "        mmd_loss += MMD(source, target)\n",
        "\n",
        "        result = self.classifier(source)\n",
        "\n",
        "        return result, mmd_loss, source, target\n",
        "\n",
        "\n",
        "class EEGNet_DAN(nn.Module):\n",
        "    \"\"\"\n",
        "    Deep domain confusion network as defined in the paper:\n",
        "    https://arxiv.org/abs/1412.3474\n",
        "        :param num_classes: int\n",
        "    \"\"\"\n",
        "    def __init__(self, num_classes):\n",
        "        super(EEGNet_DAN, self).__init__()\n",
        "        self.firstConv = nn.Sequential(\n",
        "            nn.Conv2d(1, 16, kernel_size=(1,51), stride=(1,1), padding=(0,25),bias=False),\n",
        "            nn.BatchNorm2d(16, eps=1e-05, momentum=0.1, affine=True, track_running_stats=True)\n",
        "        )\n",
        "        self.depthwiseConv = nn.Sequential(\n",
        "            nn.Conv2d(16, 32, kernel_size=(2,1), stride=(1,1), groups=8,bias=False),\n",
        "            nn.BatchNorm2d(32, eps=1e-05, momentum=0.1, affine=True, track_running_stats=True),\n",
        "            nn.ReLU(),\n",
        "            nn.AvgPool2d(kernel_size=(1,4), stride=(1,4),padding=0),\n",
        "            nn.Dropout(p=0.35)\n",
        "        )\n",
        "        self.separableConv = nn.Sequential(\n",
        "            nn.Conv2d(32, 32, kernel_size=(1,15), stride=(1,1), padding=(0,7),bias=False),\n",
        "            nn.BatchNorm2d(32, eps=1e-05, momentum=0.1, affine=True, track_running_stats=True),\n",
        "            nn.ReLU(),\n",
        "            nn.AvgPool2d(kernel_size=(1,8), stride=(1,8),padding=0),\n",
        "            nn.Dropout(p=0.35),\n",
        "            nn.Flatten()\n",
        "        )\n",
        "\n",
        "        # Ref. bottleneck in the paper\n",
        "        # Our intuition is that a lower dimensional layer can be used to regularize the training of the source classiﬁer and prevent overﬁtting to the particular nuances of the source distribution\n",
        "        self.bottleneck1 = nn.Sequential(\n",
        "            nn.Linear(736, 256),\n",
        "            nn.ReLU(inplace=True)\n",
        "\n",
        "            # nn.Linear(256, 256),\n",
        "            # nn.ReLU(inplace=True)\n",
        "        )\n",
        "        self.bottleneck2 = nn.Sequential(\n",
        "            nn.Linear(256, 256),\n",
        "            nn.ReLU(inplace=True)\n",
        "        )\n",
        "\n",
        "        self.classifier = nn.Sequential(\n",
        "            # nn.Flatten(),\n",
        "            nn.Linear(256, num_classes, bias=True)\n",
        "        )\n",
        "\n",
        "        # # fc8 activation (final_classifier)\n",
        "        # # self.fc8 = nn.Linear(736, num_classes)\n",
        "        # self.classifier = nn.Sequential(\n",
        "        #     nn.Linear(256, num_classes, bias=True)\n",
        "        # )\n",
        "\n",
        "    def forward(self, source, target):\n",
        "        source = self.firstConv(source)\n",
        "        source = self.depthwiseConv(source)\n",
        "        source = self.separableConv(source)\n",
        "        f1_s = self.bottleneck1(source)\n",
        "        f2_s = self.bottleneck2(f1_s)\n",
        "        # print(source.shape)\n",
        "\n",
        "        # if self.training:\n",
        "        target = self.firstConv(target)\n",
        "        target = self.depthwiseConv(target)\n",
        "        target = self.separableConv(target)\n",
        "        f1_t = self.bottleneck1(target)\n",
        "        f2_t = self.bottleneck2(f1_t)\n",
        "        mmd_loss1 = MK_MMD(f1_s, f1_t)\n",
        "        mmd_loss2 = MK_MMD(f2_s, f2_t)\n",
        "\n",
        "        result_s = self.classifier(f2_s)\n",
        "        result_t = self.classifier(f2_t)\n",
        "        mmd_loss3 = MK_MMD(result_s, result_t) # P(Y)\n",
        "        mmd_loss = 1 * mmd_loss1 + 1 * mmd_loss2 + 1 * mmd_loss3\n",
        "\n",
        "        return result_s, mmd_loss, f2_s, f2_t\n",
        "\n",
        "\n",
        "\n",
        "class EEGNet_JAN(nn.Module):\n",
        "    \"\"\"\n",
        "    Deep domain confusion network as defined in the paper:\n",
        "    https://arxiv.org/abs/1412.3474\n",
        "        :param num_classes: int\n",
        "    \"\"\"\n",
        "    def __init__(self, num_classes):\n",
        "        super(EEGNet_JAN, self).__init__()\n",
        "        self.firstConv = nn.Sequential(\n",
        "            nn.Conv2d(1, 16, kernel_size=(1,51), stride=(1,1), padding=(0,25),bias=False),\n",
        "            nn.BatchNorm2d(16, eps=1e-05, momentum=0.1, affine=True, track_running_stats=True)\n",
        "        )\n",
        "        self.depthwiseConv = nn.Sequential(\n",
        "            nn.Conv2d(16, 32, kernel_size=(2,1), stride=(1,1), groups=8,bias=False),\n",
        "            nn.BatchNorm2d(32, eps=1e-05, momentum=0.1, affine=True, track_running_stats=True),\n",
        "            nn.ReLU(),\n",
        "            nn.AvgPool2d(kernel_size=(1,4), stride=(1,4),padding=0),\n",
        "            nn.Dropout(p=0.35)\n",
        "        )\n",
        "        self.separableConv = nn.Sequential(\n",
        "            nn.Conv2d(32, 32, kernel_size=(1,15), stride=(1,1), padding=(0,7),bias=False),\n",
        "            nn.BatchNorm2d(32, eps=1e-05, momentum=0.1, affine=True, track_running_stats=True),\n",
        "            nn.ReLU(),\n",
        "            nn.AvgPool2d(kernel_size=(1,8), stride=(1,8),padding=0),\n",
        "            nn.Dropout(p=0.35),\n",
        "            nn.Flatten()\n",
        "        )\n",
        "\n",
        "        # Ref. bottleneck in the paper\n",
        "        # Our intuition is that a lower dimensional layer can be used to regularize the training of the source classiﬁer and prevent overﬁtting to the particular nuances of the source distribution\n",
        "        self.bottleneck1 = nn.Sequential(\n",
        "            nn.Linear(736, 256),\n",
        "            nn.ReLU(inplace=True)\n",
        "\n",
        "            # nn.Linear(256, 256),\n",
        "            # nn.ReLU(inplace=True)\n",
        "        )\n",
        "        self.bottleneck2 = nn.Sequential(\n",
        "            nn.Linear(256, 256),\n",
        "            nn.ReLU(inplace=True)\n",
        "        )\n",
        "\n",
        "        self.classifier = nn.Sequential(\n",
        "            nn.Linear(256, num_classes, bias=True)\n",
        "        )\n",
        "\n",
        "        # # fc8 activation (final_classifier)\n",
        "        # # self.fc8 = nn.Linear(736, num_classes)\n",
        "        # self.classifier = nn.Sequential(\n",
        "        #     nn.Linear(256, num_classes, bias=True)\n",
        "        # )\n",
        "\n",
        "    def forward(self, source, target):\n",
        "        source = self.firstConv(source)\n",
        "        source = self.depthwiseConv(source)\n",
        "        source = self.separableConv(source)\n",
        "        f1_s = self.bottleneck1(source)\n",
        "        f2_s = self.bottleneck2(f1_s)\n",
        "        # print(source.shape)\n",
        "\n",
        "        # if self.training:\n",
        "        target = self.firstConv(target)\n",
        "        target = self.depthwiseConv(target)\n",
        "        target = self.separableConv(target)\n",
        "        f1_t = self.bottleneck1(target)\n",
        "        f2_t = self.bottleneck2(f1_t)\n",
        "        result_s = self.classifier(f2_s)\n",
        "        result_t = self.classifier(f2_t)\n",
        "\n",
        "        source_list = [f1_s, f2_s, result_s]\n",
        "        target_list = [f1_t, f2_t, result_t]\n",
        "        mmd_loss = JMMD_Linear(source_list, target_list) # P(Y)\n",
        "\n",
        "        return result_s, mmd_loss, f2_s, f2_t\n",
        "\n",
        "\n",
        "class EEGNet_DA1(torch.nn.Module):\n",
        "    def __init__(self, n_output):\n",
        "        super(EEGNet_DA1, self).__init__()\n",
        "        self.firstConv = nn.Sequential(\n",
        "            nn.Conv2d(1, 16, kernel_size=(1,51), stride=(1,1), padding=(0,25),bias=False),\n",
        "            nn.BatchNorm2d(16, eps=1e-05, momentum=0.1, affine=True, track_running_stats=True)\n",
        "        )\n",
        "        self.depthwiseConv = nn.Sequential(\n",
        "            nn.Conv2d(16, 32, kernel_size=(2,1), stride=(1,1), groups=8,bias=False),\n",
        "            nn.BatchNorm2d(32, eps=1e-05, momentum=0.1, affine=True, track_running_stats=True),\n",
        "            nn.ReLU(),\n",
        "            nn.AvgPool2d(kernel_size=(1,4), stride=(1,4),padding=0),\n",
        "            nn.Dropout(p=0.35)\n",
        "        )\n",
        "        self.separableConv = nn.Sequential(\n",
        "            nn.Conv2d(32, 32, kernel_size=(1,15), stride=(1,1), padding=(0,7),bias=False),\n",
        "            nn.BatchNorm2d(32, eps=1e-05, momentum=0.1, affine=True, track_running_stats=True),\n",
        "            nn.ReLU(),\n",
        "            nn.AvgPool2d(kernel_size=(1,8), stride=(1,8),padding=0),\n",
        "            nn.Dropout(p=0.35),\n",
        "            nn.Flatten()\n",
        "        )\n",
        "        self.bottleneck = nn.Sequential(\n",
        "            nn.Linear(736, 256),\n",
        "            nn.ReLU(inplace=True)\n",
        "        )\n",
        "        self.classify = nn.Sequential(\n",
        "            # original classifier\n",
        "            nn.Linear(256, n_output, bias=True)\n",
        "        )\n",
        "\n",
        "    def forward(self, source, target):\n",
        "        out = self.firstConv(source)\n",
        "        out = self.depthwiseConv(out)\n",
        "        out = self.separableConv(out)\n",
        "        features_src = self.bottleneck(out)\n",
        "        out = self.classify(features_src)\n",
        "\n",
        "        target = self.firstConv(target)\n",
        "        target = self.depthwiseConv(target)\n",
        "        target = self.separableConv(target)\n",
        "        features_tar = self.bottleneck(target)\n",
        "\n",
        "        return out, features_src, features_tar"
      ]
    },
    {
      "cell_type": "markdown",
      "metadata": {
        "id": "paEVHNhM2W8F"
      },
      "source": [
        "# 2. Loss Part"
      ]
    },
    {
      "cell_type": "code",
      "execution_count": 3,
      "metadata": {
        "id": "zFMPwSNIKMSO"
      },
      "outputs": [],
      "source": []
    },
    {
      "cell_type": "markdown",
      "metadata": {
        "id": "ilD_bmMl2ZG4"
      },
      "source": [
        "# 3. Evaluation Part"
      ]
    },
    {
      "cell_type": "markdown",
      "metadata": {
        "id": "SebBenbu5iHP"
      },
      "source": [
        "## 3.1 Data Import"
      ]
    },
    {
      "cell_type": "code",
      "execution_count": 4,
      "metadata": {
        "colab": {
          "base_uri": "https://localhost:8080/"
        },
        "id": "H3i_nuKSG9Nf",
        "outputId": "52a09f18-db5d-4e99-e67e-3bf7309c8987"
      },
      "outputs": [
        {
          "output_type": "stream",
          "name": "stdout",
          "text": [
            "torch.Size([1080, 1, 2, 750]) torch.Size([1080]) torch.Size([1080, 1, 2, 750]) torch.Size([1080]) torch.Size([1080, 1, 2, 750]) torch.Size([1080])\n"
          ]
        }
      ],
      "source": [
        "import numpy as np\n",
        "\n",
        "\n",
        "def read_bci_data():\n",
        "    \"\"\"\n",
        "    two subjects: S4b, X11b\n",
        "    The experiment consists of 3 sessions for each subject. Each session consists of 4 to 9 runs\n",
        "    \"\"\"\n",
        "    S4b_train = np.load('drive/MyDrive/EEGNet/S4b_train.npz')\n",
        "    X11b_train = np.load('drive/MyDrive/EEGNet/X11b_train.npz')\n",
        "    S4b_test = np.load('drive/MyDrive/EEGNet/S4b_test.npz')\n",
        "    X11b_test = np.load('drive/MyDrive/EEGNet/X11b_test.npz')\n",
        "\n",
        "    source_data = np.concatenate((S4b_train['signal'], S4b_test['signal']), axis=0)\n",
        "    source_label = np.concatenate((S4b_train['label'], S4b_test['label']), axis=0)\n",
        "    target_data = np.concatenate((X11b_train['signal'], X11b_test['signal']), axis=0)\n",
        "    target_label = np.concatenate((X11b_train['label'], X11b_test['label']), axis=0)\n",
        "\n",
        "    source_label = source_label - 1\n",
        "    target_label = target_label - 1\n",
        "    source_data = np.transpose(np.expand_dims(source_data, axis=1), (0, 1, 3, 2))\n",
        "    target_data = np.transpose(np.expand_dims(target_data, axis=1), (0, 1, 3, 2))\n",
        "\n",
        "    mask = np.where(np.isnan(source_data))\n",
        "    source_data[mask] = np.nanmean(source_data)\n",
        "\n",
        "\n",
        "    mask = np.where(np.isnan(target_data))\n",
        "    target_data[mask] = np.nanmean(target_data)\n",
        "\n",
        "\n",
        "    source_data = torch.from_numpy(source_data).float()\n",
        "    target_data = torch.from_numpy(target_data).float()\n",
        "    source_label = torch.tensor(source_label, dtype=torch.long)\n",
        "    target_label = torch.tensor(target_label, dtype=torch.long)\n",
        "    val_data = target_data\n",
        "    val_label = target_label\n",
        "\n",
        "    print(source_data.shape, source_label.shape, val_data.shape, val_label.shape, target_data.shape, target_label.shape)\n",
        "\n",
        "    return source_data, source_label, val_data, val_label, target_data, target_label\n",
        "\n",
        "\n",
        "source_data, source_label, val_data, val_label, target_data, target_label = read_bci_data()\n"
      ]
    },
    {
      "cell_type": "markdown",
      "metadata": {
        "id": "T8OSFRJe-Uom"
      },
      "source": [
        "### T-SNE Visualization"
      ]
    },
    {
      "cell_type": "code",
      "execution_count": 5,
      "metadata": {
        "colab": {
          "base_uri": "https://localhost:8080/"
        },
        "id": "MbFSknOH2L1N",
        "outputId": "e5e49b49-e42a-494f-e74b-9076e0e4d976"
      },
      "outputs": [
        {
          "output_type": "stream",
          "name": "stdout",
          "text": [
            "(1080,) (1080,)\n",
            "Value: 0, Count: 540\n",
            "Value: 1, Count: 540\n",
            "Value: 0, Count: 540\n",
            "Value: 1, Count: 540\n",
            "540 540 540 540\n"
          ]
        }
      ],
      "source": [
        "s = source_label.numpy()\n",
        "t = val_label.numpy()\n",
        "print(s.shape, t.shape)\n",
        "\n",
        "unique_values, counts = np.unique(s, return_counts=True)\n",
        "\n",
        "for value, count in zip(unique_values, counts):\n",
        "    print(f\"Value: {value}, Count: {count}\")\n",
        "\n",
        "unique_values, counts = np.unique(t, return_counts=True)\n",
        "\n",
        "for value, count in zip(unique_values, counts):\n",
        "    print(f\"Value: {value}, Count: {count}\")\n",
        "\n",
        "source_class0_index = np.where(s == 0.0)\n",
        "source_class1_index = np.where(s == 1.0)\n",
        "target_class0_index = np.where(t == 0.0)\n",
        "target_class1_index = np.where(t == 1.0)\n",
        "\n",
        "print(len(source_class0_index[0]), len(source_class1_index[0]), len(target_class0_index[0]), len(target_class1_index[0]))"
      ]
    },
    {
      "cell_type": "code",
      "execution_count": 6,
      "metadata": {
        "colab": {
          "base_uri": "https://localhost:8080/"
        },
        "id": "sZxOEo125UVk",
        "outputId": "4bb03a86-5d75-404e-e8d6-9872f0a2efc5"
      },
      "outputs": [
        {
          "output_type": "stream",
          "name": "stdout",
          "text": [
            "(array([   2,    6,    8,   10,   12,   13,   14,   15,   17,   18,   21,\n",
            "         23,   24,   27,   30,   33,   35,   38,   39,   42,   44,   45,\n",
            "         46,   47,   49,   51,   54,   55,   56,   57,   60,   62,   64,\n",
            "         69,   72,   73,   75,   77,   78,   79,   81,   84,   85,   87,\n",
            "         91,   95,   97,   98,   99,  100,  102,  104,  107,  110,  111,\n",
            "        113,  114,  116,  125,  128,  129,  131,  133,  134,  136,  137,\n",
            "        138,  139,  140,  141,  146,  150,  152,  155,  156,  157,  160,\n",
            "        163,  164,  165,  166,  167,  169,  171,  176,  179,  181,  184,\n",
            "        185,  186,  187,  188,  189,  190,  192,  194,  195,  196,  199,\n",
            "        203,  204,  206,  207,  208,  215,  217,  218,  219,  226,  227,\n",
            "        228,  229,  231,  232,  234,  236,  241,  245,  246,  247,  250,\n",
            "        254,  255,  260,  261,  263,  264,  266,  267,  270,  274,  277,\n",
            "        280,  282,  283,  285,  286,  287,  291,  292,  294,  295,  296,\n",
            "        297,  300,  302,  304,  306,  307,  314,  315,  319,  320,  323,\n",
            "        324,  325,  329,  330,  331,  333,  337,  338,  340,  343,  344,\n",
            "        346,  347,  348,  349,  351,  352,  357,  358,  360,  362,  363,\n",
            "        365,  366,  367,  368,  369,  371,  372,  373,  374,  376,  380,\n",
            "        381,  384,  385,  386,  389,  390,  395,  397,  399,  400,  401,\n",
            "        404,  405,  407,  408,  409,  410,  412,  414,  415,  416,  418,\n",
            "        422,  423,  424,  425,  426,  427,  429,  430,  431,  432,  437,\n",
            "        438,  440,  441,  444,  445,  447,  449,  450,  453,  454,  456,\n",
            "        457,  463,  464,  466,  470,  472,  476,  477,  481,  483,  487,\n",
            "        490,  491,  492,  493,  494,  496,  497,  498,  500,  501,  502,\n",
            "        506,  507,  510,  511,  512,  514,  515,  522,  523,  525,  526,\n",
            "        530,  531,  532,  534,  535,  539,  541,  545,  546,  550,  552,\n",
            "        554,  556,  557,  558,  559,  562,  565,  566,  567,  569,  572,\n",
            "        573,  574,  575,  576,  579,  580,  583,  584,  585,  586,  588,\n",
            "        591,  593,  594,  596,  598,  604,  605,  608,  611,  612,  613,\n",
            "        614,  616,  617,  621,  622,  623,  625,  628,  630,  631,  634,\n",
            "        635,  637,  639,  640,  642,  643,  646,  647,  648,  651,  653,\n",
            "        657,  658,  659,  660,  661,  663,  668,  669,  673,  675,  676,\n",
            "        677,  679,  681,  682,  683,  684,  686,  687,  688,  690,  691,\n",
            "        696,  698,  701,  702,  704,  707,  709,  711,  712,  714,  716,\n",
            "        717,  721,  722,  728,  729,  731,  733,  735,  736,  739,  744,\n",
            "        745,  748,  749,  750,  752,  753,  756,  757,  761,  762,  765,\n",
            "        766,  768,  771,  773,  775,  780,  782,  784,  785,  787,  788,\n",
            "        789,  791,  794,  795,  796,  797,  798,  799,  800,  801,  804,\n",
            "        806,  807,  808,  811,  812,  816,  818,  819,  820,  821,  824,\n",
            "        826,  827,  828,  830,  833,  834,  837,  838,  839,  840,  841,\n",
            "        842,  843,  845,  851,  855,  858,  860,  862,  863,  864,  865,\n",
            "        869,  871,  872,  874,  875,  878,  879,  880,  881,  882,  883,\n",
            "        884,  888,  892,  895,  898,  899,  903,  905,  906,  908,  914,\n",
            "        916,  920,  922,  925,  926,  927,  928,  931,  932,  936,  937,\n",
            "        938,  941,  943,  944,  948,  950,  952,  953,  954,  955,  963,\n",
            "        966,  967,  968,  971,  975,  976,  982,  988,  990,  993,  995,\n",
            "        996,  997,  998, 1000, 1002, 1005, 1006, 1009, 1010, 1012, 1013,\n",
            "       1015, 1018, 1019, 1020, 1021, 1022, 1023, 1026, 1027, 1028, 1031,\n",
            "       1037, 1038, 1039, 1040, 1041, 1045, 1046, 1047, 1049, 1052, 1054,\n",
            "       1055, 1060, 1061, 1063, 1064, 1065, 1067, 1068, 1069, 1072, 1077,\n",
            "       1078]),)\n"
          ]
        }
      ],
      "source": [
        "print(source_class0_index)"
      ]
    },
    {
      "cell_type": "code",
      "execution_count": 7,
      "metadata": {
        "colab": {
          "base_uri": "https://localhost:8080/",
          "height": 435
        },
        "id": "w-1iSSx2vw1R",
        "outputId": "e13903fe-f671-4f0b-c4e8-dcb1029f461f"
      },
      "outputs": [
        {
          "output_type": "stream",
          "name": "stdout",
          "text": [
            "(1080, 1500) (1080, 1500)\n",
            "(2160, 1500)\n",
            "(1080, 2) (1080, 2)\n",
            "(540, 2) (540, 2) (540, 2) (540, 2)\n"
          ]
        },
        {
          "output_type": "display_data",
          "data": {
            "text/plain": [
              "<Figure size 1000x400 with 2 Axes>"
            ],
            "image/png": "[encoded data removed]"
          },
          "metadata": {}
        }
      ],
      "source": [
        "def tsne_visulization(source_data: np.ndarray, target_data: np.ndarray, path: str, format: str = 'jpg'):\n",
        "    s = source_data.copy()\n",
        "    t = target_data.copy()\n",
        "    s = s.reshape(source_data.shape[0], -1)\n",
        "    t = t.reshape(target_data.shape[0], -1)\n",
        "    print(s.shape, t.shape)\n",
        "    combined_dataset = np.vstack((s, t))\n",
        "    print(combined_dataset.shape)\n",
        "\n",
        "    perplexity = 30\n",
        "    n_dimensions = 2\n",
        "\n",
        "    tsne = TSNE(n_components=n_dimensions, perplexity=perplexity, random_state=42)\n",
        "    tsne_result = tsne.fit_transform(combined_dataset)\n",
        "    tsne_source_data = tsne_result[:s.shape[0]]\n",
        "    tsne_target_data = tsne_result[s.shape[0]:]\n",
        "    print(tsne_source_data.shape, tsne_target_data.shape)\n",
        "\n",
        "    source_data_class0 = tsne_source_data[source_class0_index]\n",
        "    source_data_class1 = tsne_source_data[source_class1_index]\n",
        "    target_data_class0 = tsne_target_data[target_class0_index]\n",
        "    target_data_class1 = tsne_target_data[target_class1_index]\n",
        "    print(source_data_class0.shape, source_data_class1.shape, target_data_class0.shape, target_data_class1.shape)\n",
        "\n",
        "\n",
        "    plt.figure(figsize=(10, 4))\n",
        "    plt.subplot(121)\n",
        "    plt.scatter(source_data_class0[:, 0], source_data_class0[:, 1], c='r', marker='o', label='source domain class 0')\n",
        "    plt.scatter(source_data_class1[:, 0], source_data_class1[:, 1], c='b', marker='o', label='source domain class 1')\n",
        "    plt.title('t-SNE Visualization of Source Domain')\n",
        "    # plt.xlabel('t-SNE Dimension 1')\n",
        "    # plt.ylabel('t-SNE Dimension 2')\n",
        "    plt.xticks([])\n",
        "    plt.yticks([])\n",
        "    # plt.legend()\n",
        "\n",
        "    plt.subplot(122)\n",
        "    plt.scatter(target_data_class0[:, 0], target_data_class0[:, 1], c='r', marker='x', label='target domain class 0')\n",
        "    plt.scatter(target_data_class1[:, 0], target_data_class1[:, 1], c='b', marker='x', label='target domain class 1')\n",
        "    plt.title('t-SNE Visualization of Target Domain')\n",
        "    # plt.xlabel('t-SNE Dimension 1')\n",
        "    # plt.ylabel('t-SNE Dimension 2')\n",
        "    plt.xticks([])\n",
        "    plt.yticks([])\n",
        "    # plt.legend()\n",
        "\n",
        "    path = path + '.' + format\n",
        "    plt.savefig(path, format=format)\n",
        "    plt.show()\n",
        "\n",
        "tsne_visulization(source_data.numpy(), val_data.numpy(), path='test.eps')"
      ]
    },
    {
      "cell_type": "code",
      "execution_count": 7,
      "metadata": {
        "id": "lsehlUmO1lvJ"
      },
      "outputs": [],
      "source": []
    },
    {
      "cell_type": "markdown",
      "metadata": {
        "id": "mrBACvHE5l-X"
      },
      "source": [
        "## 3.2 without DA"
      ]
    },
    {
      "cell_type": "code",
      "execution_count": 14,
      "metadata": {
        "colab": {
          "base_uri": "https://localhost:8080/",
          "height": 665
        },
        "id": "w3ONjEyCHD1E",
        "outputId": "d61a5594-8c70-410b-bb44-7d49cfec7bbe"
      },
      "outputs": [
        {
          "output_type": "stream",
          "name": "stdout",
          "text": [
            "torch.Size([1080, 1, 2, 750]) torch.Size([1080]) torch.Size([1080, 1, 2, 750]) torch.Size([1080]) torch.Size([1080, 1, 2, 750]) torch.Size([1080])\n"
          ]
        },
        {
          "output_type": "stream",
          "name": "stderr",
          "text": [
            "  0%|          | 1/500 [00:00<01:34,  5.29it/s]"
          ]
        },
        {
          "output_type": "stream",
          "name": "stdout",
          "text": [
            "Model saved at epoch 1 with validation accuracy: 0.5093\n"
          ]
        },
        {
          "output_type": "stream",
          "name": "stderr",
          "text": [
            "\r  0%|          | 2/500 [00:00<01:15,  6.61it/s]"
          ]
        },
        {
          "output_type": "stream",
          "name": "stdout",
          "text": [
            "Model saved at epoch 2 with validation accuracy: 0.5241\n"
          ]
        },
        {
          "output_type": "stream",
          "name": "stderr",
          "text": [
            "  1%|          | 4/500 [00:00<01:19,  6.21it/s]"
          ]
        },
        {
          "output_type": "stream",
          "name": "stdout",
          "text": [
            "Model saved at epoch 3 with validation accuracy: 0.5500\n",
            "Model saved at epoch 4 with validation accuracy: 0.5824\n"
          ]
        },
        {
          "output_type": "stream",
          "name": "stderr",
          "text": [
            "  5%|▌         | 25/500 [00:02<00:47, 10.10it/s]"
          ]
        },
        {
          "output_type": "stream",
          "name": "stdout",
          "text": [
            "Model saved at epoch 24 with validation accuracy: 0.5852\n",
            "Model saved at epoch 25 with validation accuracy: 0.5870\n"
          ]
        },
        {
          "output_type": "stream",
          "name": "stderr",
          "text": [
            " 18%|█▊        | 91/500 [00:09<00:40, 10.05it/s]"
          ]
        },
        {
          "output_type": "stream",
          "name": "stdout",
          "text": [
            "Model saved at epoch 90 with validation accuracy: 0.5907\n",
            "Model saved at epoch 91 with validation accuracy: 0.5981\n"
          ]
        },
        {
          "output_type": "stream",
          "name": "stderr",
          "text": [
            "\r 19%|█▊        | 93/500 [00:09<00:40,  9.95it/s]"
          ]
        },
        {
          "output_type": "stream",
          "name": "stdout",
          "text": [
            "Model saved at epoch 92 with validation accuracy: 0.6056\n",
            "Model saved at epoch 93 with validation accuracy: 0.6176\n"
          ]
        },
        {
          "output_type": "stream",
          "name": "stderr",
          "text": [
            " 20%|█▉        | 98/500 [00:10<00:40,  9.95it/s]"
          ]
        },
        {
          "output_type": "stream",
          "name": "stdout",
          "text": [
            "Model saved at epoch 97 with validation accuracy: 0.6250\n",
            "Model saved at epoch 98 with validation accuracy: 0.6306\n"
          ]
        },
        {
          "output_type": "stream",
          "name": "stderr",
          "text": [
            "100%|██████████| 500/500 [00:51<00:00,  9.68it/s]\n"
          ]
        },
        {
          "output_type": "stream",
          "name": "stdout",
          "text": [
            "the best accuracy is:  0.6305555555555555\n"
          ]
        },
        {
          "output_type": "display_data",
          "data": {
            "text/plain": [
              "<Figure size 800x400 with 1 Axes>"
            ],
            "image/png": "[encoded data removed]"
          },
          "metadata": {}
        }
      ],
      "source": [
        "def test(dataloader, model):\n",
        "    model.eval()\n",
        "    size = len(dataloader.dataset)\n",
        "    correct = 0\n",
        "\n",
        "    with torch.no_grad():\n",
        "        for x, y in dataloader:\n",
        "            x, y = x.to(DEVICE), y.to(DEVICE)\n",
        "            y_pred, features = model(x)\n",
        "            correct += (torch.max(y_pred, 1)[1] == y).sum().item()\n",
        "\n",
        "    accuracy = correct / size\n",
        "\n",
        "    return accuracy, features\n",
        "\n",
        "\n",
        "\n",
        "def train(source_data, source_label, val_data, val_label, target_data, target_label, batch_size=1080, epochs=500, lr=1e-3):\n",
        "    train_dataset = TensorDataset(source_data, source_label)\n",
        "    val_dataset = TensorDataset(val_data, val_label)\n",
        "    test_dataset = TensorDataset(target_data, target_label)\n",
        "\n",
        "    train_loader = DataLoader(dataset=train_dataset, batch_size=1080, shuffle=True)\n",
        "    val_loader = DataLoader(dataset=val_dataset, batch_size=1080, shuffle=True)\n",
        "    # test_loader = DataLoader(dataset=test_dataset, batch_size=1080, shuffle=True)\n",
        "\n",
        "    model = EEGNet_ReLU(n_output=2)\n",
        "    loss_fn = nn.CrossEntropyLoss()\n",
        "\n",
        "    optimizer = optim.Adam(model.parameters(),lr = lr, weight_decay=0.001)\n",
        "    # optimizer = optim.SGD(model.parameters(), lr=lr, momentum=0.5, weight_decay=5e-4)\n",
        "\n",
        "    model.to(DEVICE)\n",
        "    # summary(model.cuda(),(1,2,750))\n",
        "\n",
        "    loss_history = []\n",
        "    train_accuracy_history = []\n",
        "    val_accuracy_history = []\n",
        "    test_accuracy_history = []\n",
        "\n",
        "    best_acc = 0\n",
        "\n",
        "    for epoch in tqdm(range(epochs)):\n",
        "        model.train()\n",
        "\n",
        "        running_loss = 0.0\n",
        "        correct = 0\n",
        "        total = 0\n",
        "\n",
        "        for batch, (x, y) in enumerate(train_loader):\n",
        "            optimizer.zero_grad()\n",
        "\n",
        "            x, y = x.to(DEVICE), y.to(DEVICE)\n",
        "            y_pred, source_features = model(x)\n",
        "\n",
        "            loss = loss_fn(y_pred, y)\n",
        "\n",
        "            loss.backward()\n",
        "            optimizer.step()\n",
        "\n",
        "            running_loss += loss.item()\n",
        "            correct += (torch.max(y_pred,1)[1] == y).sum().item()\n",
        "            total += y.size(0)\n",
        "\n",
        "\n",
        "        train_accuracy = correct / total\n",
        "        train_accuracy_history.append(train_accuracy)\n",
        "\n",
        "        val_accuracy, val_features = test(val_loader, model)\n",
        "        if val_accuracy > best_acc:\n",
        "            best_acc = val_accuracy\n",
        "            torch.save(model.state_dict(), 'EEGNet_best_model.pth')\n",
        "            print(f'Model saved at epoch {epoch+1} with validation accuracy: {val_accuracy:.4f}')\n",
        "            # test_acc, _ = test(test_loader, model)\n",
        "            # print(f'test accuracy is {test_acc}')\n",
        "\n",
        "        val_accuracy_history.append(val_accuracy)\n",
        "\n",
        "        # print(\"epochs:\",epoch,\"loss:\",loss.item(),\"D_s Accuracy:\",train_accuracy,\"validation accuracy: \", val_accuracy, \"D_t Accuracy:\",test_accuracy)\n",
        "\n",
        "    print(\"the best accuracy is: \", best_acc)\n",
        "    model.load_state_dict(torch.load(\"EEGNet_best_model.pth\"))\n",
        "    _, source_features = model(source_data.to(DEVICE))\n",
        "    _, val_features = model(val_data.to(DEVICE))\n",
        "    # tsne_visulization(source_features.cpu().detach().numpy(), val_features.cpu().detach().numpy(), path='original.jpg')\n",
        "\n",
        "\n",
        "    plt.figure(figsize=(8, 4))\n",
        "    # plt.plot(loss_history, label=\"Loss\")\n",
        "    plt.plot(train_accuracy_history, label='Train Accuracy')\n",
        "    plt.plot(val_accuracy_history, label='Validation Accuracy')\n",
        "    # plt.plot(test_accuracy_history, label='Test Accuracy')\n",
        "    plt.xlabel('Epochs')\n",
        "    plt.ylabel('Accuracy')\n",
        "    plt.legend()\n",
        "    plt.title('Accuracy Curve')\n",
        "    plt.grid(True)\n",
        "    plt.show()\n",
        "\n",
        "\n",
        "\n",
        "source_data, source_label, val_data, val_label, target_data, target_label = read_bci_data()\n",
        "# val_data, val_label = source_data[-360:], source_label[-360:]\n",
        "# source_data, source_label = source_data[:720], source_label[:720]\n",
        "# print(source_data.shape, source_label.shape)\n",
        "train(source_data, source_label, val_data, val_label, target_data, target_label, batch_size=1080, epochs=500, lr=1e-1)"
      ]
    },
    {
      "cell_type": "markdown",
      "metadata": {
        "id": "91LtgiQd5tkM"
      },
      "source": [
        "## 3.3 With DA"
      ]
    },
    {
      "cell_type": "code",
      "execution_count": 58,
      "metadata": {
        "id": "vNkLlpFTHwEq"
      },
      "outputs": [],
      "source": [
        "def lr_lambda(epoch):\n",
        "    if epoch < 100:\n",
        "        return 0.1\n",
        "    else:\n",
        "        lr = 0.1 ** ((epoch // 100) + 1)\n",
        "        return 1e-4 if lr < 1e-4 else lr\n",
        "\n",
        "\n",
        "def test(data, label, model):\n",
        "    model.eval()\n",
        "    with torch.no_grad():\n",
        "        data, label = data.to(DEVICE), label.to(DEVICE)\n",
        "        pred, _, _, _ = model(data, data)\n",
        "\n",
        "        correct_cnt = (torch.max(pred, 1)[1] == label).sum().item()\n",
        "        sample_cnt = data.shape[0]\n",
        "        accuracy = correct_cnt / sample_cnt\n",
        "\n",
        "    return accuracy\n",
        "\n",
        "\n",
        "def train(model, source_data, source_label, val_data, val_label, target_data, target_label, lambda_factor=0.5, batch_size=1080, epochs=500, lr=1e-3, path='test', format='jpg'):\n",
        "    train_dataset = TensorDataset(source_data, source_label)\n",
        "    val_dataset = TensorDataset(val_data, val_label)\n",
        "\n",
        "    train_loader = DataLoader(dataset=train_dataset, batch_size=batch_size, shuffle=True)\n",
        "    val_loader = DataLoader(dataset=val_dataset, batch_size=batch_size, shuffle=True)\n",
        "\n",
        "    loss_fn = nn.CrossEntropyLoss()\n",
        "\n",
        "    optimizer = optim.Adam(model.parameters(),lr = lr)\n",
        "    # optimizer = optim.SGD(model.parameters(), lr=lr, momentum=0.5, weight_decay=5e-4)\n",
        "    lr_scheduler = LambdaLR(optimizer, lr_lambda)\n",
        "\n",
        "\n",
        "    model.to(DEVICE)\n",
        "\n",
        "    clf_loss_history = []\n",
        "    mmd_loss_history = []\n",
        "    train_accuracy_history = []\n",
        "    val_accuracy_history = []\n",
        "    test_accuracy_history = []\n",
        "\n",
        "    best_acc = 0\n",
        "\n",
        "    for epoch in tqdm(range(epochs)):\n",
        "        model.train()\n",
        "\n",
        "        optimizer.zero_grad()\n",
        "\n",
        "        source_data, source_label = source_data.to(DEVICE), source_label.to(DEVICE)\n",
        "        target_data = target_data.to(DEVICE)\n",
        "        val_data = val_data.to(DEVICE)\n",
        "\n",
        "        train_target_data = val_data\n",
        "        train_target_data = train_target_data.to(DEVICE)\n",
        "\n",
        "        preds, mmd_loss, source, val = model(source_data, train_target_data)\n",
        "\n",
        "        # compute loss\n",
        "        clf_loss = loss_fn(preds, source_label)\n",
        "        loss = clf_loss + lambda_factor * mmd_loss\n",
        "\n",
        "        clf_loss_history.append(loss.item())\n",
        "        mmd_loss_history.append(mmd_loss.item())\n",
        "\n",
        "        correct_cnt = (torch.max(preds, 1)[1]== source_label).sum().item()\n",
        "        accuracy = correct_cnt / source_data.shape[0]\n",
        "        train_accuracy_history.append(accuracy)\n",
        "\n",
        "        loss.backward()\n",
        "        optimizer.step()\n",
        "        lr_scheduler.step()\n",
        "\n",
        "        val_accuracy = test(val_data, val_label, model)\n",
        "        val_accuracy_history.append(val_accuracy)\n",
        "        if val_accuracy > best_acc:\n",
        "            best_acc = val_accuracy\n",
        "\n",
        "            # torch.save(model.state_dict(), 'DA_best_model.pth')\n",
        "            # print(f'Model saved at epoch {epoch+1} with validation accuracy: {val_accuracy:.4f}')\n",
        "            # print(\"LR: \", lr_scheduler.get_last_lr()[0], optimizer.state_dict()['param_groups'][0]['lr'])\n",
        "            # if epoch > 100:\n",
        "                # tsne_visulization(source.cpu().detach().numpy(), val.cpu().detach().numpy(), path='original.jpg')\n",
        "        # print(f'classification loss: {clf_loss.item()}, discrepency: {mmd_loss.item()}')\n",
        "\n",
        "        # if epoch == epochs - 1:\n",
        "            # tsne_visulization(source.cpu().detach().numpy(), val.cpu().detach().numpy(), path='original.jpg')\n",
        "\n",
        "    discrepency = np.mean(mmd_loss_history)\n",
        "\n",
        "    # print(\"the best accuracy is: \", best_acc)\n",
        "    # with torch.no_grad():\n",
        "    #     model.load_state_dict(torch.load(\"DA_best_model.pth\"))\n",
        "    #     _, _, source_features, val_features = model(source_data.to(DEVICE), val_data.to(DEVICE))\n",
        "    #     tsne_visulization(source_features.cpu().detach().numpy(), val_features.cpu().detach().numpy(), path='original.jpg')\n",
        "\n",
        "    # plt.figure(figsize=(16, 4))\n",
        "    # plt.subplot(1, 2, 1)\n",
        "    # # plt.plot(loss_history, label=\"Loss\")\n",
        "    # plt.plot(train_accuracy_history, label='Train Accuracy')\n",
        "    # plt.plot(val_accuracy_history, label='Validation Accuracy')\n",
        "    # plt.plot(test_accuracy_history, label='Test Accuracy')\n",
        "    # plt.xlabel('Epochs')\n",
        "    # plt.ylabel('Accuracy')\n",
        "    # plt.legend()\n",
        "    # plt.title('Accuracy Curve')\n",
        "    # plt.grid(True)\n",
        "    # # plt.show()\n",
        "\n",
        "\n",
        "    # plt.subplot(1, 2, 2)\n",
        "    # plt.plot(clf_loss_history, label=\"CLF Loss\")\n",
        "    # plt.plot(mmd_loss_history, label='MMD Loss')\n",
        "    # plt.xlabel('Epochs')\n",
        "    # plt.ylabel('Loss')\n",
        "    # plt.legend()\n",
        "    # plt.title('Loss Curve')\n",
        "    # plt.grid(True)\n",
        "    # plt.show()\n",
        "\n",
        "    print(f\"lambda={lambda_factor}, accuracy={best_acc}, mean discrepency={discrepency}\")\n",
        "\n",
        "    return best_acc, discrepency\n",
        "\n",
        "\n",
        "def main(model, path='demo.jpg'):\n",
        "    lambda_list = []\n",
        "    acc_list = []\n",
        "    disc_list = []\n",
        "\n",
        "    param_grid = {\n",
        "        'lambda_factor': [0.001, 0.05, 0.01, 0.1, 0.3, 0.5, 0.7, 0.9, 1, 3, 5, 7, 10, 13, 15, 17, 20, 50, 70, 100], # 0.1, 0.3, 0.5, 0.7,\n",
        "    }\n",
        "    for params in ParameterGrid(param_grid):\n",
        "        source_data, source_label, val_data, val_label, target_data, target_label = read_bci_data()\n",
        "        best_acc, discrepency = train(model, source_data, source_label, val_data, val_label, target_data, target_label, lambda_factor=params['lambda_factor'], batch_size=1080, epochs=500, lr=1e-2, path='DDC.jpg')\n",
        "        model.apply(init_weights)\n",
        "\n",
        "        lambda_list.append(params['lambda_factor'])\n",
        "        acc_list.append(best_acc)\n",
        "        disc_list.append(discrepency)\n",
        "\n",
        "    return lambda_list, acc_list, disc_list\n"
      ]
    },
    {
      "cell_type": "markdown",
      "metadata": {
        "id": "0Mr5z6-iqEbM"
      },
      "source": [
        "## DDC"
      ]
    },
    {
      "cell_type": "code",
      "execution_count": 59,
      "metadata": {
        "colab": {
          "base_uri": "https://localhost:8080/"
        },
        "id": "cciKP_f8qGSy",
        "outputId": "726e93da-d39a-468e-fbfd-09e2ea7bfa02"
      },
      "outputs": [
        {
          "output_type": "stream",
          "name": "stdout",
          "text": [
            "torch.Size([1080, 1, 2, 750]) torch.Size([1080]) torch.Size([1080, 1, 2, 750]) torch.Size([1080]) torch.Size([1080, 1, 2, 750]) torch.Size([1080])\n"
          ]
        },
        {
          "output_type": "stream",
          "name": "stderr",
          "text": [
            "100%|██████████| 500/500 [00:25<00:00, 19.80it/s]\n"
          ]
        },
        {
          "output_type": "stream",
          "name": "stdout",
          "text": [
            "lambda=0.001, accuracy=0.5981481481481481, mean discrepency=0.35983848094940185\n",
            "torch.Size([1080, 1, 2, 750]) torch.Size([1080]) torch.Size([1080, 1, 2, 750]) torch.Size([1080]) torch.Size([1080, 1, 2, 750]) torch.Size([1080])\n"
          ]
        },
        {
          "output_type": "stream",
          "name": "stderr",
          "text": [
            "100%|██████████| 500/500 [00:25<00:00, 19.80it/s]\n"
          ]
        },
        {
          "output_type": "stream",
          "name": "stdout",
          "text": [
            "lambda=0.05, accuracy=0.5944444444444444, mean discrepency=0.06334537696838378\n",
            "torch.Size([1080, 1, 2, 750]) torch.Size([1080]) torch.Size([1080, 1, 2, 750]) torch.Size([1080]) torch.Size([1080, 1, 2, 750]) torch.Size([1080])\n"
          ]
        },
        {
          "output_type": "stream",
          "name": "stderr",
          "text": [
            "100%|██████████| 500/500 [00:25<00:00, 19.81it/s]\n"
          ]
        },
        {
          "output_type": "stream",
          "name": "stdout",
          "text": [
            "lambda=0.01, accuracy=0.5898148148148148, mean discrepency=0.22775360298156738\n",
            "torch.Size([1080, 1, 2, 750]) torch.Size([1080]) torch.Size([1080, 1, 2, 750]) torch.Size([1080]) torch.Size([1080, 1, 2, 750]) torch.Size([1080])\n"
          ]
        },
        {
          "output_type": "stream",
          "name": "stderr",
          "text": [
            "100%|██████████| 500/500 [00:25<00:00, 19.80it/s]\n"
          ]
        },
        {
          "output_type": "stream",
          "name": "stdout",
          "text": [
            "lambda=0.1, accuracy=0.600925925925926, mean discrepency=0.0466496524810791\n",
            "torch.Size([1080, 1, 2, 750]) torch.Size([1080]) torch.Size([1080, 1, 2, 750]) torch.Size([1080]) torch.Size([1080, 1, 2, 750]) torch.Size([1080])\n"
          ]
        },
        {
          "output_type": "stream",
          "name": "stderr",
          "text": [
            "100%|██████████| 500/500 [00:25<00:00, 19.80it/s]\n"
          ]
        },
        {
          "output_type": "stream",
          "name": "stdout",
          "text": [
            "lambda=0.3, accuracy=0.5981481481481481, mean discrepency=0.033335948944091795\n",
            "torch.Size([1080, 1, 2, 750]) torch.Size([1080]) torch.Size([1080, 1, 2, 750]) torch.Size([1080]) torch.Size([1080, 1, 2, 750]) torch.Size([1080])\n"
          ]
        },
        {
          "output_type": "stream",
          "name": "stderr",
          "text": [
            "100%|██████████| 500/500 [00:25<00:00, 19.79it/s]\n"
          ]
        },
        {
          "output_type": "stream",
          "name": "stdout",
          "text": [
            "lambda=0.5, accuracy=0.6101851851851852, mean discrepency=0.025962188720703126\n",
            "torch.Size([1080, 1, 2, 750]) torch.Size([1080]) torch.Size([1080, 1, 2, 750]) torch.Size([1080]) torch.Size([1080, 1, 2, 750]) torch.Size([1080])\n"
          ]
        },
        {
          "output_type": "stream",
          "name": "stderr",
          "text": [
            "100%|██████████| 500/500 [00:25<00:00, 19.82it/s]\n"
          ]
        },
        {
          "output_type": "stream",
          "name": "stdout",
          "text": [
            "lambda=0.7, accuracy=0.5972222222222222, mean discrepency=0.022418100357055663\n",
            "torch.Size([1080, 1, 2, 750]) torch.Size([1080]) torch.Size([1080, 1, 2, 750]) torch.Size([1080]) torch.Size([1080, 1, 2, 750]) torch.Size([1080])\n"
          ]
        },
        {
          "output_type": "stream",
          "name": "stderr",
          "text": [
            "100%|██████████| 500/500 [00:25<00:00, 19.81it/s]\n"
          ]
        },
        {
          "output_type": "stream",
          "name": "stdout",
          "text": [
            "lambda=0.9, accuracy=0.5740740740740741, mean discrepency=0.018005649566650392\n",
            "torch.Size([1080, 1, 2, 750]) torch.Size([1080]) torch.Size([1080, 1, 2, 750]) torch.Size([1080]) torch.Size([1080, 1, 2, 750]) torch.Size([1080])\n"
          ]
        },
        {
          "output_type": "stream",
          "name": "stderr",
          "text": [
            "100%|██████████| 500/500 [00:25<00:00, 19.76it/s]\n"
          ]
        },
        {
          "output_type": "stream",
          "name": "stdout",
          "text": [
            "lambda=1, accuracy=0.5972222222222222, mean discrepency=0.018707738876342774\n",
            "torch.Size([1080, 1, 2, 750]) torch.Size([1080]) torch.Size([1080, 1, 2, 750]) torch.Size([1080]) torch.Size([1080, 1, 2, 750]) torch.Size([1080])\n"
          ]
        },
        {
          "output_type": "stream",
          "name": "stderr",
          "text": [
            "100%|██████████| 500/500 [00:25<00:00, 19.80it/s]\n"
          ]
        },
        {
          "output_type": "stream",
          "name": "stdout",
          "text": [
            "lambda=3, accuracy=0.6083333333333333, mean discrepency=0.011571388244628906\n",
            "torch.Size([1080, 1, 2, 750]) torch.Size([1080]) torch.Size([1080, 1, 2, 750]) torch.Size([1080]) torch.Size([1080, 1, 2, 750]) torch.Size([1080])\n"
          ]
        },
        {
          "output_type": "stream",
          "name": "stderr",
          "text": [
            "100%|██████████| 500/500 [00:25<00:00, 19.80it/s]\n"
          ]
        },
        {
          "output_type": "stream",
          "name": "stdout",
          "text": [
            "lambda=5, accuracy=0.600925925925926, mean discrepency=0.008533532619476319\n",
            "torch.Size([1080, 1, 2, 750]) torch.Size([1080]) torch.Size([1080, 1, 2, 750]) torch.Size([1080]) torch.Size([1080, 1, 2, 750]) torch.Size([1080])\n"
          ]
        },
        {
          "output_type": "stream",
          "name": "stderr",
          "text": [
            "100%|██████████| 500/500 [00:25<00:00, 19.77it/s]\n"
          ]
        },
        {
          "output_type": "stream",
          "name": "stdout",
          "text": [
            "lambda=7, accuracy=0.6259259259259259, mean discrepency=0.007857757568359375\n",
            "torch.Size([1080, 1, 2, 750]) torch.Size([1080]) torch.Size([1080, 1, 2, 750]) torch.Size([1080]) torch.Size([1080, 1, 2, 750]) torch.Size([1080])\n"
          ]
        },
        {
          "output_type": "stream",
          "name": "stderr",
          "text": [
            "100%|██████████| 500/500 [00:25<00:00, 19.74it/s]\n"
          ]
        },
        {
          "output_type": "stream",
          "name": "stdout",
          "text": [
            "lambda=10, accuracy=0.6101851851851852, mean discrepency=0.0077729330062866215\n",
            "torch.Size([1080, 1, 2, 750]) torch.Size([1080]) torch.Size([1080, 1, 2, 750]) torch.Size([1080]) torch.Size([1080, 1, 2, 750]) torch.Size([1080])\n"
          ]
        },
        {
          "output_type": "stream",
          "name": "stderr",
          "text": [
            "100%|██████████| 500/500 [00:25<00:00, 19.76it/s]\n"
          ]
        },
        {
          "output_type": "stream",
          "name": "stdout",
          "text": [
            "lambda=13, accuracy=0.5907407407407408, mean discrepency=0.007724770069122314\n",
            "torch.Size([1080, 1, 2, 750]) torch.Size([1080]) torch.Size([1080, 1, 2, 750]) torch.Size([1080]) torch.Size([1080, 1, 2, 750]) torch.Size([1080])\n"
          ]
        },
        {
          "output_type": "stream",
          "name": "stderr",
          "text": [
            "100%|██████████| 500/500 [00:25<00:00, 19.79it/s]\n"
          ]
        },
        {
          "output_type": "stream",
          "name": "stdout",
          "text": [
            "lambda=15, accuracy=0.6074074074074074, mean discrepency=0.005799803256988525\n",
            "torch.Size([1080, 1, 2, 750]) torch.Size([1080]) torch.Size([1080, 1, 2, 750]) torch.Size([1080]) torch.Size([1080, 1, 2, 750]) torch.Size([1080])\n"
          ]
        },
        {
          "output_type": "stream",
          "name": "stderr",
          "text": [
            "100%|██████████| 500/500 [00:25<00:00, 19.79it/s]\n"
          ]
        },
        {
          "output_type": "stream",
          "name": "stdout",
          "text": [
            "lambda=17, accuracy=0.6083333333333333, mean discrepency=0.0048774929046630855\n",
            "torch.Size([1080, 1, 2, 750]) torch.Size([1080]) torch.Size([1080, 1, 2, 750]) torch.Size([1080]) torch.Size([1080, 1, 2, 750]) torch.Size([1080])\n"
          ]
        },
        {
          "output_type": "stream",
          "name": "stderr",
          "text": [
            "100%|██████████| 500/500 [00:25<00:00, 19.80it/s]\n"
          ]
        },
        {
          "output_type": "stream",
          "name": "stdout",
          "text": [
            "lambda=20, accuracy=0.6166666666666667, mean discrepency=0.005086946964263916\n",
            "torch.Size([1080, 1, 2, 750]) torch.Size([1080]) torch.Size([1080, 1, 2, 750]) torch.Size([1080]) torch.Size([1080, 1, 2, 750]) torch.Size([1080])\n"
          ]
        },
        {
          "output_type": "stream",
          "name": "stderr",
          "text": [
            "100%|██████████| 500/500 [00:25<00:00, 19.77it/s]\n"
          ]
        },
        {
          "output_type": "stream",
          "name": "stdout",
          "text": [
            "lambda=50, accuracy=0.5277777777777778, mean discrepency=0.004822852730751038\n",
            "torch.Size([1080, 1, 2, 750]) torch.Size([1080]) torch.Size([1080, 1, 2, 750]) torch.Size([1080]) torch.Size([1080, 1, 2, 750]) torch.Size([1080])\n"
          ]
        },
        {
          "output_type": "stream",
          "name": "stderr",
          "text": [
            "100%|██████████| 500/500 [00:25<00:00, 19.81it/s]\n"
          ]
        },
        {
          "output_type": "stream",
          "name": "stdout",
          "text": [
            "lambda=70, accuracy=0.5444444444444444, mean discrepency=0.0037997936010360717\n",
            "torch.Size([1080, 1, 2, 750]) torch.Size([1080]) torch.Size([1080, 1, 2, 750]) torch.Size([1080]) torch.Size([1080, 1, 2, 750]) torch.Size([1080])\n"
          ]
        },
        {
          "output_type": "stream",
          "name": "stderr",
          "text": [
            "100%|██████████| 500/500 [00:25<00:00, 19.81it/s]"
          ]
        },
        {
          "output_type": "stream",
          "name": "stdout",
          "text": [
            "lambda=100, accuracy=0.5370370370370371, mean discrepency=0.0028358603417873384\n"
          ]
        },
        {
          "output_type": "stream",
          "name": "stderr",
          "text": [
            "\n"
          ]
        }
      ],
      "source": [
        "# param_grid = {\n",
        "#     'lambda_factor': [20, 50, 70, 100]\n",
        "#     # 'lambda_factor': [0.1, 0.3, 0.5, 0.7, 0.9, 1, 3, 5, 7, 10, 100],\n",
        "# }\n",
        "# for params in ParameterGrid(param_grid):\n",
        "model = EEGNet_DDC(num_classes=2)\n",
        "lambda_list, acc_list, disc_list = main(model, path='DDC.jpg')\n",
        "    # source_data, source_label, val_data, val_label, target_data, target_label = read_bci_data()\n",
        "    # train(model, source_data, source_label, val_data, val_label, target_data, target_label, lambda_factor=params['lambda_factor'], batch_size=1080, epochs=500, lr=1e-2, path='DDC.jpg')"
      ]
    },
    {
      "cell_type": "markdown",
      "metadata": {
        "id": "lzoCWdaBHSOy"
      },
      "source": [
        "## with DA (DAN)"
      ]
    },
    {
      "cell_type": "code",
      "execution_count": 60,
      "metadata": {
        "colab": {
          "base_uri": "https://localhost:8080/"
        },
        "id": "sR95xx6afTTI",
        "outputId": "37dcdbdc-d53f-4bab-fdbe-5a63446ae788"
      },
      "outputs": [
        {
          "output_type": "stream",
          "name": "stdout",
          "text": [
            "torch.Size([1080, 1, 2, 750]) torch.Size([1080]) torch.Size([1080, 1, 2, 750]) torch.Size([1080]) torch.Size([1080, 1, 2, 750]) torch.Size([1080])\n"
          ]
        },
        {
          "output_type": "stream",
          "name": "stderr",
          "text": [
            "100%|██████████| 500/500 [00:32<00:00, 15.29it/s]\n"
          ]
        },
        {
          "output_type": "stream",
          "name": "stdout",
          "text": [
            "lambda=0.001, accuracy=0.5916666666666667, mean discrepency=2.2838415381908415\n",
            "torch.Size([1080, 1, 2, 750]) torch.Size([1080]) torch.Size([1080, 1, 2, 750]) torch.Size([1080]) torch.Size([1080, 1, 2, 750]) torch.Size([1080])\n"
          ]
        },
        {
          "output_type": "stream",
          "name": "stderr",
          "text": [
            "100%|██████████| 500/500 [00:32<00:00, 15.28it/s]\n"
          ]
        },
        {
          "output_type": "stream",
          "name": "stdout",
          "text": [
            "lambda=0.05, accuracy=0.5787037037037037, mean discrepency=0.31375109958648684\n",
            "torch.Size([1080, 1, 2, 750]) torch.Size([1080]) torch.Size([1080, 1, 2, 750]) torch.Size([1080]) torch.Size([1080, 1, 2, 750]) torch.Size([1080])\n"
          ]
        },
        {
          "output_type": "stream",
          "name": "stderr",
          "text": [
            "100%|██████████| 500/500 [00:32<00:00, 15.30it/s]\n"
          ]
        },
        {
          "output_type": "stream",
          "name": "stdout",
          "text": [
            "lambda=0.01, accuracy=0.5675925925925925, mean discrepency=0.6718445855677128\n",
            "torch.Size([1080, 1, 2, 750]) torch.Size([1080]) torch.Size([1080, 1, 2, 750]) torch.Size([1080]) torch.Size([1080, 1, 2, 750]) torch.Size([1080])\n"
          ]
        },
        {
          "output_type": "stream",
          "name": "stderr",
          "text": [
            "100%|██████████| 500/500 [00:32<00:00, 15.29it/s]\n"
          ]
        },
        {
          "output_type": "stream",
          "name": "stdout",
          "text": [
            "lambda=0.1, accuracy=0.5990740740740741, mean discrepency=0.21795352040231228\n",
            "torch.Size([1080, 1, 2, 750]) torch.Size([1080]) torch.Size([1080, 1, 2, 750]) torch.Size([1080]) torch.Size([1080, 1, 2, 750]) torch.Size([1080])\n"
          ]
        },
        {
          "output_type": "stream",
          "name": "stderr",
          "text": [
            "100%|██████████| 500/500 [00:32<00:00, 15.30it/s]\n"
          ]
        },
        {
          "output_type": "stream",
          "name": "stdout",
          "text": [
            "lambda=0.3, accuracy=0.5648148148148148, mean discrepency=0.13935782285034656\n",
            "torch.Size([1080, 1, 2, 750]) torch.Size([1080]) torch.Size([1080, 1, 2, 750]) torch.Size([1080]) torch.Size([1080, 1, 2, 750]) torch.Size([1080])\n"
          ]
        },
        {
          "output_type": "stream",
          "name": "stderr",
          "text": [
            "100%|██████████| 500/500 [00:32<00:00, 15.30it/s]\n"
          ]
        },
        {
          "output_type": "stream",
          "name": "stdout",
          "text": [
            "lambda=0.5, accuracy=0.5787037037037037, mean discrepency=0.144993693202734\n",
            "torch.Size([1080, 1, 2, 750]) torch.Size([1080]) torch.Size([1080, 1, 2, 750]) torch.Size([1080]) torch.Size([1080, 1, 2, 750]) torch.Size([1080])\n"
          ]
        },
        {
          "output_type": "stream",
          "name": "stderr",
          "text": [
            "100%|██████████| 500/500 [00:32<00:00, 15.30it/s]\n"
          ]
        },
        {
          "output_type": "stream",
          "name": "stdout",
          "text": [
            "lambda=0.7, accuracy=0.5916666666666667, mean discrepency=0.1141502477824688\n",
            "torch.Size([1080, 1, 2, 750]) torch.Size([1080]) torch.Size([1080, 1, 2, 750]) torch.Size([1080]) torch.Size([1080, 1, 2, 750]) torch.Size([1080])\n"
          ]
        },
        {
          "output_type": "stream",
          "name": "stderr",
          "text": [
            "100%|██████████| 500/500 [00:32<00:00, 15.30it/s]\n"
          ]
        },
        {
          "output_type": "stream",
          "name": "stdout",
          "text": [
            "lambda=0.9, accuracy=0.600925925925926, mean discrepency=0.1295802302211523\n",
            "torch.Size([1080, 1, 2, 750]) torch.Size([1080]) torch.Size([1080, 1, 2, 750]) torch.Size([1080]) torch.Size([1080, 1, 2, 750]) torch.Size([1080])\n"
          ]
        },
        {
          "output_type": "stream",
          "name": "stderr",
          "text": [
            "100%|██████████| 500/500 [00:32<00:00, 15.31it/s]\n"
          ]
        },
        {
          "output_type": "stream",
          "name": "stdout",
          "text": [
            "lambda=1, accuracy=0.5342592592592592, mean discrepency=0.10092667406052351\n",
            "torch.Size([1080, 1, 2, 750]) torch.Size([1080]) torch.Size([1080, 1, 2, 750]) torch.Size([1080]) torch.Size([1080, 1, 2, 750]) torch.Size([1080])\n"
          ]
        },
        {
          "output_type": "stream",
          "name": "stderr",
          "text": [
            "100%|██████████| 500/500 [00:32<00:00, 15.29it/s]\n"
          ]
        },
        {
          "output_type": "stream",
          "name": "stdout",
          "text": [
            "lambda=3, accuracy=0.5194444444444445, mean discrepency=0.09206850707530975\n",
            "torch.Size([1080, 1, 2, 750]) torch.Size([1080]) torch.Size([1080, 1, 2, 750]) torch.Size([1080]) torch.Size([1080, 1, 2, 750]) torch.Size([1080])\n"
          ]
        },
        {
          "output_type": "stream",
          "name": "stderr",
          "text": [
            "100%|██████████| 500/500 [00:32<00:00, 15.30it/s]\n"
          ]
        },
        {
          "output_type": "stream",
          "name": "stdout",
          "text": [
            "lambda=5, accuracy=0.5194444444444445, mean discrepency=0.08796823536604644\n",
            "torch.Size([1080, 1, 2, 750]) torch.Size([1080]) torch.Size([1080, 1, 2, 750]) torch.Size([1080]) torch.Size([1080, 1, 2, 750]) torch.Size([1080])\n"
          ]
        },
        {
          "output_type": "stream",
          "name": "stderr",
          "text": [
            "100%|██████████| 500/500 [00:32<00:00, 15.28it/s]\n"
          ]
        },
        {
          "output_type": "stream",
          "name": "stdout",
          "text": [
            "lambda=7, accuracy=0.5518518518518518, mean discrepency=0.08971108078211545\n",
            "torch.Size([1080, 1, 2, 750]) torch.Size([1080]) torch.Size([1080, 1, 2, 750]) torch.Size([1080]) torch.Size([1080, 1, 2, 750]) torch.Size([1080])\n"
          ]
        },
        {
          "output_type": "stream",
          "name": "stderr",
          "text": [
            "100%|██████████| 500/500 [00:32<00:00, 15.30it/s]\n"
          ]
        },
        {
          "output_type": "stream",
          "name": "stdout",
          "text": [
            "lambda=10, accuracy=0.5805555555555556, mean discrepency=0.07619677148759366\n",
            "torch.Size([1080, 1, 2, 750]) torch.Size([1080]) torch.Size([1080, 1, 2, 750]) torch.Size([1080]) torch.Size([1080, 1, 2, 750]) torch.Size([1080])\n"
          ]
        },
        {
          "output_type": "stream",
          "name": "stderr",
          "text": [
            "100%|██████████| 500/500 [00:32<00:00, 15.31it/s]\n"
          ]
        },
        {
          "output_type": "stream",
          "name": "stdout",
          "text": [
            "lambda=13, accuracy=0.5148148148148148, mean discrepency=0.07692464470490813\n",
            "torch.Size([1080, 1, 2, 750]) torch.Size([1080]) torch.Size([1080, 1, 2, 750]) torch.Size([1080]) torch.Size([1080, 1, 2, 750]) torch.Size([1080])\n"
          ]
        },
        {
          "output_type": "stream",
          "name": "stderr",
          "text": [
            "100%|██████████| 500/500 [00:32<00:00, 15.29it/s]\n"
          ]
        },
        {
          "output_type": "stream",
          "name": "stdout",
          "text": [
            "lambda=15, accuracy=0.5148148148148148, mean discrepency=0.08113138183578848\n",
            "torch.Size([1080, 1, 2, 750]) torch.Size([1080]) torch.Size([1080, 1, 2, 750]) torch.Size([1080]) torch.Size([1080, 1, 2, 750]) torch.Size([1080])\n"
          ]
        },
        {
          "output_type": "stream",
          "name": "stderr",
          "text": [
            "100%|██████████| 500/500 [00:32<00:00, 15.29it/s]\n"
          ]
        },
        {
          "output_type": "stream",
          "name": "stdout",
          "text": [
            "lambda=17, accuracy=0.5481481481481482, mean discrepency=0.08100356028228999\n",
            "torch.Size([1080, 1, 2, 750]) torch.Size([1080]) torch.Size([1080, 1, 2, 750]) torch.Size([1080]) torch.Size([1080, 1, 2, 750]) torch.Size([1080])\n"
          ]
        },
        {
          "output_type": "stream",
          "name": "stderr",
          "text": [
            "100%|██████████| 500/500 [00:32<00:00, 15.28it/s]\n"
          ]
        },
        {
          "output_type": "stream",
          "name": "stdout",
          "text": [
            "lambda=20, accuracy=0.5092592592592593, mean discrepency=0.07680671580508351\n",
            "torch.Size([1080, 1, 2, 750]) torch.Size([1080]) torch.Size([1080, 1, 2, 750]) torch.Size([1080]) torch.Size([1080, 1, 2, 750]) torch.Size([1080])\n"
          ]
        },
        {
          "output_type": "stream",
          "name": "stderr",
          "text": [
            "100%|██████████| 500/500 [00:32<00:00, 15.31it/s]\n"
          ]
        },
        {
          "output_type": "stream",
          "name": "stdout",
          "text": [
            "lambda=50, accuracy=0.49537037037037035, mean discrepency=0.0654905062392354\n",
            "torch.Size([1080, 1, 2, 750]) torch.Size([1080]) torch.Size([1080, 1, 2, 750]) torch.Size([1080]) torch.Size([1080, 1, 2, 750]) torch.Size([1080])\n"
          ]
        },
        {
          "output_type": "stream",
          "name": "stderr",
          "text": [
            "100%|██████████| 500/500 [00:32<00:00, 15.31it/s]\n"
          ]
        },
        {
          "output_type": "stream",
          "name": "stdout",
          "text": [
            "lambda=70, accuracy=0.5435185185185185, mean discrepency=0.05777106374502182\n",
            "torch.Size([1080, 1, 2, 750]) torch.Size([1080]) torch.Size([1080, 1, 2, 750]) torch.Size([1080]) torch.Size([1080, 1, 2, 750]) torch.Size([1080])\n"
          ]
        },
        {
          "output_type": "stream",
          "name": "stderr",
          "text": [
            "100%|██████████| 500/500 [00:32<00:00, 15.30it/s]"
          ]
        },
        {
          "output_type": "stream",
          "name": "stdout",
          "text": [
            "lambda=100, accuracy=0.512962962962963, mean discrepency=0.05867991519905627\n"
          ]
        },
        {
          "output_type": "stream",
          "name": "stderr",
          "text": [
            "\n"
          ]
        }
      ],
      "source": [
        "model = EEGNet_DAN(num_classes=2)\n",
        "lambda_list, acc_list, disc_list = main(model, path='DAN.jpg')\n",
        "# model = EEGNet_DAN(num_classes=2)\n",
        "# source_data, source_label, val_data, val_label, target_data, target_label = read_bci_data()\n",
        "# train(model, source_data, source_label, val_data, val_label, target_data, target_label, lambda_factor=0, batch_size=1080, epochs=200, lr=1e-2, path='DAN.jpg')\n",
        "# 发现：加入MK-MMD(gaussian kernels)收敛会变困难?"
      ]
    },
    {
      "cell_type": "markdown",
      "metadata": {
        "id": "5pQmQTxPgLra"
      },
      "source": [
        "### JAN"
      ]
    },
    {
      "cell_type": "code",
      "execution_count": 61,
      "metadata": {
        "colab": {
          "base_uri": "https://localhost:8080/"
        },
        "id": "ggdaoy1vIcM7",
        "outputId": "26b856fd-2301-47f6-9aa9-bc24a1fed713"
      },
      "outputs": [
        {
          "output_type": "stream",
          "name": "stdout",
          "text": [
            "torch.Size([1080, 1, 2, 750]) torch.Size([1080]) torch.Size([1080, 1, 2, 750]) torch.Size([1080]) torch.Size([1080, 1, 2, 750]) torch.Size([1080])\n"
          ]
        },
        {
          "output_type": "stream",
          "name": "stderr",
          "text": [
            "100%|██████████| 500/500 [00:31<00:00, 15.91it/s]\n"
          ]
        },
        {
          "output_type": "stream",
          "name": "stdout",
          "text": [
            "lambda=0.001, accuracy=0.5851851851851851, mean discrepency=1.9344677255153655\n",
            "torch.Size([1080, 1, 2, 750]) torch.Size([1080]) torch.Size([1080, 1, 2, 750]) torch.Size([1080]) torch.Size([1080, 1, 2, 750]) torch.Size([1080])\n"
          ]
        },
        {
          "output_type": "stream",
          "name": "stderr",
          "text": [
            "100%|██████████| 500/500 [00:31<00:00, 15.90it/s]\n"
          ]
        },
        {
          "output_type": "stream",
          "name": "stdout",
          "text": [
            "lambda=0.05, accuracy=0.6037037037037037, mean discrepency=0.15601340941189845\n",
            "torch.Size([1080, 1, 2, 750]) torch.Size([1080]) torch.Size([1080, 1, 2, 750]) torch.Size([1080]) torch.Size([1080, 1, 2, 750]) torch.Size([1080])\n"
          ]
        },
        {
          "output_type": "stream",
          "name": "stderr",
          "text": [
            "100%|██████████| 500/500 [00:31<00:00, 15.92it/s]\n"
          ]
        },
        {
          "output_type": "stream",
          "name": "stdout",
          "text": [
            "lambda=0.01, accuracy=0.6074074074074074, mean discrepency=0.2657752036275342\n",
            "torch.Size([1080, 1, 2, 750]) torch.Size([1080]) torch.Size([1080, 1, 2, 750]) torch.Size([1080]) torch.Size([1080, 1, 2, 750]) torch.Size([1080])\n"
          ]
        },
        {
          "output_type": "stream",
          "name": "stderr",
          "text": [
            "100%|██████████| 500/500 [00:31<00:00, 15.93it/s]\n"
          ]
        },
        {
          "output_type": "stream",
          "name": "stdout",
          "text": [
            "lambda=0.1, accuracy=0.6222222222222222, mean discrepency=0.1494177169662289\n",
            "torch.Size([1080, 1, 2, 750]) torch.Size([1080]) torch.Size([1080, 1, 2, 750]) torch.Size([1080]) torch.Size([1080, 1, 2, 750]) torch.Size([1080])\n"
          ]
        },
        {
          "output_type": "stream",
          "name": "stderr",
          "text": [
            "100%|██████████| 500/500 [00:31<00:00, 15.89it/s]\n"
          ]
        },
        {
          "output_type": "stream",
          "name": "stdout",
          "text": [
            "lambda=0.3, accuracy=0.6, mean discrepency=0.14358583059255034\n",
            "torch.Size([1080, 1, 2, 750]) torch.Size([1080]) torch.Size([1080, 1, 2, 750]) torch.Size([1080]) torch.Size([1080, 1, 2, 750]) torch.Size([1080])\n"
          ]
        },
        {
          "output_type": "stream",
          "name": "stderr",
          "text": [
            "100%|██████████| 500/500 [00:31<00:00, 15.92it/s]\n"
          ]
        },
        {
          "output_type": "stream",
          "name": "stdout",
          "text": [
            "lambda=0.5, accuracy=0.5833333333333334, mean discrepency=0.14733303970668932\n",
            "torch.Size([1080, 1, 2, 750]) torch.Size([1080]) torch.Size([1080, 1, 2, 750]) torch.Size([1080]) torch.Size([1080, 1, 2, 750]) torch.Size([1080])\n"
          ]
        },
        {
          "output_type": "stream",
          "name": "stderr",
          "text": [
            "100%|██████████| 500/500 [00:31<00:00, 15.94it/s]\n"
          ]
        },
        {
          "output_type": "stream",
          "name": "stdout",
          "text": [
            "lambda=0.7, accuracy=0.5685185185185185, mean discrepency=0.15383102768857498\n",
            "torch.Size([1080, 1, 2, 750]) torch.Size([1080]) torch.Size([1080, 1, 2, 750]) torch.Size([1080]) torch.Size([1080, 1, 2, 750]) torch.Size([1080])\n"
          ]
        },
        {
          "output_type": "stream",
          "name": "stderr",
          "text": [
            "100%|██████████| 500/500 [00:31<00:00, 15.89it/s]\n"
          ]
        },
        {
          "output_type": "stream",
          "name": "stdout",
          "text": [
            "lambda=0.9, accuracy=0.5944444444444444, mean discrepency=0.16565151688689367\n",
            "torch.Size([1080, 1, 2, 750]) torch.Size([1080]) torch.Size([1080, 1, 2, 750]) torch.Size([1080]) torch.Size([1080, 1, 2, 750]) torch.Size([1080])\n"
          ]
        },
        {
          "output_type": "stream",
          "name": "stderr",
          "text": [
            "100%|██████████| 500/500 [00:31<00:00, 15.93it/s]\n"
          ]
        },
        {
          "output_type": "stream",
          "name": "stdout",
          "text": [
            "lambda=1, accuracy=0.5722222222222222, mean discrepency=0.15479344254452734\n",
            "torch.Size([1080, 1, 2, 750]) torch.Size([1080]) torch.Size([1080, 1, 2, 750]) torch.Size([1080]) torch.Size([1080, 1, 2, 750]) torch.Size([1080])\n"
          ]
        },
        {
          "output_type": "stream",
          "name": "stderr",
          "text": [
            "100%|██████████| 500/500 [00:31<00:00, 15.91it/s]\n"
          ]
        },
        {
          "output_type": "stream",
          "name": "stdout",
          "text": [
            "lambda=3, accuracy=0.575, mean discrepency=0.15386102330347057\n",
            "torch.Size([1080, 1, 2, 750]) torch.Size([1080]) torch.Size([1080, 1, 2, 750]) torch.Size([1080]) torch.Size([1080, 1, 2, 750]) torch.Size([1080])\n"
          ]
        },
        {
          "output_type": "stream",
          "name": "stderr",
          "text": [
            "100%|██████████| 500/500 [00:31<00:00, 15.88it/s]\n"
          ]
        },
        {
          "output_type": "stream",
          "name": "stdout",
          "text": [
            "lambda=5, accuracy=0.5518518518518518, mean discrepency=0.16133187456429005\n",
            "torch.Size([1080, 1, 2, 750]) torch.Size([1080]) torch.Size([1080, 1, 2, 750]) torch.Size([1080]) torch.Size([1080, 1, 2, 750]) torch.Size([1080])\n"
          ]
        },
        {
          "output_type": "stream",
          "name": "stderr",
          "text": [
            "100%|██████████| 500/500 [00:31<00:00, 15.93it/s]\n"
          ]
        },
        {
          "output_type": "stream",
          "name": "stdout",
          "text": [
            "lambda=7, accuracy=0.5407407407407407, mean discrepency=0.13908983370492933\n",
            "torch.Size([1080, 1, 2, 750]) torch.Size([1080]) torch.Size([1080, 1, 2, 750]) torch.Size([1080]) torch.Size([1080, 1, 2, 750]) torch.Size([1080])\n"
          ]
        },
        {
          "output_type": "stream",
          "name": "stderr",
          "text": [
            "100%|██████████| 500/500 [00:31<00:00, 15.93it/s]\n"
          ]
        },
        {
          "output_type": "stream",
          "name": "stdout",
          "text": [
            "lambda=10, accuracy=0.5657407407407408, mean discrepency=0.13452832541699172\n",
            "torch.Size([1080, 1, 2, 750]) torch.Size([1080]) torch.Size([1080, 1, 2, 750]) torch.Size([1080]) torch.Size([1080, 1, 2, 750]) torch.Size([1080])\n"
          ]
        },
        {
          "output_type": "stream",
          "name": "stderr",
          "text": [
            "100%|██████████| 500/500 [00:31<00:00, 15.92it/s]\n"
          ]
        },
        {
          "output_type": "stream",
          "name": "stdout",
          "text": [
            "lambda=13, accuracy=0.5120370370370371, mean discrepency=0.1405372989658499\n",
            "torch.Size([1080, 1, 2, 750]) torch.Size([1080]) torch.Size([1080, 1, 2, 750]) torch.Size([1080]) torch.Size([1080, 1, 2, 750]) torch.Size([1080])\n"
          ]
        },
        {
          "output_type": "stream",
          "name": "stderr",
          "text": [
            "100%|██████████| 500/500 [00:31<00:00, 15.91it/s]\n"
          ]
        },
        {
          "output_type": "stream",
          "name": "stdout",
          "text": [
            "lambda=15, accuracy=0.5333333333333333, mean discrepency=0.1503117416164023\n",
            "torch.Size([1080, 1, 2, 750]) torch.Size([1080]) torch.Size([1080, 1, 2, 750]) torch.Size([1080]) torch.Size([1080, 1, 2, 750]) torch.Size([1080])\n"
          ]
        },
        {
          "output_type": "stream",
          "name": "stderr",
          "text": [
            "100%|██████████| 500/500 [00:31<00:00, 15.89it/s]\n"
          ]
        },
        {
          "output_type": "stream",
          "name": "stdout",
          "text": [
            "lambda=17, accuracy=0.5055555555555555, mean discrepency=0.1204699736161856\n",
            "torch.Size([1080, 1, 2, 750]) torch.Size([1080]) torch.Size([1080, 1, 2, 750]) torch.Size([1080]) torch.Size([1080, 1, 2, 750]) torch.Size([1080])\n"
          ]
        },
        {
          "output_type": "stream",
          "name": "stderr",
          "text": [
            "100%|██████████| 500/500 [00:31<00:00, 15.92it/s]\n"
          ]
        },
        {
          "output_type": "stream",
          "name": "stdout",
          "text": [
            "lambda=20, accuracy=0.55, mean discrepency=0.12426948327678838\n",
            "torch.Size([1080, 1, 2, 750]) torch.Size([1080]) torch.Size([1080, 1, 2, 750]) torch.Size([1080]) torch.Size([1080, 1, 2, 750]) torch.Size([1080])\n"
          ]
        },
        {
          "output_type": "stream",
          "name": "stderr",
          "text": [
            "100%|██████████| 500/500 [00:31<00:00, 15.88it/s]\n"
          ]
        },
        {
          "output_type": "stream",
          "name": "stdout",
          "text": [
            "lambda=50, accuracy=0.5092592592592593, mean discrepency=0.11346647097292589\n",
            "torch.Size([1080, 1, 2, 750]) torch.Size([1080]) torch.Size([1080, 1, 2, 750]) torch.Size([1080]) torch.Size([1080, 1, 2, 750]) torch.Size([1080])\n"
          ]
        },
        {
          "output_type": "stream",
          "name": "stderr",
          "text": [
            "100%|██████████| 500/500 [00:31<00:00, 15.93it/s]\n"
          ]
        },
        {
          "output_type": "stream",
          "name": "stdout",
          "text": [
            "lambda=70, accuracy=0.5564814814814815, mean discrepency=0.12192420242261141\n",
            "torch.Size([1080, 1, 2, 750]) torch.Size([1080]) torch.Size([1080, 1, 2, 750]) torch.Size([1080]) torch.Size([1080, 1, 2, 750]) torch.Size([1080])\n"
          ]
        },
        {
          "output_type": "stream",
          "name": "stderr",
          "text": [
            "100%|██████████| 500/500 [00:31<00:00, 15.89it/s]"
          ]
        },
        {
          "output_type": "stream",
          "name": "stdout",
          "text": [
            "lambda=100, accuracy=0.5296296296296297, mean discrepency=0.14876717600692063\n"
          ]
        },
        {
          "output_type": "stream",
          "name": "stderr",
          "text": [
            "\n"
          ]
        }
      ],
      "source": [
        "model = EEGNet_JAN(num_classes=2)\n",
        "lambda_list, acc_list, disc_list = main(model, path='JAN.jpg')\n",
        "# model = EEGNet_JAN(num_classes=2)\n",
        "# source_data, source_label, val_data, val_label, target_data, target_label = read_bci_data()\n",
        "# train(model, source_data, source_label, val_data, val_label, target_data, target_label, lambda_factor=0, batch_size=1080, epochs=200, lr=1e-2, path='JAN', format='jpg')"
      ]
    },
    {
      "cell_type": "markdown",
      "metadata": {
        "id": "YWnzLk8sDbqC"
      },
      "source": [
        "# DJP-MMD"
      ]
    },
    {
      "cell_type": "code",
      "execution_count": 54,
      "metadata": {
        "id": "uwJvXjRGDaQi"
      },
      "outputs": [],
      "source": [
        "# MMD, JMMD, JPMMD, DJP-MMD\n",
        "def mmd_loss(x_src, y_src, x_tar, y_pseudo, mmd_type):\n",
        "    if mmd_type == 'mmd':\n",
        "        return rbf_mmd(x_src, x_tar, SIGMA)\n",
        "    elif mmd_type == 'jmmd':\n",
        "        return rbf_jmmd(x_src, y_src, x_tar, y_pseudo, SIGMA)\n",
        "    elif mmd_type == 'jpmmd':\n",
        "        return rbf_jpmmd(x_src, y_src, x_tar, y_pseudo, SIGMA)\n",
        "    elif mmd_type == 'djpmmd':\n",
        "        return rbf_djpmmd(x_src, y_src, x_tar, y_pseudo, SIGMA)\n",
        "    elif mmd_type == 'CS':\n",
        "        return CS(x_src, x_tar, sigma=SIGMA)\n",
        "    elif mmd_type == 'CCS':\n",
        "        return CS(x_src, features_tar, sigma=SIGMA)  + CCS(x_src, x_tar, y_src.float(), y_pseudo.float(), sigma=SIGMA)\n",
        "\n",
        "def test(data, label, model):\n",
        "    model.eval()\n",
        "    with torch.no_grad():\n",
        "        data, label = data.to(DEVICE), label.to(DEVICE)\n",
        "        pred, _, _ = model(data, data)\n",
        "\n",
        "        correct_cnt = (torch.max(pred, 1)[1] == label).sum().item()\n",
        "        sample_cnt = data.shape[0]\n",
        "        accuracy = correct_cnt / sample_cnt\n",
        "\n",
        "    return accuracy\n",
        "\n",
        "def lr_lambda(epoch):\n",
        "    if epoch < 100:\n",
        "        return 0.1\n",
        "    else:\n",
        "        lr = 0.1 ** ((epoch // 100) + 1)\n",
        "        return 1e-4 if lr < 1e-4 else lr\n",
        "\n",
        "\n",
        "def train(model, source_data, source_label, val_data, val_label, target_data, target_label, mmd_type='djpmmd', lambda_factor=0.5, batch_size=1080, epochs=500, lr=1e-1, path='test', format='jpg'):\n",
        "    train_dataset = TensorDataset(source_data, source_label)\n",
        "    val_dataset = TensorDataset(val_data, val_label)\n",
        "\n",
        "    train_loader = DataLoader(dataset=train_dataset, batch_size=batch_size, shuffle=True)\n",
        "    val_loader = DataLoader(dataset=val_dataset, batch_size=batch_size, shuffle=True)\n",
        "\n",
        "    loss_fn = nn.CrossEntropyLoss()\n",
        "\n",
        "    optimizer = optim.Adam(model.parameters(), lr = lr)\n",
        "    # optimizer = optim.SGD(model.parameters(), lr=lr, momentum=0.5, weight_decay=5e-4)\n",
        "    lr_scheduler = LambdaLR(optimizer, lr_lambda)\n",
        "\n",
        "    model.to(DEVICE)\n",
        "\n",
        "    # mmd_type = 'djpmmd'\n",
        "    y_pse = torch.zeros(1080).long().cuda()\n",
        "\n",
        "    clf_loss_history = []\n",
        "    mmd_loss_history = []\n",
        "    train_accuracy_history = []\n",
        "    val_accuracy_history = []\n",
        "    test_accuracy_history = []\n",
        "\n",
        "    best_acc = 0\n",
        "\n",
        "    for epoch in tqdm(range(epochs)):\n",
        "        model.train()\n",
        "\n",
        "        optimizer.zero_grad()\n",
        "\n",
        "        source_data, source_label = source_data.to(DEVICE), source_label.to(DEVICE)\n",
        "        # source_label.reshape(1080, 1)\n",
        "        target_data = target_data.to(DEVICE)\n",
        "        val_data, val_label = val_data.to(DEVICE), val_label.to(DEVICE)\n",
        "\n",
        "        y_src, features_src, features_tar = model(source_data, val_data)\n",
        "        # print(\"fshj\", y_src.shape)\n",
        "        # print(len(torch.unique(y_src)))\n",
        "\n",
        "        # compute loss\n",
        "        clf_loss = loss_fn(y_src, source_label)\n",
        "\n",
        "        loss_mmd = mmd_loss(features_src, source_label.long(), features_tar, y_pse, mmd_type) # use true lable in the source domain to compute loss\n",
        "        # loss_mmd = CS(features_src, features_tar, sigma=1, median_sigma=0)  + CCS(features_src, features_tar, source_label.float(), y_pse.float(), sigma=1, median_sigma=0)\n",
        "        # loss_mmd = torch.tensor(0)\n",
        "        # print('CS', CS(features_src, features_tar, sigma=1, median_sigma=0).item())\n",
        "        # print('CCS', CCS(features_src, features_tar, source_label.float(), y_pse.float(), sigma=1, median_sigma=0).item())\n",
        "        # print()\n",
        "        # float(): RuntimeError: \"dot\" not implemented for 'Long', PyTorch 的 dot 函数不支持这种数据类型。dot 函数通常用于浮点数类型的张量，如 float32 或 float64\n",
        "\n",
        "        loss = clf_loss + lambda_factor * loss_mmd\n",
        "        # loss = clf_loss / lambda_factor + loss_mmd\n",
        "\n",
        "        model.eval()\n",
        "        y_pse, _, _ = model(val_data, val_data)\n",
        "        y_pse = y_pse.detach().max(1)[1]\n",
        "\n",
        "        clf_loss_history.append(loss.item())\n",
        "        mmd_loss_history.append(loss_mmd.item())\n",
        "\n",
        "        correct_cnt = (torch.max(y_src, 1)[1] == source_label).sum().item()\n",
        "        accuracy = correct_cnt / source_data.shape[0]\n",
        "        train_accuracy_history.append(accuracy)\n",
        "\n",
        "        loss.backward()\n",
        "        optimizer.step()\n",
        "        lr_scheduler.step()\n",
        "\n",
        "\n",
        "        val_accuracy = test(val_data, val_label, model)\n",
        "        val_accuracy_history.append(val_accuracy)\n",
        "        if val_accuracy > best_acc:\n",
        "            best_acc = val_accuracy\n",
        "            # torch.save(model.state_dict(), 'DA_best_model.pth')\n",
        "            # print(f'Model saved at epoch {epoch+1} with validation accuracy: {val_accuracy:.4f}')\n",
        "\n",
        "            # print(\"LR: \", lr_scheduler.get_last_lr()[0], optimizer.state_dict()['param_groups'][0]['lr'])\n",
        "        # print(f'classification loss: {clf_loss.item()}, discrepency: {loss_mmd.item()}')\n",
        "\n",
        "    #     if epoch == epochs - 1:\n",
        "    #         tsne_visulization(features_src.cpu().detach().numpy(), features_tar.cpu().detach().numpy(), path='original.jpg')\n",
        "\n",
        "\n",
        "    # print(\"the best accuracy is: \", best_acc)\n",
        "    # with torch.no_grad():\n",
        "    #     model.load_state_dict(torch.load(\"DA_best_model.pth\"))\n",
        "    #     _, source_features, val_features = model(source_data.to(DEVICE), val_data.to(DEVICE))\n",
        "    #     tsne_visulization(source_features.cpu().detach().numpy(), val_features.cpu().detach().numpy(), path='original.jpg')\n",
        "\n",
        "    # plt.figure(figsize=(16, 4))\n",
        "    # plt.subplot(1, 2, 1)\n",
        "    # # plt.plot(loss_history, label=\"Loss\")\n",
        "    # plt.plot(train_accuracy_history, label='Train Accuracy')\n",
        "    # plt.plot(val_accuracy_history, label='Validation Accuracy')\n",
        "    # plt.plot(test_accuracy_history, label='Test Accuracy')\n",
        "    # plt.xlabel('Epochs')\n",
        "    # plt.ylabel('Accuracy')\n",
        "    # plt.legend()\n",
        "    # plt.title('Accuracy Curve')\n",
        "    # plt.grid(True)\n",
        "    # plt.show()\n",
        "\n",
        "\n",
        "    # plt.subplot(1, 2, 2)\n",
        "    # plt.plot(clf_loss_history, label=\"CLF Loss\")\n",
        "    # plt.plot(mmd_loss_history, label='MMD Loss')\n",
        "    # plt.xlabel('Epochs')\n",
        "    # plt.ylabel('Loss')\n",
        "    # plt.legend()\n",
        "    # plt.title('Loss Curve')\n",
        "    # plt.grid(True)\n",
        "    # plt.show()\n",
        "    discrepency = np.nanmean(mmd_loss_history)\n",
        "    print(f\"lambda={lambda_factor}, accuracy={best_acc}, mean discrepency={discrepency}\")\n",
        "\n",
        "    return best_acc, discrepency\n",
        "\n",
        "\n",
        "def main(model, mmd_type='djpmmd', path='demo.jpg'):\n",
        "    lambda_list = []\n",
        "    acc_list = []\n",
        "    disc_list = []\n",
        "\n",
        "    param_grid = {\n",
        "        'lambda_factor': [ 0.001, 0.05, 0.01, 0.1, 0.3, 0.5, 0.7, 0.9, 1, 3, 5, 7, 10, 13, 15, 17, 20, 50, 70, 100], #\n",
        "    }\n",
        "    for params in ParameterGrid(param_grid):\n",
        "        source_data, source_label, val_data, val_label, target_data, target_label = read_bci_data()\n",
        "        best_acc, discrepency = train(model, source_data, source_label, val_data, val_label, target_data, target_label, mmd_type='djpmmd', lambda_factor=params['lambda_factor'], batch_size=1080, epochs=200, lr=1e-2, path='DDC.jpg')\n",
        "        model.apply(init_weights)\n",
        "    return lambda_list, acc_list, disc_list"
      ]
    },
    {
      "cell_type": "code",
      "source": [
        "# LEARNING RATE FROM 1e-4 to 1e-1\n",
        "\n",
        "model = EEGNet_DA1(n_output=2)\n",
        "# model.apply(init_weights)\n",
        "main(model, 'DJP-MMD')\n",
        "# source_data, source_label, val_data, val_label, target_data, target_label = read_bci_data()\n",
        "# train(model, source_data, source_label, val_data, val_label, target_data, target_label, lambda_factor=0, batch_size=1080, epochs=200, lr=1e-2, path='DJPMMD', format='jpg')"
      ],
      "metadata": {
        "colab": {
          "base_uri": "https://localhost:8080/"
        },
        "id": "bPQ7He4b71-3",
        "outputId": "c888466e-75c8-4a3c-e59f-6af8b1921458"
      },
      "execution_count": 55,
      "outputs": [
        {
          "output_type": "stream",
          "name": "stdout",
          "text": [
            "torch.Size([1080, 1, 2, 750]) torch.Size([1080]) torch.Size([1080, 1, 2, 750]) torch.Size([1080]) torch.Size([1080, 1, 2, 750]) torch.Size([1080])\n"
          ]
        },
        {
          "output_type": "stream",
          "name": "stderr",
          "text": [
            "100%|██████████| 200/200 [00:13<00:00, 15.25it/s]\n"
          ]
        },
        {
          "output_type": "stream",
          "name": "stdout",
          "text": [
            "lambda=0.001, accuracy=0.5787037037037037, mean discrepency=0.002081270042981487\n",
            "torch.Size([1080, 1, 2, 750]) torch.Size([1080]) torch.Size([1080, 1, 2, 750]) torch.Size([1080]) torch.Size([1080, 1, 2, 750]) torch.Size([1080])\n"
          ]
        },
        {
          "output_type": "stream",
          "name": "stderr",
          "text": [
            "100%|██████████| 200/200 [00:13<00:00, 15.26it/s]\n"
          ]
        },
        {
          "output_type": "stream",
          "name": "stdout",
          "text": [
            "lambda=0.05, accuracy=0.5879629629629629, mean discrepency=0.0008575654905871488\n",
            "torch.Size([1080, 1, 2, 750]) torch.Size([1080]) torch.Size([1080, 1, 2, 750]) torch.Size([1080]) torch.Size([1080, 1, 2, 750]) torch.Size([1080])\n"
          ]
        },
        {
          "output_type": "stream",
          "name": "stderr",
          "text": [
            "100%|██████████| 200/200 [00:13<00:00, 15.29it/s]\n"
          ]
        },
        {
          "output_type": "stream",
          "name": "stdout",
          "text": [
            "lambda=0.01, accuracy=0.5814814814814815, mean discrepency=0.0008500602137064561\n",
            "torch.Size([1080, 1, 2, 750]) torch.Size([1080]) torch.Size([1080, 1, 2, 750]) torch.Size([1080]) torch.Size([1080, 1, 2, 750]) torch.Size([1080])\n"
          ]
        },
        {
          "output_type": "stream",
          "name": "stderr",
          "text": [
            "100%|██████████| 200/200 [00:13<00:00, 15.25it/s]\n"
          ]
        },
        {
          "output_type": "stream",
          "name": "stdout",
          "text": [
            "lambda=0.1, accuracy=0.5851851851851851, mean discrepency=0.0008431953261606395\n",
            "torch.Size([1080, 1, 2, 750]) torch.Size([1080]) torch.Size([1080, 1, 2, 750]) torch.Size([1080]) torch.Size([1080, 1, 2, 750]) torch.Size([1080])\n"
          ]
        },
        {
          "output_type": "stream",
          "name": "stderr",
          "text": [
            "100%|██████████| 200/200 [00:13<00:00, 15.25it/s]\n"
          ]
        },
        {
          "output_type": "stream",
          "name": "stdout",
          "text": [
            "lambda=0.3, accuracy=0.5981481481481481, mean discrepency=0.0008556038595270366\n",
            "torch.Size([1080, 1, 2, 750]) torch.Size([1080]) torch.Size([1080, 1, 2, 750]) torch.Size([1080]) torch.Size([1080, 1, 2, 750]) torch.Size([1080])\n"
          ]
        },
        {
          "output_type": "stream",
          "name": "stderr",
          "text": [
            "100%|██████████| 200/200 [00:13<00:00, 15.30it/s]\n"
          ]
        },
        {
          "output_type": "stream",
          "name": "stdout",
          "text": [
            "lambda=0.5, accuracy=0.587037037037037, mean discrepency=0.0008512167929438874\n",
            "torch.Size([1080, 1, 2, 750]) torch.Size([1080]) torch.Size([1080, 1, 2, 750]) torch.Size([1080]) torch.Size([1080, 1, 2, 750]) torch.Size([1080])\n"
          ]
        },
        {
          "output_type": "stream",
          "name": "stderr",
          "text": [
            "100%|██████████| 200/200 [00:13<00:00, 15.26it/s]\n"
          ]
        },
        {
          "output_type": "stream",
          "name": "stdout",
          "text": [
            "lambda=0.7, accuracy=0.5935185185185186, mean discrepency=0.0008533876980072819\n",
            "torch.Size([1080, 1, 2, 750]) torch.Size([1080]) torch.Size([1080, 1, 2, 750]) torch.Size([1080]) torch.Size([1080, 1, 2, 750]) torch.Size([1080])\n"
          ]
        },
        {
          "output_type": "stream",
          "name": "stderr",
          "text": [
            "100%|██████████| 200/200 [00:13<00:00, 15.28it/s]\n"
          ]
        },
        {
          "output_type": "stream",
          "name": "stdout",
          "text": [
            "lambda=0.9, accuracy=0.5935185185185186, mean discrepency=0.0008606409523054026\n",
            "torch.Size([1080, 1, 2, 750]) torch.Size([1080]) torch.Size([1080, 1, 2, 750]) torch.Size([1080]) torch.Size([1080, 1, 2, 750]) torch.Size([1080])\n"
          ]
        },
        {
          "output_type": "stream",
          "name": "stderr",
          "text": [
            "100%|██████████| 200/200 [00:13<00:00, 15.28it/s]\n"
          ]
        },
        {
          "output_type": "stream",
          "name": "stdout",
          "text": [
            "lambda=1, accuracy=0.5944444444444444, mean discrepency=0.0008489316568011418\n",
            "torch.Size([1080, 1, 2, 750]) torch.Size([1080]) torch.Size([1080, 1, 2, 750]) torch.Size([1080]) torch.Size([1080, 1, 2, 750]) torch.Size([1080])\n"
          ]
        },
        {
          "output_type": "stream",
          "name": "stderr",
          "text": [
            "100%|██████████| 200/200 [00:13<00:00, 15.26it/s]\n"
          ]
        },
        {
          "output_type": "stream",
          "name": "stdout",
          "text": [
            "lambda=3, accuracy=0.5925925925925926, mean discrepency=0.0008431385809672065\n",
            "torch.Size([1080, 1, 2, 750]) torch.Size([1080]) torch.Size([1080, 1, 2, 750]) torch.Size([1080]) torch.Size([1080, 1, 2, 750]) torch.Size([1080])\n"
          ]
        },
        {
          "output_type": "stream",
          "name": "stderr",
          "text": [
            "100%|██████████| 200/200 [00:13<00:00, 15.29it/s]\n"
          ]
        },
        {
          "output_type": "stream",
          "name": "stdout",
          "text": [
            "lambda=5, accuracy=0.5861111111111111, mean discrepency=0.0008532260154606774\n",
            "torch.Size([1080, 1, 2, 750]) torch.Size([1080]) torch.Size([1080, 1, 2, 750]) torch.Size([1080]) torch.Size([1080, 1, 2, 750]) torch.Size([1080])\n"
          ]
        },
        {
          "output_type": "stream",
          "name": "stderr",
          "text": [
            "100%|██████████| 200/200 [00:13<00:00, 15.29it/s]\n"
          ]
        },
        {
          "output_type": "stream",
          "name": "stdout",
          "text": [
            "lambda=7, accuracy=0.575925925925926, mean discrepency=0.0008381593597005121\n",
            "torch.Size([1080, 1, 2, 750]) torch.Size([1080]) torch.Size([1080, 1, 2, 750]) torch.Size([1080]) torch.Size([1080, 1, 2, 750]) torch.Size([1080])\n"
          ]
        },
        {
          "output_type": "stream",
          "name": "stderr",
          "text": [
            "100%|██████████| 200/200 [00:13<00:00, 15.25it/s]\n"
          ]
        },
        {
          "output_type": "stream",
          "name": "stdout",
          "text": [
            "lambda=10, accuracy=0.5842592592592593, mean discrepency=0.0008557457051938399\n",
            "torch.Size([1080, 1, 2, 750]) torch.Size([1080]) torch.Size([1080, 1, 2, 750]) torch.Size([1080]) torch.Size([1080, 1, 2, 750]) torch.Size([1080])\n"
          ]
        },
        {
          "output_type": "stream",
          "name": "stderr",
          "text": [
            "100%|██████████| 200/200 [00:13<00:00, 15.27it/s]\n"
          ]
        },
        {
          "output_type": "stream",
          "name": "stdout",
          "text": [
            "lambda=13, accuracy=0.5796296296296296, mean discrepency=0.0008625229794415645\n",
            "torch.Size([1080, 1, 2, 750]) torch.Size([1080]) torch.Size([1080, 1, 2, 750]) torch.Size([1080]) torch.Size([1080, 1, 2, 750]) torch.Size([1080])\n"
          ]
        },
        {
          "output_type": "stream",
          "name": "stderr",
          "text": [
            "100%|██████████| 200/200 [00:13<00:00, 15.28it/s]\n"
          ]
        },
        {
          "output_type": "stream",
          "name": "stdout",
          "text": [
            "lambda=15, accuracy=0.5740740740740741, mean discrepency=0.0008516338301706128\n",
            "torch.Size([1080, 1, 2, 750]) torch.Size([1080]) torch.Size([1080, 1, 2, 750]) torch.Size([1080]) torch.Size([1080, 1, 2, 750]) torch.Size([1080])\n"
          ]
        },
        {
          "output_type": "stream",
          "name": "stderr",
          "text": [
            "100%|██████████| 200/200 [00:13<00:00, 15.27it/s]\n"
          ]
        },
        {
          "output_type": "stream",
          "name": "stdout",
          "text": [
            "lambda=17, accuracy=0.5898148148148148, mean discrepency=0.0008501765094115399\n",
            "torch.Size([1080, 1, 2, 750]) torch.Size([1080]) torch.Size([1080, 1, 2, 750]) torch.Size([1080]) torch.Size([1080, 1, 2, 750]) torch.Size([1080])\n"
          ]
        },
        {
          "output_type": "stream",
          "name": "stderr",
          "text": [
            "100%|██████████| 200/200 [00:13<00:00, 15.32it/s]\n"
          ]
        },
        {
          "output_type": "stream",
          "name": "stdout",
          "text": [
            "lambda=20, accuracy=0.5953703703703703, mean discrepency=0.000853565135912504\n",
            "torch.Size([1080, 1, 2, 750]) torch.Size([1080]) torch.Size([1080, 1, 2, 750]) torch.Size([1080]) torch.Size([1080, 1, 2, 750]) torch.Size([1080])\n"
          ]
        },
        {
          "output_type": "stream",
          "name": "stderr",
          "text": [
            "100%|██████████| 200/200 [00:13<00:00, 15.27it/s]\n"
          ]
        },
        {
          "output_type": "stream",
          "name": "stdout",
          "text": [
            "lambda=50, accuracy=0.6083333333333333, mean discrepency=0.0008494825757225044\n",
            "torch.Size([1080, 1, 2, 750]) torch.Size([1080]) torch.Size([1080, 1, 2, 750]) torch.Size([1080]) torch.Size([1080, 1, 2, 750]) torch.Size([1080])\n"
          ]
        },
        {
          "output_type": "stream",
          "name": "stderr",
          "text": [
            "100%|██████████| 200/200 [00:13<00:00, 15.28it/s]\n"
          ]
        },
        {
          "output_type": "stream",
          "name": "stdout",
          "text": [
            "lambda=70, accuracy=0.575925925925926, mean discrepency=0.000847953702614177\n",
            "torch.Size([1080, 1, 2, 750]) torch.Size([1080]) torch.Size([1080, 1, 2, 750]) torch.Size([1080]) torch.Size([1080, 1, 2, 750]) torch.Size([1080])\n"
          ]
        },
        {
          "output_type": "stream",
          "name": "stderr",
          "text": [
            "100%|██████████| 200/200 [00:13<00:00, 15.30it/s]"
          ]
        },
        {
          "output_type": "stream",
          "name": "stdout",
          "text": [
            "lambda=100, accuracy=0.5907407407407408, mean discrepency=0.0008376980249886401\n"
          ]
        },
        {
          "output_type": "stream",
          "name": "stderr",
          "text": [
            "\n"
          ]
        },
        {
          "output_type": "execute_result",
          "data": {
            "text/plain": [
              "([], [], [])"
            ]
          },
          "metadata": {},
          "execution_count": 55
        }
      ]
    },
    {
      "cell_type": "code",
      "source": [
        "torch.cuda.device_count()"
      ],
      "metadata": {
        "colab": {
          "base_uri": "https://localhost:8080/"
        },
        "id": "t0dlVOfZG4i9",
        "outputId": "6d697f69-28c8-4b04-dac2-f76546fe084a"
      },
      "execution_count": null,
      "outputs": [
        {
          "output_type": "execute_result",
          "data": {
            "text/plain": [
              "1"
            ]
          },
          "metadata": {},
          "execution_count": 61
        }
      ]
    },
    {
      "cell_type": "markdown",
      "metadata": {
        "id": "XvR5-HX9mNRO"
      },
      "source": [
        "## TCA"
      ]
    },
    {
      "cell_type": "code",
      "execution_count": null,
      "metadata": {
        "id": "YC4eTF0MItwN"
      },
      "outputs": [],
      "source": [
        "import numpy as np\n",
        "import scipy.io\n",
        "import scipy.linalg\n",
        "import sklearn.metrics\n",
        "from sklearn.neighbors import KNeighborsClassifier\n",
        "from sklearn.model_selection import train_test_split\n",
        "\n",
        "\n",
        "def kernel(ker, X1, X2, gamma):\n",
        "    K = None\n",
        "    if not ker or ker == 'primal':\n",
        "        K = X1\n",
        "    elif ker == 'linear':\n",
        "        if X2 is not None:\n",
        "            K = sklearn.metrics.pairwise.linear_kernel(\n",
        "                np.asarray(X1).T, np.asarray(X2).T)\n",
        "        else:\n",
        "            K = sklearn.metrics.pairwise.linear_kernel(np.asarray(X1).T)\n",
        "    elif ker == 'rbf':\n",
        "        if X2 is not None:\n",
        "            K = sklearn.metrics.pairwise.rbf_kernel(\n",
        "                np.asarray(X1).T, np.asarray(X2).T, gamma)\n",
        "        else:\n",
        "            K = sklearn.metrics.pairwise.rbf_kernel(\n",
        "                np.asarray(X1).T, None, gamma)\n",
        "    return K\n",
        "\n",
        "\n",
        "class TCA:\n",
        "    def __init__(self, kernel_type='primal', dim=30, lamb=1, gamma=1):\n",
        "        '''\n",
        "        Init func\n",
        "        :param kernel_type: kernel, values: 'primal' | 'linear' | 'rbf'\n",
        "        :param dim: dimension after transfer\n",
        "        :param lamb: lambda value in equation\n",
        "        :param gamma: kernel bandwidth for rbf kernel\n",
        "        '''\n",
        "        self.kernel_type = kernel_type\n",
        "        self.dim = dim\n",
        "        self.lamb = lamb\n",
        "        self.gamma = gamma\n",
        "\n",
        "    def fit(self, Xs, Xt):\n",
        "        '''\n",
        "        Transform Xs and Xt\n",
        "        :param Xs: ns * n_feature, source feature\n",
        "        :param Xt: nt * n_feature, target feature\n",
        "        :return: Xs_new and Xt_new after TCA\n",
        "        '''\n",
        "        X = np.hstack((Xs.T, Xt.T))\n",
        "        X /= np.linalg.norm(X, axis=0)\n",
        "        m, n = X.shape\n",
        "        ns, nt = len(Xs), len(Xt)\n",
        "        e = np.vstack((1 / ns * np.ones((ns, 1)), -1 / nt * np.ones((nt, 1))))\n",
        "        M = e * e.T\n",
        "        M = M / np.linalg.norm(M, 'fro')\n",
        "        H = np.eye(n) - 1 / n * np.ones((n, n))\n",
        "        K = kernel(self.kernel_type, X, None, gamma=self.gamma)\n",
        "        n_eye = m if self.kernel_type == 'primal' else n\n",
        "        a, b = K @ M @ K.T + self.lamb * np.eye(n_eye), K @ H @ K.T\n",
        "        w, V = scipy.linalg.eig(a, b)\n",
        "        ind = np.argsort(w)\n",
        "        A = V[:, ind[:self.dim]]\n",
        "        Z = A.T @ K\n",
        "        Z /= np.linalg.norm(Z, axis=0)\n",
        "\n",
        "        Xs_new, Xt_new = Z[:, :ns].T, Z[:, ns:].T\n",
        "        return Xs_new, Xt_new\n",
        "\n",
        "    def fit_predict(self, Xs, Ys, Xt, Yt):\n",
        "        '''\n",
        "        Transform Xs and Xt, then make predictions on target using 1NN\n",
        "        :param Xs: ns * n_feature, source feature\n",
        "        :param Ys: ns * 1, source label\n",
        "        :param Xt: nt * n_feature, target feature\n",
        "        :param Yt: nt * 1, target label\n",
        "        :return: Accuracy and predicted_labels on the target domain\n",
        "        '''\n",
        "        Xs_new, Xt_new = self.fit(Xs, Xt)\n",
        "        clf = KNeighborsClassifier(n_neighbors=1)\n",
        "        clf.fit(Xs_new, Ys.ravel())\n",
        "        y_pred = clf.predict(Xt_new)\n",
        "        acc = sklearn.metrics.accuracy_score(Yt, y_pred)\n",
        "\n",
        "        return acc, y_pred\n",
        "\n",
        "    # TCA code is done here. You can ignore fit_new and fit_predict_new.\n",
        "\n",
        "    def fit_new(self, Xs, Xt, Xt2):\n",
        "        '''\n",
        "        Map Xt2 to the latent space created from Xt and Xs\n",
        "        :param Xs : ns * n_feature, source feature\n",
        "        :param Xt : nt * n_feature, target feature\n",
        "        :param Xt2: n_s, n_feature, target feature to be mapped\n",
        "        :return: Xt2_new, mapped Xt2 with projection created by Xs and Xt\n",
        "        '''\n",
        "        # Computing projection matrix A from Xs an Xt\n",
        "        X = np.hstack((Xs.T, Xt.T))\n",
        "        X /= np.linalg.norm(X, axis=0)\n",
        "        m, n = X.shape\n",
        "        ns, nt = len(Xs), len(Xt)\n",
        "        e = np.vstack((1 / ns * np.ones((ns, 1)), -1 / nt * np.ones((nt, 1))))\n",
        "        M = e * e.T\n",
        "        M = M / np.linalg.norm(M, 'fro')\n",
        "        H = np.eye(n) - 1 / n * np.ones((n, n))\n",
        "        K = kernel(self.kernel_type, X, None, gamma=self.gamma)\n",
        "        n_eye = m if self.kernel_type == 'primal' else n\n",
        "        a, b = np.linalg.multi_dot(\n",
        "            [K, M, K.T]) + self.lamb * np.eye(n_eye), np.linalg.multi_dot([K, H, K.T])\n",
        "        w, V = scipy.linalg.eig(a, b)\n",
        "        ind = np.argsort(w)\n",
        "        A = V[:, ind[:self.dim]]\n",
        "\n",
        "        # Compute kernel with Xt2 as target and X as source\n",
        "        Xt2 = Xt2.T\n",
        "        K = kernel(self.kernel_type, X1=Xt2, X2=X, gamma=self.gamma)\n",
        "\n",
        "        # New target features\n",
        "        Xt2_new = K @ A\n",
        "\n",
        "        return Xt2_new\n",
        "\n",
        "    def fit_predict_new(self, Xt, Xs, Ys, Xt2, Yt2):\n",
        "        '''\n",
        "        Transfrom Xt and Xs, get Xs_new\n",
        "        Transform Xt2 with projection matrix created by Xs and Xt, get Xt2_new\n",
        "        Make predictions on Xt2_new using classifier trained on Xs_new\n",
        "        :param Xt: ns * n_feature, target feature\n",
        "        :param Xs: ns * n_feature, source feature\n",
        "        :param Ys: ns * 1, source label\n",
        "        :param Xt2: nt * n_feature, new target feature\n",
        "        :param Yt2: nt * 1, new target label\n",
        "        :return: Accuracy and predicted_labels on the target domain\n",
        "        '''\n",
        "        Xs_new, _ = self.fit(Xs, Xt)\n",
        "        Xt2_new = self.fit_new(Xs, Xt, Xt2)\n",
        "        clf = KNeighborsClassifier(n_neighbors=1)\n",
        "        clf.fit(Xs_new, Ys.ravel())\n",
        "        y_pred = clf.predict(Xt2_new)\n",
        "        acc = sklearn.metrics.accuracy_score(Yt2, y_pred)\n",
        "\n",
        "        return acc, y_pred\n",
        "\n",
        "\n",
        "def train_valid(source_data, source_lable, val_data, val_label, target_data, target_label):\n",
        "\n",
        "    source_data, val_data, target_data = source_data.reshape(source_data.shape[0], -1), val_data.reshape(val_data.shape[0], -1), target_data.reshape(target_data.shape[0], -1)\n",
        "\n",
        "    # Create latent space and evaluate using Xs and Xt1\n",
        "    tca = TCA(kernel_type='linear', dim=30, lamb=1, gamma=1)\n",
        "    acc1, ypre1 = tca.fit_predict(source_data, source_label, val_data, val_label)\n",
        "\n",
        "    # Project and evaluate Xt2 existing projection matrix and classifier\n",
        "    acc2, ypre2 = tca.fit_predict_new(val_data, source_data, source_label, target_data, target_label)\n",
        "\n",
        "    print(f'Accuracy of mapped source and target1 data : {acc1:.3f}')  # 0.800\n",
        "    print(f'Accuracy of mapped target2 data            : {acc2:.3f}')  # 0.706\n",
        "\n",
        "\n"
      ]
    },
    {
      "cell_type": "code",
      "execution_count": null,
      "metadata": {
        "id": "KPySBQMAU2WH"
      },
      "outputs": [],
      "source": [
        "train_valid(source_data, source_label, val_data, val_label, target_data, target_label)"
      ]
    },
    {
      "cell_type": "code",
      "execution_count": null,
      "metadata": {
        "id": "k69IEiN5mVvg"
      },
      "outputs": [],
      "source": []
    },
    {
      "cell_type": "code",
      "execution_count": null,
      "metadata": {
        "id": "l9c3S9TImYRp"
      },
      "outputs": [],
      "source": [
        "tca = TCA(kernel_type='linear', dim=30, lamb=1, gamma=1)\n",
        "acc, ypred = tca.fit_predict(source_data, source_label, target_data, target_label)\n",
        "print(f'Accuracy: {acc:.3f}')"
      ]
    },
    {
      "cell_type": "code",
      "execution_count": null,
      "metadata": {
        "id": "HINiF7dlqvKk"
      },
      "outputs": [],
      "source": []
    },
    {
      "cell_type": "code",
      "execution_count": null,
      "metadata": {
        "id": "ZoxaSiYdsKo3"
      },
      "outputs": [],
      "source": []
    },
    {
      "cell_type": "markdown",
      "metadata": {
        "id": "9-3xyfsCsMI_"
      },
      "source": [
        "## DaNN"
      ]
    },
    {
      "cell_type": "code",
      "execution_count": null,
      "metadata": {
        "id": "SCdKRvfPsOBR"
      },
      "outputs": [],
      "source": []
    }
  ],
  "metadata": {
    "accelerator": "GPU",
    "colab": {
      "collapsed_sections": [
        "XvR5-HX9mNRO"
      ],
      "provenance": [],
      "machine_shape": "hm",
      "gpuType": "V100",
      "mount_file_id": "1tPfOD35-l9KsSd3SgXaB6YN9NeoDQ-Ea",
      "authorship_tag": "ABX9TyMvHyc0wLbNNJI1vP+rCrlN",
      "include_colab_link": true
    },
    "kernelspec": {
      "display_name": "Python 3",
      "name": "python3"
    },
    "language_info": {
      "name": "python"
    }
  },
  "nbformat": 4,
  "nbformat_minor": 0
}